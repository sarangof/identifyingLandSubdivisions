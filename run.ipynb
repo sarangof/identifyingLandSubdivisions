{
 "cells": [
  {
   "cell_type": "code",
   "execution_count": 1,
   "id": "dfae776d-1bfe-4b19-b1ec-cadeac6a7c3b",
   "metadata": {},
   "outputs": [],
   "source": [
    "%load_ext autoreload"
   ]
  },
  {
   "cell_type": "code",
   "execution_count": 2,
   "id": "1d6537ee-911c-4d44-983a-f4e39afa69b7",
   "metadata": {},
   "outputs": [
    {
     "name": "stdout",
     "output_type": "stream",
     "text": [
      "Available memory: 60.28 GB\n"
     ]
    }
   ],
   "source": [
    "import psutil\n",
    "\n",
    "mem = psutil.virtual_memory()\n",
    "available_memory = mem.available / (1024 * 1024 * 1024)  # Convert to MB\n",
    "\n",
    "print(f\"Available memory: {available_memory:.2f} GB\")\n",
    "\n",
    "pct_to_use = 0.8\n"
   ]
  },
  {
   "cell_type": "markdown",
   "id": "0ce43995",
   "metadata": {},
   "source": [
    "# Define cities"
   ]
  },
  {
   "cell_type": "code",
   "execution_count": 3,
   "id": "51118b1f-6f6c-4c18-8f01-908a958ee201",
   "metadata": {},
   "outputs": [
    {
     "data": {
      "text/plain": [
       "11"
      ]
     },
     "execution_count": 3,
     "metadata": {},
     "output_type": "execute_result"
    }
   ],
   "source": [
    "# List of cities to process\n",
    "cities = [\"Abidjan\", \"Accra\", \"Bamako\", \"Belo_Horizonte\", \n",
    "         \"Bogota\", \"Campinas\", \"Cape_Town\", \"Lagos\",\n",
    "        \"Luanda\", \"Nairobi\",\"Medellin\"]#\"Maputo\",  \"Mogadishu\",\n",
    "\n",
    "#test_cities = ['Nairobi'] #[\"Belo_Horizonte\", \"Bogota\"] #\"Belo_Horizonte\",\n",
    "#cities = test_cities\n",
    "\n",
    "\n",
    "number_of_cities = len(cities)\n",
    "\n",
    "number_of_cities"
   ]
  },
  {
   "cell_type": "markdown",
   "id": "e88b84c6",
   "metadata": {},
   "source": [
    "# Dask on Coiled notebook"
   ]
  },
  {
   "cell_type": "code",
   "execution_count": 4,
   "id": "c5f720ce-ecf5-4780-bc16-438703c6322f",
   "metadata": {},
   "outputs": [
    {
     "name": "stdout",
     "output_type": "stream",
     "text": [
      "Started a new Dask client. Dashboard is available at https://cluster-ufluh.dask.host/jupyter/proxy/8787/status\n"
     ]
    }
   ],
   "source": [
    "from dask.distributed import Client, LocalCluster\n",
    "\n",
    "N_WORKERS = 5  # Reduce workers to avoid excessive parallel memory load\n",
    "THREADS_PER_WORKER = 5  # More threads per worker for better resource utilization\n",
    "MEMORY_LIMIT = \"48GB\"  # Increase memory per worker\n",
    "\n",
    "cluster = LocalCluster(n_workers=N_WORKERS, threads_per_worker=THREADS_PER_WORKER, memory_limit=MEMORY_LIMIT)\n",
    "client = Client(cluster)\n",
    "print(f\"Started a new Dask client. Dashboard is available at {client.dashboard_link}\")\n"
   ]
  },
  {
   "cell_type": "markdown",
   "id": "fc4f2b1a",
   "metadata": {},
   "source": [
    "# Run code"
   ]
  },
  {
   "cell_type": "code",
   "execution_count": 5,
   "id": "401bd06b-00eb-453a-acd0-d98dd499d5ad",
   "metadata": {},
   "outputs": [
    {
     "name": "stdout",
     "output_type": "stream",
     "text": [
      "Entering run_all\n",
      "✅ File exists in S3: s3://wri-cities-sandbox/identifyingLandSubdivisions/data/input/city_info/search_buffers/Belo_Horizonte/Belo_Horizonte_search_buffer.geoparquet\n",
      "✅ File exists in S3: s3://wri-cities-sandbox/identifyingLandSubdivisions/data/input/city_info/search_buffers/Bamako/Bamako_search_buffer.geoparquet\n",
      "✅ File exists in S3: s3://wri-cities-sandbox/identifyingLandSubdivisions/data/input/city_info/search_buffers/Luanda/Luanda_search_buffer.geoparquet\n",
      "✅ File exists in S3: s3://wri-cities-sandbox/identifyingLandSubdivisions/data/input/city_info/search_buffers/Medellin/Medellin_search_buffer.geoparquet\n",
      "✅ File exists in S3: s3://wri-cities-sandbox/identifyingLandSubdivisions/data/input/city_info/search_buffers/Cape_Town/Cape_Town_search_buffer.geoparquet\n",
      "✅ File exists in S3: s3://wri-cities-sandbox/identifyingLandSubdivisions/data/input/city_info/search_buffers/Lagos/Lagos_search_buffer.geoparquet\n",
      "✅ File exists in S3: s3://wri-cities-sandbox/identifyingLandSubdivisions/data/input/city_info/search_buffers/Campinas/Campinas_search_buffer.geoparquet\n",
      "✅ File exists in S3: s3://wri-cities-sandbox/identifyingLandSubdivisions/data/input/city_info/search_buffers/Accra/Accra_search_buffer.geoparquet\n",
      "✅ File exists in S3: s3://wri-cities-sandbox/identifyingLandSubdivisions/data/input/city_info/search_buffers/Abidjan/Abidjan_search_buffer.geoparquet\n",
      "✅ File exists in S3: s3://wri-cities-sandbox/identifyingLandSubdivisions/data/input/city_info/search_buffers/Bogota/Bogota_search_buffer.geoparquet\n",
      "✅ Successfully read file for Luanda: 1 rows\n",
      "✅ Successfully read file for Cape_Town: 1 rows\n",
      "✅ File exists in S3: s3://wri-cities-sandbox/identifyingLandSubdivisions/data/input/city_info/search_buffers/Nairobi/Nairobi_search_buffer.geoparquet\n",
      "✅ Successfully read file for Campinas: 1 rows\n",
      "✅ Successfully read file for Bamako: 1 rows\n",
      "✅ Successfully read file for Belo_Horizonte: 1 rows\n",
      "✅ Successfully read file for Medellin: 1 rows\n",
      "✅ Successfully read file for Accra: 1 rows\n",
      "✅ Successfully read file for Nairobi: 1 rows\n",
      "✅ Successfully read file for Bogota: 1 rows\n",
      "✅ Successfully read file for Abidjan: 1 rows\n",
      "✅ Successfully read file for Lagos: 1 rows\n",
      "Tasks completed in 332.37 seconds.\n"
     ]
    }
   ],
   "source": [
    "import time\n",
    "start_time = time.time()  # Start the timer\n",
    "\n",
    "#%autoreload\n",
    "from gather_data_cities import run_all\n",
    "run_all(cities) \n",
    "\n",
    "end_time = time.time()  # End the timer\n",
    "elapsed_time = end_time - start_time\n",
    "\n",
    "print(f\"Tasks completed in {elapsed_time:.2f} seconds.\")"
   ]
  },
  {
   "cell_type": "code",
   "execution_count": 5,
   "id": "fd3d0023-1cca-4a3b-a383-5ed4eae52790",
   "metadata": {},
   "outputs": [
    {
     "ename": "KeyboardInterrupt",
     "evalue": "",
     "output_type": "error",
     "traceback": [
      "\u001b[0;31m---------------------------------------------------------------------------\u001b[0m",
      "\u001b[0;31mKeyboardInterrupt\u001b[0m                         Traceback (most recent call last)",
      "Cell \u001b[0;32mIn[5], line 7\u001b[0m\n\u001b[1;32m      4\u001b[0m start_time \u001b[38;5;241m=\u001b[39m time\u001b[38;5;241m.\u001b[39mtime()  \u001b[38;5;66;03m# Start the timer\u001b[39;00m\n\u001b[1;32m      6\u001b[0m get_ipython()\u001b[38;5;241m.\u001b[39mrun_line_magic(\u001b[38;5;124m'\u001b[39m\u001b[38;5;124mautoreload\u001b[39m\u001b[38;5;124m'\u001b[39m, \u001b[38;5;124m'\u001b[39m\u001b[38;5;124m'\u001b[39m)\n\u001b[0;32m----> 7\u001b[0m \u001b[38;5;28;01mfrom\u001b[39;00m\u001b[38;5;250m \u001b[39m\u001b[38;5;21;01mmain\u001b[39;00m\u001b[38;5;250m \u001b[39m\u001b[38;5;28;01mimport\u001b[39;00m \u001b[38;5;241m*\u001b[39m\n\u001b[1;32m     10\u001b[0m \u001b[38;5;28;01mdef\u001b[39;00m\u001b[38;5;250m \u001b[39m\u001b[38;5;21mrun_all_cities\u001b[39m(city_list):\n\u001b[1;32m     11\u001b[0m     \u001b[38;5;66;03m#delayed_jobs = [delayed(calculate_building_distances_to_roads)(city) for city in city_list]\u001b[39;00m\n\u001b[1;32m     12\u001b[0m     \u001b[38;5;66;03m#delayed_jobs.append([delayed(produce_blocks)(city) for city in city_list])\u001b[39;00m\n\u001b[1;32m     13\u001b[0m     delayed_jobs \u001b[38;5;241m=\u001b[39m [calculate_building_distances_to_roads(city) \u001b[38;5;28;01mfor\u001b[39;00m city \u001b[38;5;129;01min\u001b[39;00m city_list]\n",
      "File \u001b[0;32m/scratch/synced/main.py:299\u001b[0m\n\u001b[1;32m    297\u001b[0m tasks\u001b[38;5;241m.\u001b[39mappend([compute_m6_m7_m8(city_name) \u001b[38;5;28;01mfor\u001b[39;00m city_name \u001b[38;5;129;01min\u001b[39;00m cities])\n\u001b[1;32m    298\u001b[0m tasks\u001b[38;5;241m.\u001b[39mappend([metrics_roads_intersections(city_name) \u001b[38;5;28;01mfor\u001b[39;00m city_name \u001b[38;5;129;01min\u001b[39;00m cities])\n\u001b[0;32m--> 299\u001b[0m results \u001b[38;5;241m=\u001b[39m \u001b[43mcompute\u001b[49m\u001b[43m(\u001b[49m\u001b[38;5;241;43m*\u001b[39;49m\u001b[43mtasks\u001b[49m\u001b[43m)\u001b[49m  \n\u001b[1;32m    301\u001b[0m end_time \u001b[38;5;241m=\u001b[39m time\u001b[38;5;241m.\u001b[39mtime()  \u001b[38;5;66;03m# End the timer\u001b[39;00m\n\u001b[1;32m    302\u001b[0m elapsed_time \u001b[38;5;241m=\u001b[39m end_time \u001b[38;5;241m-\u001b[39m start_time\n",
      "File \u001b[0;32m/opt/coiled/env/lib/python3.12/site-packages/dask/base.py:662\u001b[0m, in \u001b[0;36mcompute\u001b[0;34m(traverse, optimize_graph, scheduler, get, *args, **kwargs)\u001b[0m\n\u001b[1;32m    659\u001b[0m     postcomputes\u001b[38;5;241m.\u001b[39mappend(x\u001b[38;5;241m.\u001b[39m__dask_postcompute__())\n\u001b[1;32m    661\u001b[0m \u001b[38;5;28;01mwith\u001b[39;00m shorten_traceback():\n\u001b[0;32m--> 662\u001b[0m     results \u001b[38;5;241m=\u001b[39m \u001b[43mschedule\u001b[49m\u001b[43m(\u001b[49m\u001b[43mdsk\u001b[49m\u001b[43m,\u001b[49m\u001b[43m \u001b[49m\u001b[43mkeys\u001b[49m\u001b[43m,\u001b[49m\u001b[43m \u001b[49m\u001b[38;5;241;43m*\u001b[39;49m\u001b[38;5;241;43m*\u001b[39;49m\u001b[43mkwargs\u001b[49m\u001b[43m)\u001b[49m\n\u001b[1;32m    664\u001b[0m \u001b[38;5;28;01mreturn\u001b[39;00m repack([f(r, \u001b[38;5;241m*\u001b[39ma) \u001b[38;5;28;01mfor\u001b[39;00m r, (f, a) \u001b[38;5;129;01min\u001b[39;00m \u001b[38;5;28mzip\u001b[39m(results, postcomputes)])\n",
      "File \u001b[0;32m/opt/coiled/env/lib/python3.12/threading.py:655\u001b[0m, in \u001b[0;36mEvent.wait\u001b[0;34m(self, timeout)\u001b[0m\n\u001b[1;32m    653\u001b[0m signaled \u001b[38;5;241m=\u001b[39m \u001b[38;5;28mself\u001b[39m\u001b[38;5;241m.\u001b[39m_flag\n\u001b[1;32m    654\u001b[0m \u001b[38;5;28;01mif\u001b[39;00m \u001b[38;5;129;01mnot\u001b[39;00m signaled:\n\u001b[0;32m--> 655\u001b[0m     signaled \u001b[38;5;241m=\u001b[39m \u001b[38;5;28;43mself\u001b[39;49m\u001b[38;5;241;43m.\u001b[39;49m\u001b[43m_cond\u001b[49m\u001b[38;5;241;43m.\u001b[39;49m\u001b[43mwait\u001b[49m\u001b[43m(\u001b[49m\u001b[43mtimeout\u001b[49m\u001b[43m)\u001b[49m\n\u001b[1;32m    656\u001b[0m \u001b[38;5;28;01mreturn\u001b[39;00m signaled\n",
      "File \u001b[0;32m/opt/coiled/env/lib/python3.12/threading.py:359\u001b[0m, in \u001b[0;36mCondition.wait\u001b[0;34m(self, timeout)\u001b[0m\n\u001b[1;32m    357\u001b[0m \u001b[38;5;28;01melse\u001b[39;00m:\n\u001b[1;32m    358\u001b[0m     \u001b[38;5;28;01mif\u001b[39;00m timeout \u001b[38;5;241m>\u001b[39m \u001b[38;5;241m0\u001b[39m:\n\u001b[0;32m--> 359\u001b[0m         gotit \u001b[38;5;241m=\u001b[39m \u001b[43mwaiter\u001b[49m\u001b[38;5;241;43m.\u001b[39;49m\u001b[43macquire\u001b[49m\u001b[43m(\u001b[49m\u001b[38;5;28;43;01mTrue\u001b[39;49;00m\u001b[43m,\u001b[49m\u001b[43m \u001b[49m\u001b[43mtimeout\u001b[49m\u001b[43m)\u001b[49m\n\u001b[1;32m    360\u001b[0m     \u001b[38;5;28;01melse\u001b[39;00m:\n\u001b[1;32m    361\u001b[0m         gotit \u001b[38;5;241m=\u001b[39m waiter\u001b[38;5;241m.\u001b[39macquire(\u001b[38;5;28;01mFalse\u001b[39;00m)\n",
      "\u001b[0;31mKeyboardInterrupt\u001b[0m: "
     ]
    },
    {
     "name": "stderr",
     "output_type": "stream",
     "text": [
      "2025-04-28 17:30:47,059 - distributed.nanny - ERROR - Worker process died unexpectedly\n",
      "Process Dask Worker process (from Nanny):\n",
      "Traceback (most recent call last):\n",
      "  File \"/opt/coiled/env/lib/python3.12/asyncio/runners.py\", line 118, in run\n",
      "    return self._loop.run_until_complete(task)\n",
      "           ^^^^^^^^^^^^^^^^^^^^^^^^^^^^^^^^^^^\n",
      "  File \"/opt/coiled/env/lib/python3.12/asyncio/base_events.py\", line 691, in run_until_complete\n",
      "    return future.result()\n",
      "           ^^^^^^^^^^^^^^^\n",
      "  File \"/opt/coiled/env/lib/python3.12/site-packages/distributed/nanny.py\", line 985, in run\n",
      "    await worker.finished()\n",
      "  File \"/opt/coiled/env/lib/python3.12/site-packages/distributed/core.py\", line 494, in finished\n",
      "    await self._event_finished.wait()\n",
      "  File \"/opt/coiled/env/lib/python3.12/asyncio/locks.py\", line 212, in wait\n",
      "    await fut\n",
      "asyncio.exceptions.CancelledError\n",
      "\n",
      "During handling of the above exception, another exception occurred:\n",
      "\n",
      "Traceback (most recent call last):\n",
      "  File \"/opt/coiled/env/lib/python3.12/multiprocessing/process.py\", line 314, in _bootstrap\n",
      "    self.run()\n",
      "  File \"/opt/coiled/env/lib/python3.12/multiprocessing/process.py\", line 108, in run\n",
      "    self._target(*self._args, **self._kwargs)\n",
      "  File \"/opt/coiled/env/lib/python3.12/site-packages/distributed/process.py\", line 202, in _run\n",
      "    target(*args, **kwargs)\n",
      "  File \"/opt/coiled/env/lib/python3.12/site-packages/distributed/nanny.py\", line 1023, in _run\n",
      "    asyncio_run(run(), loop_factory=get_loop_factory())\n",
      "  File \"/opt/coiled/env/lib/python3.12/asyncio/runners.py\", line 195, in run\n",
      "    return runner.run(main)\n",
      "           ^^^^^^^^^^^^^^^^\n",
      "  File \"/opt/coiled/env/lib/python3.12/asyncio/runners.py\", line 123, in run\n",
      "    raise KeyboardInterrupt()\n",
      "KeyboardInterrupt\n",
      "2025-04-28 17:30:47,646 - distributed.nanny - ERROR - Worker process died unexpectedly\n",
      "Process Dask Worker process (from Nanny):\n",
      "Traceback (most recent call last):\n",
      "  File \"/opt/coiled/env/lib/python3.12/asyncio/runners.py\", line 118, in run\n",
      "    return self._loop.run_until_complete(task)\n",
      "           ^^^^^^^^^^^^^^^^^^^^^^^^^^^^^^^^^^^\n",
      "  File \"/opt/coiled/env/lib/python3.12/asyncio/base_events.py\", line 691, in run_until_complete\n",
      "    return future.result()\n",
      "           ^^^^^^^^^^^^^^^\n",
      "  File \"/opt/coiled/env/lib/python3.12/site-packages/distributed/nanny.py\", line 985, in run\n",
      "    await worker.finished()\n",
      "  File \"/opt/coiled/env/lib/python3.12/site-packages/distributed/core.py\", line 494, in finished\n",
      "    await self._event_finished.wait()\n",
      "  File \"/opt/coiled/env/lib/python3.12/asyncio/locks.py\", line 212, in wait\n",
      "    await fut\n",
      "asyncio.exceptions.CancelledError\n",
      "\n",
      "During handling of the above exception, another exception occurred:\n",
      "\n",
      "Traceback (most recent call last):\n",
      "  File \"/opt/coiled/env/lib/python3.12/multiprocessing/process.py\", line 314, in _bootstrap\n",
      "    self.run()\n",
      "  File \"/opt/coiled/env/lib/python3.12/multiprocessing/process.py\", line 108, in run\n",
      "    self._target(*self._args, **self._kwargs)\n",
      "  File \"/opt/coiled/env/lib/python3.12/site-packages/distributed/process.py\", line 202, in _run\n",
      "    target(*args, **kwargs)\n",
      "  File \"/opt/coiled/env/lib/python3.12/site-packages/distributed/nanny.py\", line 1023, in _run\n",
      "    asyncio_run(run(), loop_factory=get_loop_factory())\n",
      "  File \"/opt/coiled/env/lib/python3.12/asyncio/runners.py\", line 195, in run\n",
      "    return runner.run(main)\n",
      "           ^^^^^^^^^^^^^^^^\n",
      "  File \"/opt/coiled/env/lib/python3.12/asyncio/runners.py\", line 123, in run\n",
      "    raise KeyboardInterrupt()\n",
      "KeyboardInterrupt\n",
      "Process Dask Worker process (from Nanny):\n",
      "Traceback (most recent call last):\n",
      "  File \"/opt/coiled/env/lib/python3.12/asyncio/runners.py\", line 118, in run\n",
      "    return self._loop.run_until_complete(task)\n",
      "           ^^^^^^^^^^^^^^^^^^^^^^^^^^^^^^^^^^^\n",
      "  File \"/opt/coiled/env/lib/python3.12/asyncio/base_events.py\", line 691, in run_until_complete\n",
      "    return future.result()\n",
      "           ^^^^^^^^^^^^^^^\n",
      "  File \"/opt/coiled/env/lib/python3.12/site-packages/distributed/nanny.py\", line 985, in run\n",
      "    await worker.finished()\n",
      "  File \"/opt/coiled/env/lib/python3.12/site-packages/distributed/core.py\", line 494, in finished\n",
      "    await self._event_finished.wait()\n",
      "  File \"/opt/coiled/env/lib/python3.12/asyncio/locks.py\", line 212, in wait\n",
      "    await fut\n",
      "asyncio.exceptions.CancelledError\n",
      "\n",
      "During handling of the above exception, another exception occurred:\n",
      "\n",
      "Traceback (most recent call last):\n",
      "  File \"/opt/coiled/env/lib/python3.12/multiprocessing/process.py\", line 314, in _bootstrap\n",
      "    self.run()\n",
      "  File \"/opt/coiled/env/lib/python3.12/multiprocessing/process.py\", line 108, in run\n",
      "    self._target(*self._args, **self._kwargs)\n",
      "  File \"/opt/coiled/env/lib/python3.12/site-packages/distributed/process.py\", line 202, in _run\n",
      "    target(*args, **kwargs)\n",
      "  File \"/opt/coiled/env/lib/python3.12/site-packages/distributed/nanny.py\", line 1023, in _run\n",
      "    asyncio_run(run(), loop_factory=get_loop_factory())\n",
      "  File \"/opt/coiled/env/lib/python3.12/asyncio/runners.py\", line 195, in run\n",
      "    return runner.run(main)\n",
      "           ^^^^^^^^^^^^^^^^\n",
      "  File \"/opt/coiled/env/lib/python3.12/asyncio/runners.py\", line 123, in run\n",
      "    raise KeyboardInterrupt()\n",
      "KeyboardInterrupt\n",
      "Process Dask Worker process (from Nanny):\n",
      "Traceback (most recent call last):\n",
      "  File \"/opt/coiled/env/lib/python3.12/asyncio/runners.py\", line 118, in run\n",
      "    return self._loop.run_until_complete(task)\n",
      "           ^^^^^^^^^^^^^^^^^^^^^^^^^^^^^^^^^^^\n",
      "  File \"/opt/coiled/env/lib/python3.12/asyncio/base_events.py\", line 691, in run_until_complete\n",
      "    return future.result()\n",
      "           ^^^^^^^^^^^^^^^\n",
      "  File \"/opt/coiled/env/lib/python3.12/site-packages/distributed/nanny.py\", line 985, in run\n",
      "    await worker.finished()\n",
      "  File \"/opt/coiled/env/lib/python3.12/site-packages/distributed/core.py\", line 494, in finished\n",
      "    await self._event_finished.wait()\n",
      "  File \"/opt/coiled/env/lib/python3.12/asyncio/locks.py\", line 212, in wait\n",
      "    await fut\n",
      "asyncio.exceptions.CancelledError\n",
      "\n",
      "During handling of the above exception, another exception occurred:\n",
      "\n",
      "Traceback (most recent call last):\n",
      "  File \"/opt/coiled/env/lib/python3.12/multiprocessing/process.py\", line 314, in _bootstrap\n",
      "    self.run()\n",
      "  File \"/opt/coiled/env/lib/python3.12/multiprocessing/process.py\", line 108, in run\n",
      "    self._target(*self._args, **self._kwargs)\n",
      "  File \"/opt/coiled/env/lib/python3.12/site-packages/distributed/process.py\", line 202, in _run\n",
      "    target(*args, **kwargs)\n",
      "  File \"/opt/coiled/env/lib/python3.12/site-packages/distributed/nanny.py\", line 1023, in _run\n",
      "    asyncio_run(run(), loop_factory=get_loop_factory())\n",
      "  File \"/opt/coiled/env/lib/python3.12/asyncio/runners.py\", line 195, in run\n",
      "    return runner.run(main)\n",
      "           ^^^^^^^^^^^^^^^^\n",
      "  File \"/opt/coiled/env/lib/python3.12/asyncio/runners.py\", line 123, in run\n",
      "    raise KeyboardInterrupt()\n",
      "KeyboardInterrupt\n",
      "Process Dask Worker process (from Nanny):\n",
      "Traceback (most recent call last):\n",
      "  File \"/opt/coiled/env/lib/python3.12/asyncio/runners.py\", line 118, in run\n",
      "    return self._loop.run_until_complete(task)\n",
      "           ^^^^^^^^^^^^^^^^^^^^^^^^^^^^^^^^^^^\n",
      "  File \"/opt/coiled/env/lib/python3.12/asyncio/base_events.py\", line 691, in run_until_complete\n",
      "    return future.result()\n",
      "           ^^^^^^^^^^^^^^^\n",
      "  File \"/opt/coiled/env/lib/python3.12/site-packages/distributed/nanny.py\", line 985, in run\n",
      "    await worker.finished()\n",
      "  File \"/opt/coiled/env/lib/python3.12/site-packages/distributed/core.py\", line 494, in finished\n",
      "    await self._event_finished.wait()\n",
      "  File \"/opt/coiled/env/lib/python3.12/asyncio/locks.py\", line 212, in wait\n",
      "    await fut\n",
      "asyncio.exceptions.CancelledError\n",
      "\n",
      "During handling of the above exception, another exception occurred:\n",
      "\n",
      "Traceback (most recent call last):\n",
      "  File \"/opt/coiled/env/lib/python3.12/multiprocessing/process.py\", line 314, in _bootstrap\n",
      "    self.run()\n",
      "  File \"/opt/coiled/env/lib/python3.12/multiprocessing/process.py\", line 108, in run\n",
      "    self._target(*self._args, **self._kwargs)\n",
      "  File \"/opt/coiled/env/lib/python3.12/site-packages/distributed/process.py\", line 202, in _run\n",
      "    target(*args, **kwargs)\n",
      "  File \"/opt/coiled/env/lib/python3.12/site-packages/distributed/nanny.py\", line 1023, in _run\n",
      "    asyncio_run(run(), loop_factory=get_loop_factory())\n",
      "  File \"/opt/coiled/env/lib/python3.12/asyncio/runners.py\", line 195, in run\n",
      "    return runner.run(main)\n",
      "           ^^^^^^^^^^^^^^^^\n",
      "  File \"/opt/coiled/env/lib/python3.12/asyncio/runners.py\", line 123, in run\n",
      "    raise KeyboardInterrupt()\n",
      "KeyboardInterrupt\n"
     ]
    }
   ],
   "source": [
    "from pre_processing import *\n",
    "\n",
    "import time\n",
    "start_time = time.time()  # Start the timer\n",
    "\n",
    "%autoreload\n",
    "from main import *\n",
    "\n",
    "\n",
    "def run_all_cities(city_list):\n",
    "    #delayed_jobs = [delayed(calculate_building_distances_to_roads)(city) for city in city_list]\n",
    "    #delayed_jobs.append([delayed(produce_blocks)(city) for city in city_list])\n",
    "    delayed_jobs = [calculate_building_distances_to_roads(city) for city in city_list]\n",
    "    delayed_jobs.append([produce_blocks(city) for city in city_list])\n",
    "    results = compute(*delayed_jobs)\n",
    "    return results\n",
    "\n",
    "run_all_cities(cities)\n",
    "\n",
    "\n",
    "end_time = time.time()  # End the timer\n",
    "elapsed_time = end_time - start_time\n",
    "\n",
    "print(f\"Tasks completed in {elapsed_time:.2f} seconds.\")"
   ]
  },
  {
   "cell_type": "code",
   "execution_count": 5,
   "id": "1271fef1-f812-4c2b-a7f3-667eefba9e2d",
   "metadata": {},
   "outputs": [
    {
     "name": "stdout",
     "output_type": "stream",
     "text": [
      "Nairobi EPSG: 32737\n"
     ]
    },
    {
     "name": "stderr",
     "output_type": "stream",
     "text": [
      "/opt/coiled/env/lib/python3.12/site-packages/dask/dataframe/dask_expr/_collection.py:4729: UserWarning: \n",
      "You did not provide metadata, so Dask is running your function on a small dataset to guess output types. It is possible that Dask will guess incorrectly.\n",
      "To provide an explicit output types or to silence this message, please provide the `meta=` keyword, as described in the map or apply function that you are using.\n",
      "  warnings.warn(meta_warning(meta))\n",
      "/opt/coiled/env/lib/python3.12/site-packages/dask/dataframe/dask_expr/_collection.py:4729: UserWarning: \n",
      "You did not provide metadata, so Dask is running your function on a small dataset to guess output types. It is possible that Dask will guess incorrectly.\n",
      "To provide an explicit output types or to silence this message, please provide the `meta=` keyword, as described in the map or apply function that you are using.\n",
      "  warnings.warn(meta_warning(meta))\n",
      "/opt/coiled/env/lib/python3.12/site-packages/dask/dataframe/dask_expr/_collection.py:4729: UserWarning: \n",
      "You did not provide metadata, so Dask is running your function on a small dataset to guess output types. It is possible that Dask will guess incorrectly.\n",
      "To provide an explicit output types or to silence this message, please provide the `meta=` keyword, as described in the map or apply function that you are using.\n",
      "  warnings.warn(meta_warning(meta))\n"
     ]
    },
    {
     "name": "stdout",
     "output_type": "stream",
     "text": [
      "Nairobi EPSG: 32737\n"
     ]
    },
    {
     "name": "stderr",
     "output_type": "stream",
     "text": [
      "/opt/coiled/env/lib/python3.12/site-packages/dask/dataframe/dask_expr/_collection.py:4729: UserWarning: \n",
      "You did not provide metadata, so Dask is running your function on a small dataset to guess output types. It is possible that Dask will guess incorrectly.\n",
      "To provide an explicit output types or to silence this message, please provide the `meta=` keyword, as described in the map or apply function that you are using.\n",
      "  warnings.warn(meta_warning(meta))\n",
      "/opt/coiled/env/lib/python3.12/site-packages/dask/dataframe/dask_expr/_collection.py:4729: UserWarning: \n",
      "You did not provide metadata, so Dask is running your function on a small dataset to guess output types. It is possible that Dask will guess incorrectly.\n",
      "To provide an explicit output types or to silence this message, please provide the `meta=` keyword, as described in the map or apply function that you are using.\n",
      "  warnings.warn(meta_warning(meta))\n"
     ]
    },
    {
     "name": "stdout",
     "output_type": "stream",
     "text": [
      "Nairobi EPSG: 32737\n"
     ]
    },
    {
     "name": "stderr",
     "output_type": "stream",
     "text": [
      "/opt/coiled/env/lib/python3.12/site-packages/dask/dataframe/dask_expr/_collection.py:4729: UserWarning: \n",
      "You did not provide metadata, so Dask is running your function on a small dataset to guess output types. It is possible that Dask will guess incorrectly.\n",
      "To provide an explicit output types or to silence this message, please provide the `meta=` keyword, as described in the map or apply function that you are using.\n",
      "  warnings.warn(meta_warning(meta))\n",
      "/opt/coiled/env/lib/python3.12/site-packages/dask/dataframe/dask_expr/_collection.py:4729: UserWarning: \n",
      "You did not provide metadata, so Dask is running your function on a small dataset to guess output types. It is possible that Dask will guess incorrectly.\n",
      "To provide an explicit output types or to silence this message, please provide the `meta=` keyword, as described in the map or apply function that you are using.\n",
      "  warnings.warn(meta_warning(meta))\n",
      "/opt/coiled/env/lib/python3.12/site-packages/dask/dataframe/dask_expr/_collection.py:4729: UserWarning: \n",
      "You did not provide metadata, so Dask is running your function on a small dataset to guess output types. It is possible that Dask will guess incorrectly.\n",
      "To provide an explicit output types or to silence this message, please provide the `meta=` keyword, as described in the map or apply function that you are using.\n",
      "  warnings.warn(meta_warning(meta))\n"
     ]
    },
    {
     "name": "stdout",
     "output_type": "stream",
     "text": [
      "Tasks completed in 137.05 seconds.\n"
     ]
    }
   ],
   "source": [
    "import time\n",
    "start_time = time.time()  # Start the timer\n",
    "\n",
    "%autoreload\n",
    "from main import *\n",
    "\n",
    "\n",
    "tasks = [building_and_intersection_metrics(city_name) for city_name in cities]\n",
    "tasks.append([building_distance_metrics(city_name) for city_name in cities])\n",
    "tasks.append([compute_m6_m7_m8(city_name) for city_name in cities])\n",
    "results = compute(*tasks)  \n",
    "\n",
    "\n",
    "end_time = time.time()  # End the timer\n",
    "elapsed_time = end_time - start_time\n",
    "\n",
    "print(f\"Tasks completed in {elapsed_time:.2f} seconds.\")"
   ]
  },
  {
   "cell_type": "code",
   "execution_count": 5,
   "id": "d7f3b850-598d-49ed-889f-86dc08c6a8a9",
   "metadata": {},
   "outputs": [
    {
     "name": "stdout",
     "output_type": "stream",
     "text": [
      "✅ Belo_Horizonte: Successfully loaded Overture buildings.\n",
      "📂 Loading Parquet roads data for Belo_Horizonte...\n",
      "✅ Successfully loaded roads data for Belo_Horizonte\n",
      "   - Columns: ['u', 'v', 'key', 'osmid', 'highway', 'lanes', 'name', 'oneway', 'ref', 'reversed', 'length', 'geometry', 'maxspeed', 'junction', 'access', 'bridge', 'tunnel', 'service', 'width', 'area', 'landuse']\n",
      "✅ Successfully loaded intersections data for Belo_Horizonte\n"
     ]
    },
    {
     "name": "stderr",
     "output_type": "stream",
     "text": [
      "/opt/coiled/env/lib/python3.12/site-packages/distributed/client.py:3370: UserWarning: Sending large graph of size 566.77 MiB.\n",
      "This may cause some slowdown.\n",
      "Consider loading the data with Dask directly\n",
      " or using futures or delayed objects to embed the data into the graph without repetition.\n",
      "See also https://docs.dask.org/en/stable/best-practices.html#load-data-with-dask for more information.\n",
      "  warnings.warn(\n"
     ]
    },
    {
     "name": "stdout",
     "output_type": "stream",
     "text": [
      "👾 Entering project and process.\n",
      "✅ Buildings data loaded with 1610905 records.\n",
      "✅ Succesfuly projected buildings, roads and intersections.\n",
      "✅ Succesfully performed unary union on road network.\n",
      "✅ Succesfully calculated blocks.\n",
      "📦 Returning from project_and_process() for city:\n",
      "   - Overture: <class 'geopandas.geodataframe.GeoDataFrame'>\n",
      "   - Blocks: <class 'geopandas.geodataframe.GeoDataFrame'>\n",
      "   - Roads: <class 'geopandas.geodataframe.GeoDataFrame'>\n",
      "   - Intersections: <class 'geopandas.geodataframe.GeoDataFrame'>\n",
      "   - Road union: <class 'shapely.geometry.multilinestring.MultiLineString'>\n",
      "   - UTM Projection: 32723\n",
      "✅ Bogota: Successfully loaded Overture buildings.\n",
      "📂 Loading Parquet roads data for Bogota...\n",
      "✅ Successfully loaded roads data for Bogota\n",
      "   - Columns: ['u', 'v', 'key', 'osmid', 'highway', 'lanes', 'name', 'oneway', 'reversed', 'length', 'maxspeed', 'geometry', 'ref', 'junction', 'access', 'bridge', 'service', 'width', 'tunnel', 'area']\n",
      "✅ Successfully loaded intersections data for Bogota\n"
     ]
    },
    {
     "name": "stderr",
     "output_type": "stream",
     "text": [
      "/opt/coiled/env/lib/python3.12/site-packages/distributed/client.py:3370: UserWarning: Sending large graph of size 278.07 MiB.\n",
      "This may cause some slowdown.\n",
      "Consider loading the data with Dask directly\n",
      " or using futures or delayed objects to embed the data into the graph without repetition.\n",
      "See also https://docs.dask.org/en/stable/best-practices.html#load-data-with-dask for more information.\n",
      "  warnings.warn(\n"
     ]
    },
    {
     "name": "stdout",
     "output_type": "stream",
     "text": [
      "👾 Entering project and process.\n",
      "✅ Buildings data loaded with 559620 records.\n",
      "✅ Succesfuly projected buildings, roads and intersections.\n",
      "✅ Succesfully performed unary union on road network.\n",
      "✅ Succesfully calculated blocks.\n",
      "📦 Returning from project_and_process() for city:\n",
      "   - Overture: <class 'geopandas.geodataframe.GeoDataFrame'>\n",
      "   - Blocks: <class 'geopandas.geodataframe.GeoDataFrame'>\n",
      "   - Roads: <class 'geopandas.geodataframe.GeoDataFrame'>\n",
      "   - Intersections: <class 'geopandas.geodataframe.GeoDataFrame'>\n",
      "   - Road union: <class 'shapely.geometry.multilinestring.MultiLineString'>\n",
      "   - UTM Projection: 32618\n"
     ]
    },
    {
     "name": "stderr",
     "output_type": "stream",
     "text": [
      "/opt/coiled/env/lib/python3.12/site-packages/distributed/client.py:3370: UserWarning: Sending large graph of size 0.91 GiB.\n",
      "This may cause some slowdown.\n",
      "Consider loading the data with Dask directly\n",
      " or using futures or delayed objects to embed the data into the graph without repetition.\n",
      "See also https://docs.dask.org/en/stable/best-practices.html#load-data-with-dask for more information.\n",
      "  warnings.warn(\n"
     ]
    },
    {
     "name": "stdout",
     "output_type": "stream",
     "text": [
      "👾 Entering process_city in Bogota.\n",
      "📌 Starting processing for Bogota\n",
      "📂 Bogota city grid columns: ['geometry', 'intersects_analysis_area']\n",
      "🆔 Bogota city grid index name: None\n",
      "🔄 Assigning index as 'grid_id' for Bogota\n",
      "🗺 CRS Check for Bogota:\n",
      "   📌 Grid CRS: {\"$schema\": \"https://proj.org/schemas/v0.7/projjson.schema.json\", \"type\": \"GeographicCRS\", \"name\": \"WGS 84\", \"datum_ensemble\": {\"name\": \"World Geodetic System 1984 ensemble\", \"members\": [{\"name\": \"World Geodetic System 1984 (Transit)\"}, {\"name\": \"World Geodetic System 1984 (G730)\"}, {\"name\": \"World Geodetic System 1984 (G873)\"}, {\"name\": \"World Geodetic System 1984 (G1150)\"}, {\"name\": \"World Geodetic System 1984 (G1674)\"}, {\"name\": \"World Geodetic System 1984 (G1762)\"}, {\"name\": \"World Geodetic System 1984 (G2139)\"}, {\"name\": \"World Geodetic System 1984 (G2296)\"}], \"ellipsoid\": {\"name\": \"WGS 84\", \"semi_major_axis\": 6378137, \"inverse_flattening\": 298.257223563}, \"accuracy\": \"2.0\", \"id\": {\"authority\": \"EPSG\", \"code\": 6326}}, \"coordinate_system\": {\"subtype\": \"ellipsoidal\", \"axis\": [{\"name\": \"Geodetic latitude\", \"abbreviation\": \"Lat\", \"direction\": \"north\", \"unit\": \"degree\"}, {\"name\": \"Geodetic longitude\", \"abbreviation\": \"Lon\", \"direction\": \"east\", \"unit\": \"degree\"}]}, \"scope\": \"Horizontal component of 3D system.\", \"area\": \"World.\", \"bbox\": {\"south_latitude\": -90, \"west_longitude\": -180, \"north_latitude\": 90, \"east_longitude\": 180}, \"id\": {\"authority\": \"EPSG\", \"code\": 4326}}\n",
      "   🏢 Buildings CRS: EPSG:32618\n",
      "   🛣 Roads CRS: EPSG:32618\n",
      "   🚦 Intersections CRS: EPSG:32618\n",
      "👾 Entering clip_features_to_rectangles.\n",
      "👾 Entering process_city in Belo_Horizonte.\n",
      "📌 Starting processing for Belo_Horizonte\n",
      "📂 Belo_Horizonte city grid columns: ['geometry', 'intersects_analysis_area']\n",
      "🆔 Belo_Horizonte city grid index name: None\n",
      "🔄 Assigning index as 'grid_id' for Belo_Horizonte\n",
      "🗺 CRS Check for Belo_Horizonte:\n",
      "   📌 Grid CRS: {\"$schema\": \"https://proj.org/schemas/v0.7/projjson.schema.json\", \"type\": \"GeographicCRS\", \"name\": \"WGS 84\", \"datum_ensemble\": {\"name\": \"World Geodetic System 1984 ensemble\", \"members\": [{\"name\": \"World Geodetic System 1984 (Transit)\"}, {\"name\": \"World Geodetic System 1984 (G730)\"}, {\"name\": \"World Geodetic System 1984 (G873)\"}, {\"name\": \"World Geodetic System 1984 (G1150)\"}, {\"name\": \"World Geodetic System 1984 (G1674)\"}, {\"name\": \"World Geodetic System 1984 (G1762)\"}, {\"name\": \"World Geodetic System 1984 (G2139)\"}, {\"name\": \"World Geodetic System 1984 (G2296)\"}], \"ellipsoid\": {\"name\": \"WGS 84\", \"semi_major_axis\": 6378137, \"inverse_flattening\": 298.257223563}, \"accuracy\": \"2.0\", \"id\": {\"authority\": \"EPSG\", \"code\": 6326}}, \"coordinate_system\": {\"subtype\": \"ellipsoidal\", \"axis\": [{\"name\": \"Geodetic latitude\", \"abbreviation\": \"Lat\", \"direction\": \"north\", \"unit\": \"degree\"}, {\"name\": \"Geodetic longitude\", \"abbreviation\": \"Lon\", \"direction\": \"east\", \"unit\": \"degree\"}]}, \"scope\": \"Horizontal component of 3D system.\", \"area\": \"World.\", \"bbox\": {\"south_latitude\": -90, \"west_longitude\": -180, \"north_latitude\": 90, \"east_longitude\": 180}, \"id\": {\"authority\": \"EPSG\", \"code\": 4326}}\n",
      "   🏢 Buildings CRS: EPSG:32723\n",
      "   🛣 Roads CRS: EPSG:32723\n",
      "   🚦 Intersections CRS: EPSG:32723\n",
      "👾 Entering clip_features_to_rectangles.\n",
      "Starting cell calculations\n",
      "Starting cell calculations\n",
      "   - Cell 0: Type=<class 'dask.delayed.Delayed'>\n",
      "   - Cell 1: Type=<class 'dask.delayed.Delayed'>\n",
      "   - Cell 2: Type=<class 'dask.delayed.Delayed'>\n",
      "   - Cell 3: Type=<class 'dask.delayed.Delayed'>\n",
      "   - Cell 4: Type=<class 'dask.delayed.Delayed'>\n",
      "🚨 m8 assigned to 1 because building_to_block_share was zero.\n"
     ]
    },
    {
     "name": "stderr",
     "output_type": "stream",
     "text": [
      "/opt/coiled/env/lib/python3.12/site-packages/geopandas/array.py:1638: UserWarning: CRS not set for some of the concatenation inputs. Setting output's CRS as WGS 84 / UTM zone 18N (the single non-null crs provided).\n",
      "  return GeometryArray(data, crs=_get_common_crs(to_concat))\n"
     ]
    },
    {
     "name": "stdout",
     "output_type": "stream",
     "text": [
      "🔄 Converting final_geo_df to Dask GeoDataFrame\n",
      "🚨 m8 assigned to 1 because building_to_block_share was zero.\n",
      "🚨 m8 assigned to 1 because building_to_block_share was zero.\n",
      "🚨 m8 assigned to 1 because building_to_block_share was zero.\n"
     ]
    },
    {
     "name": "stderr",
     "output_type": "stream",
     "text": [
      "/opt/coiled/env/lib/python3.12/site-packages/geopandas/array.py:1638: UserWarning: CRS not set for some of the concatenation inputs. Setting output's CRS as WGS 84 / UTM zone 18N (the single non-null crs provided).\n",
      "  return GeometryArray(data, crs=_get_common_crs(to_concat))\n"
     ]
    },
    {
     "name": "stdout",
     "output_type": "stream",
     "text": [
      "🚨 m8 assigned to 1 because building_to_block_share was zero.\n",
      "🚨 m8 assigned to 1 because building_to_block_share was zero.\n"
     ]
    },
    {
     "name": "stderr",
     "output_type": "stream",
     "text": [
      "/opt/coiled/env/lib/python3.12/site-packages/geopandas/array.py:1638: UserWarning: CRS not set for some of the concatenation inputs. Setting output's CRS as WGS 84 / UTM zone 18N (the single non-null crs provided).\n",
      "  return GeometryArray(data, crs=_get_common_crs(to_concat))\n"
     ]
    },
    {
     "name": "stdout",
     "output_type": "stream",
     "text": [
      "🚨 m8 assigned to 1 because building_to_block_share was zero.\n",
      "🚨 m8 assigned to 1 because building_to_block_share was zero.\n"
     ]
    },
    {
     "name": "stderr",
     "output_type": "stream",
     "text": [
      "/opt/coiled/env/lib/python3.12/site-packages/geopandas/array.py:1638: UserWarning: CRS not set for some of the concatenation inputs. Setting output's CRS as WGS 84 / UTM zone 18N (the single non-null crs provided).\n",
      "  return GeometryArray(data, crs=_get_common_crs(to_concat))\n"
     ]
    },
    {
     "name": "stdout",
     "output_type": "stream",
     "text": [
      "🚨 m8 assigned to 1 because building_to_block_share was zero.\n",
      "🚨 m8 assigned to 1 because building_to_block_share was zero.\n",
      "🚨 m8 assigned to 1 because building_to_block_share was zero.\n",
      "🚨 m8 assigned to 1 because building_to_block_share was zero.\n"
     ]
    },
    {
     "name": "stderr",
     "output_type": "stream",
     "text": [
      "/opt/coiled/env/lib/python3.12/site-packages/geopandas/array.py:1638: UserWarning: CRS not set for some of the concatenation inputs. Setting output's CRS as WGS 84 / UTM zone 18N (the single non-null crs provided).\n",
      "  return GeometryArray(data, crs=_get_common_crs(to_concat))\n"
     ]
    },
    {
     "name": "stdout",
     "output_type": "stream",
     "text": [
      "🚨 m8 assigned to 1 because building_to_block_share was zero.\n",
      "🚨 m8 assigned to 1 because building_to_block_share was zero.\n"
     ]
    },
    {
     "name": "stderr",
     "output_type": "stream",
     "text": [
      "/opt/coiled/env/lib/python3.12/site-packages/geopandas/array.py:1638: UserWarning: CRS not set for some of the concatenation inputs. Setting output's CRS as WGS 84 / UTM zone 18N (the single non-null crs provided).\n",
      "  return GeometryArray(data, crs=_get_common_crs(to_concat))\n"
     ]
    },
    {
     "name": "stdout",
     "output_type": "stream",
     "text": [
      "🚨 m8 assigned to 1 because building_to_block_share was zero.\n"
     ]
    },
    {
     "name": "stderr",
     "output_type": "stream",
     "text": [
      "/opt/coiled/env/lib/python3.12/site-packages/geopandas/array.py:1638: UserWarning: CRS not set for some of the concatenation inputs. Setting output's CRS as WGS 84 / UTM zone 18N (the single non-null crs provided).\n",
      "  return GeometryArray(data, crs=_get_common_crs(to_concat))\n"
     ]
    },
    {
     "name": "stdout",
     "output_type": "stream",
     "text": [
      "🚨 m8 assigned to 1 because building_to_block_share was zero.\n",
      "🚨 m8 assigned to 1 because building_to_block_share was zero.\n"
     ]
    },
    {
     "name": "stderr",
     "output_type": "stream",
     "text": [
      "/opt/coiled/env/lib/python3.12/site-packages/geopandas/array.py:1638: UserWarning: CRS not set for some of the concatenation inputs. Setting output's CRS as WGS 84 / UTM zone 18N (the single non-null crs provided).\n",
      "  return GeometryArray(data, crs=_get_common_crs(to_concat))\n",
      "/opt/coiled/env/lib/python3.12/site-packages/geopandas/array.py:1638: UserWarning: CRS not set for some of the concatenation inputs. Setting output's CRS as WGS 84 / UTM zone 18N (the single non-null crs provided).\n",
      "  return GeometryArray(data, crs=_get_common_crs(to_concat))\n"
     ]
    },
    {
     "name": "stdout",
     "output_type": "stream",
     "text": [
      "🚨 m8 assigned to 1 because building_to_block_share was zero.\n",
      "🚨 m8 assigned to 1 because building_to_block_share was zero.\n"
     ]
    },
    {
     "name": "stderr",
     "output_type": "stream",
     "text": [
      "/opt/coiled/env/lib/python3.12/site-packages/geopandas/array.py:1638: UserWarning: CRS not set for some of the concatenation inputs. Setting output's CRS as WGS 84 / UTM zone 18N (the single non-null crs provided).\n",
      "  return GeometryArray(data, crs=_get_common_crs(to_concat))\n",
      "/opt/coiled/env/lib/python3.12/site-packages/geopandas/array.py:1638: UserWarning: CRS not set for some of the concatenation inputs. Setting output's CRS as WGS 84 / UTM zone 18N (the single non-null crs provided).\n",
      "  return GeometryArray(data, crs=_get_common_crs(to_concat))\n"
     ]
    },
    {
     "name": "stdout",
     "output_type": "stream",
     "text": [
      "🚨 m8 assigned to 1 because building_to_block_share was zero.\n",
      "🚨 m8 assigned to 1 because building_to_block_share was zero.\n",
      "🚨 m8 assigned to 1 because building_to_block_share was zero.\n",
      "🚨 m8 assigned to 1 because building_to_block_share was zero.\n"
     ]
    },
    {
     "name": "stderr",
     "output_type": "stream",
     "text": [
      "/opt/coiled/env/lib/python3.12/site-packages/geopandas/array.py:1638: UserWarning: CRS not set for some of the concatenation inputs. Setting output's CRS as WGS 84 / UTM zone 18N (the single non-null crs provided).\n",
      "  return GeometryArray(data, crs=_get_common_crs(to_concat))\n",
      "/opt/coiled/env/lib/python3.12/site-packages/geopandas/array.py:1638: UserWarning: CRS not set for some of the concatenation inputs. Setting output's CRS as WGS 84 / UTM zone 18N (the single non-null crs provided).\n",
      "  return GeometryArray(data, crs=_get_common_crs(to_concat))\n"
     ]
    },
    {
     "name": "stdout",
     "output_type": "stream",
     "text": [
      "🚨 m8 assigned to 1 because building_to_block_share was zero.\n",
      "🚨 m8 assigned to 1 because building_to_block_share was zero.\n",
      "🚨 m8 assigned to 1 because building_to_block_share was zero.\n",
      "🚨 m8 assigned to 1 because building_to_block_share was zero.\n"
     ]
    },
    {
     "name": "stderr",
     "output_type": "stream",
     "text": [
      "/opt/coiled/env/lib/python3.12/site-packages/geopandas/array.py:1638: UserWarning: CRS not set for some of the concatenation inputs. Setting output's CRS as WGS 84 / UTM zone 18N (the single non-null crs provided).\n",
      "  return GeometryArray(data, crs=_get_common_crs(to_concat))\n"
     ]
    },
    {
     "name": "stdout",
     "output_type": "stream",
     "text": [
      "🚨 m8 assigned to 1 because building_to_block_share was zero.\n",
      "🚨 m8 assigned to 1 because building_to_block_share was zero.\n",
      "🚨 m8 assigned to 1 because building_to_block_share was zero.\n",
      "🚨 m8 assigned to 1 because building_to_block_share was zero.\n",
      "🚨 m8 assigned to 1 because building_to_block_share was zero.\n",
      "🚨 m8 assigned to 1 because building_to_block_share was zero.\n",
      "🚨 m8 assigned to 1 because building_to_block_share was zero.\n",
      "🚨 m8 assigned to 1 because building_to_block_share was zero.\n",
      "🚨 m8 assigned to 1 because building_to_block_share was zero.\n",
      "🚨 m8 assigned to 1 because building_to_block_share was zero.\n",
      "🚨 m8 assigned to 1 because building_to_block_share was zero.\n",
      "🚨 m8 assigned to 1 because building_to_block_share was zero.\n"
     ]
    },
    {
     "name": "stderr",
     "output_type": "stream",
     "text": [
      "/opt/coiled/env/lib/python3.12/site-packages/geopandas/array.py:1638: UserWarning: CRS not set for some of the concatenation inputs. Setting output's CRS as WGS 84 / UTM zone 18N (the single non-null crs provided).\n",
      "  return GeometryArray(data, crs=_get_common_crs(to_concat))\n"
     ]
    },
    {
     "name": "stdout",
     "output_type": "stream",
     "text": [
      "🚨 m8 assigned to 1 because building_to_block_share was zero.\n",
      "🚨 m8 assigned to 1 because building_to_block_share was zero.\n"
     ]
    },
    {
     "name": "stderr",
     "output_type": "stream",
     "text": [
      "/opt/coiled/env/lib/python3.12/site-packages/geopandas/array.py:1638: UserWarning: CRS not set for some of the concatenation inputs. Setting output's CRS as WGS 84 / UTM zone 18N (the single non-null crs provided).\n",
      "  return GeometryArray(data, crs=_get_common_crs(to_concat))\n",
      "/opt/coiled/env/lib/python3.12/site-packages/geopandas/array.py:1638: UserWarning: CRS not set for some of the concatenation inputs. Setting output's CRS as WGS 84 / UTM zone 18N (the single non-null crs provided).\n",
      "  return GeometryArray(data, crs=_get_common_crs(to_concat))\n",
      "/opt/coiled/env/lib/python3.12/site-packages/geopandas/array.py:1638: UserWarning: CRS not set for some of the concatenation inputs. Setting output's CRS as WGS 84 / UTM zone 18N (the single non-null crs provided).\n",
      "  return GeometryArray(data, crs=_get_common_crs(to_concat))\n"
     ]
    },
    {
     "name": "stdout",
     "output_type": "stream",
     "text": [
      "🚨 m8 assigned to 1 because building_to_block_share was zero.\n",
      "🚨 m8 assigned to 1 because building_to_block_share was zero.\n"
     ]
    },
    {
     "name": "stderr",
     "output_type": "stream",
     "text": [
      "/opt/coiled/env/lib/python3.12/site-packages/geopandas/array.py:1638: UserWarning: CRS not set for some of the concatenation inputs. Setting output's CRS as WGS 84 / UTM zone 18N (the single non-null crs provided).\n",
      "  return GeometryArray(data, crs=_get_common_crs(to_concat))\n",
      "/opt/coiled/env/lib/python3.12/site-packages/geopandas/array.py:1638: UserWarning: CRS not set for some of the concatenation inputs. Setting output's CRS as WGS 84 / UTM zone 18N (the single non-null crs provided).\n",
      "  return GeometryArray(data, crs=_get_common_crs(to_concat))\n"
     ]
    },
    {
     "name": "stdout",
     "output_type": "stream",
     "text": [
      "🚨 m8 assigned to 1 because building_to_block_share was zero.\n"
     ]
    },
    {
     "name": "stderr",
     "output_type": "stream",
     "text": [
      "/opt/coiled/env/lib/python3.12/site-packages/geopandas/array.py:1638: UserWarning: CRS not set for some of the concatenation inputs. Setting output's CRS as WGS 84 / UTM zone 18N (the single non-null crs provided).\n",
      "  return GeometryArray(data, crs=_get_common_crs(to_concat))\n"
     ]
    },
    {
     "name": "stdout",
     "output_type": "stream",
     "text": [
      "🚨 m8 assigned to 1 because building_to_block_share was zero.\n",
      "🚨 m8 assigned to 1 because building_to_block_share was zero.\n",
      "🚨 m8 assigned to 1 because building_to_block_share was zero.\n",
      "🚨 m8 assigned to 1 because building_to_block_share was zero.\n",
      "🚨 m8 assigned to 1 because building_to_block_share was zero.\n",
      "🚨 m8 assigned to 1 because building_to_block_share was zero.\n",
      "🚨 m8 assigned to 1 because building_to_block_share was zero.\n",
      "🚨 m8 assigned to 1 because building_to_block_share was zero.\n",
      "🚨 m8 assigned to 1 because building_to_block_share was zero.\n"
     ]
    },
    {
     "name": "stderr",
     "output_type": "stream",
     "text": [
      "/opt/coiled/env/lib/python3.12/site-packages/geopandas/array.py:1638: UserWarning: CRS not set for some of the concatenation inputs. Setting output's CRS as WGS 84 / UTM zone 18N (the single non-null crs provided).\n",
      "  return GeometryArray(data, crs=_get_common_crs(to_concat))\n"
     ]
    },
    {
     "name": "stdout",
     "output_type": "stream",
     "text": [
      "🚨 m8 assigned to 1 because building_to_block_share was zero.\n",
      "🚨 m8 assigned to 1 because building_to_block_share was zero.\n",
      "🚨 m8 assigned to 1 because building_to_block_share was zero.\n",
      "🚨 m8 assigned to 1 because building_to_block_share was zero.\n",
      "🚨 m8 assigned to 1 because building_to_block_share was zero.\n",
      "🚨 m8 assigned to 1 because building_to_block_share was zero.\n",
      "🚨 m8 assigned to 1 because building_to_block_share was zero.\n",
      "🚨 m8 assigned to 1 because building_to_block_share was zero.\n"
     ]
    },
    {
     "name": "stderr",
     "output_type": "stream",
     "text": [
      "/opt/coiled/env/lib/python3.12/site-packages/geopandas/array.py:1638: UserWarning: CRS not set for some of the concatenation inputs. Setting output's CRS as WGS 84 / UTM zone 18N (the single non-null crs provided).\n",
      "  return GeometryArray(data, crs=_get_common_crs(to_concat))\n"
     ]
    },
    {
     "name": "stdout",
     "output_type": "stream",
     "text": [
      "🚨 m8 assigned to 1 because building_to_block_share was zero.\n",
      "🚨 m8 assigned to 1 because building_to_block_share was zero.\n"
     ]
    },
    {
     "name": "stderr",
     "output_type": "stream",
     "text": [
      "/opt/coiled/env/lib/python3.12/site-packages/geopandas/array.py:1638: UserWarning: CRS not set for some of the concatenation inputs. Setting output's CRS as WGS 84 / UTM zone 18N (the single non-null crs provided).\n",
      "  return GeometryArray(data, crs=_get_common_crs(to_concat))\n"
     ]
    },
    {
     "name": "stdout",
     "output_type": "stream",
     "text": [
      "🚨 m8 assigned to 1 because building_to_block_share was zero.\n",
      "🚨 m8 assigned to 1 because building_to_block_share was zero.\n",
      "🚨 m8 assigned to 1 because building_to_block_share was zero.\n"
     ]
    },
    {
     "name": "stderr",
     "output_type": "stream",
     "text": [
      "/opt/coiled/env/lib/python3.12/site-packages/geopandas/array.py:1638: UserWarning: CRS not set for some of the concatenation inputs. Setting output's CRS as WGS 84 / UTM zone 18N (the single non-null crs provided).\n",
      "  return GeometryArray(data, crs=_get_common_crs(to_concat))\n"
     ]
    },
    {
     "name": "stdout",
     "output_type": "stream",
     "text": [
      "🚨 m8 assigned to 1 because building_to_block_share was zero.\n",
      "✅ Temporary save for computation for city Bogota in folder ./Bogota_200m_results/\n",
      "   - Cell 0: Type=<class 'dask.delayed.Delayed'>\n",
      "   - Cell 1: Type=<class 'dask.delayed.Delayed'>\n",
      "   - Cell 2: Type=<class 'dask.delayed.Delayed'>\n",
      "   - Cell 3: Type=<class 'dask.delayed.Delayed'>\n",
      "   - Cell 4: Type=<class 'dask.delayed.Delayed'>\n"
     ]
    },
    {
     "name": "stderr",
     "output_type": "stream",
     "text": [
      "/opt/coiled/env/lib/python3.12/site-packages/distributed/client.py:3370: UserWarning: Sending large graph of size 9.95 MiB.\n",
      "This may cause some slowdown.\n",
      "Consider loading the data with Dask directly\n",
      " or using futures or delayed objects to embed the data into the graph without repetition.\n",
      "See also https://docs.dask.org/en/stable/best-practices.html#load-data-with-dask for more information.\n",
      "  warnings.warn(\n"
     ]
    },
    {
     "name": "stdout",
     "output_type": "stream",
     "text": [
      "🔄 Converting final_geo_df to Dask GeoDataFrame\n",
      "🚨 m8 assigned to 1 because building_to_block_share was zero.\n",
      "🚨 m8 assigned to 1 because building_to_block_share was zero.\n",
      "🚨 m8 assigned to 1 because building_to_block_share was zero.\n",
      "🚨 m8 assigned to 1 because building_to_block_share was zero.\n",
      "🚨 m8 assigned to 1 because building_to_block_share was zero.\n"
     ]
    },
    {
     "name": "stderr",
     "output_type": "stream",
     "text": [
      "/opt/coiled/env/lib/python3.12/site-packages/geopandas/array.py:1638: UserWarning: CRS not set for some of the concatenation inputs. Setting output's CRS as WGS 84 / UTM zone 23S (the single non-null crs provided).\n",
      "  return GeometryArray(data, crs=_get_common_crs(to_concat))\n"
     ]
    },
    {
     "name": "stdout",
     "output_type": "stream",
     "text": [
      "🚨 m8 assigned to 1 because building_to_block_share was zero.\n",
      "🚨 m8 assigned to 1 because building_to_block_share was zero.\n",
      "🚨 m8 assigned to 1 because building_to_block_share was zero.\n",
      "🚨 m8 assigned to 1 because building_to_block_share was zero.\n",
      "🚨 m8 assigned to 1 because building_to_block_share was zero.\n",
      "🚨 m8 assigned to 1 because building_to_block_share was zero.\n",
      "🚨 m8 assigned to 1 because building_to_block_share was zero.\n",
      "🚨 m8 assigned to 1 because building_to_block_share was zero.\n",
      "🚨 m8 assigned to 1 because building_to_block_share was zero.\n",
      "🚨 m8 assigned to 1 because building_to_block_share was zero.\n",
      "🚨 m8 assigned to 1 because building_to_block_share was zero.\n",
      "🚨 m8 assigned to 1 because building_to_block_share was zero.\n",
      "🚨 m8 assigned to 1 because building_to_block_share was zero.\n",
      "🚨 m8 assigned to 1 because building_to_block_share was zero.\n",
      "🚨 m8 assigned to 1 because building_to_block_share was zero.\n",
      "🚨 m8 assigned to 1 because building_to_block_share was zero.\n",
      "🚨 m8 assigned to 1 because building_to_block_share was zero.\n",
      "🚨 m8 assigned to 1 because building_to_block_share was zero.\n",
      "🚨 m8 assigned to 1 because building_to_block_share was zero.\n",
      "🚨 m8 assigned to 1 because building_to_block_share was zero.\n",
      "🚨 m8 assigned to 1 because building_to_block_share was zero.\n"
     ]
    },
    {
     "name": "stderr",
     "output_type": "stream",
     "text": [
      "/opt/coiled/env/lib/python3.12/site-packages/geopandas/array.py:1638: UserWarning: CRS not set for some of the concatenation inputs. Setting output's CRS as WGS 84 / UTM zone 23S (the single non-null crs provided).\n",
      "  return GeometryArray(data, crs=_get_common_crs(to_concat))\n"
     ]
    },
    {
     "name": "stdout",
     "output_type": "stream",
     "text": [
      "🚨 m8 assigned to 1 because building_to_block_share was zero.\n",
      "🚨 m8 assigned to 1 because building_to_block_share was zero.\n",
      "🚨 m8 assigned to 1 because building_to_block_share was zero.\n",
      "🚨 m8 assigned to 1 because building_to_block_share was zero.\n",
      "🚨 m8 assigned to 1 because building_to_block_share was zero.\n",
      "🚨 m8 assigned to 1 because building_to_block_share was zero.\n",
      "🚨 m8 assigned to 1 because building_to_block_share was zero.\n"
     ]
    },
    {
     "name": "stderr",
     "output_type": "stream",
     "text": [
      "/opt/coiled/env/lib/python3.12/site-packages/geopandas/array.py:1638: UserWarning: CRS not set for some of the concatenation inputs. Setting output's CRS as WGS 84 / UTM zone 23S (the single non-null crs provided).\n",
      "  return GeometryArray(data, crs=_get_common_crs(to_concat))\n"
     ]
    },
    {
     "name": "stdout",
     "output_type": "stream",
     "text": [
      "🚨 m8 assigned to 1 because building_to_block_share was zero.\n",
      "🚨 m8 assigned to 1 because building_to_block_share was zero.\n",
      "🚨 m8 assigned to 1 because building_to_block_share was zero.\n",
      "✅ Successfully processed and saved Bogota to s3://wri-cities-sandbox/identifyingLandSubdivisions/data/output/raw_results/Bogota/raw_results_200\n",
      "✅ (And temporary file was deleted) Bogota to s3://wri-cities-sandbox/identifyingLandSubdivisions/data/output/raw_results/Bogota/raw_results_200\n",
      "🚨 m8 assigned to 1 because building_to_block_share was zero.\n",
      "🚨 m8 assigned to 1 because building_to_block_share was zero.\n",
      "🚨 m8 assigned to 1 because building_to_block_share was zero.\n",
      "🚨 m8 assigned to 1 because building_to_block_share was zero.\n"
     ]
    },
    {
     "name": "stderr",
     "output_type": "stream",
     "text": [
      "/opt/coiled/env/lib/python3.12/site-packages/geopandas/array.py:1638: UserWarning: CRS not set for some of the concatenation inputs. Setting output's CRS as WGS 84 / UTM zone 23S (the single non-null crs provided).\n",
      "  return GeometryArray(data, crs=_get_common_crs(to_concat))\n"
     ]
    },
    {
     "name": "stdout",
     "output_type": "stream",
     "text": [
      "🚨 m8 assigned to 1 because building_to_block_share was zero.\n",
      "🚨 m8 assigned to 1 because building_to_block_share was zero.\n"
     ]
    },
    {
     "name": "stderr",
     "output_type": "stream",
     "text": [
      "/opt/coiled/env/lib/python3.12/site-packages/geopandas/array.py:1638: UserWarning: CRS not set for some of the concatenation inputs. Setting output's CRS as WGS 84 / UTM zone 23S (the single non-null crs provided).\n",
      "  return GeometryArray(data, crs=_get_common_crs(to_concat))\n"
     ]
    },
    {
     "name": "stdout",
     "output_type": "stream",
     "text": [
      "🚨 m8 assigned to 1 because building_to_block_share was zero.\n",
      "🚨 m8 assigned to 1 because building_to_block_share was zero.\n",
      "🚨 m8 assigned to 1 because building_to_block_share was zero.\n",
      "🚨 m8 assigned to 1 because building_to_block_share was zero.\n",
      "🚨 m8 assigned to 1 because building_to_block_share was zero.\n"
     ]
    },
    {
     "name": "stderr",
     "output_type": "stream",
     "text": [
      "/opt/coiled/env/lib/python3.12/site-packages/geopandas/array.py:1638: UserWarning: CRS not set for some of the concatenation inputs. Setting output's CRS as WGS 84 / UTM zone 23S (the single non-null crs provided).\n",
      "  return GeometryArray(data, crs=_get_common_crs(to_concat))\n"
     ]
    },
    {
     "name": "stdout",
     "output_type": "stream",
     "text": [
      "🚨 m8 assigned to 1 because building_to_block_share was zero.\n",
      "🚨 m8 assigned to 1 because building_to_block_share was zero.\n",
      "🚨 m8 assigned to 1 because building_to_block_share was zero.\n",
      "🚨 m8 assigned to 1 because building_to_block_share was zero.\n",
      "🚨 m8 assigned to 1 because building_to_block_share was zero.\n"
     ]
    },
    {
     "name": "stderr",
     "output_type": "stream",
     "text": [
      "/opt/coiled/env/lib/python3.12/site-packages/geopandas/array.py:1638: UserWarning: CRS not set for some of the concatenation inputs. Setting output's CRS as WGS 84 / UTM zone 23S (the single non-null crs provided).\n",
      "  return GeometryArray(data, crs=_get_common_crs(to_concat))\n"
     ]
    },
    {
     "name": "stdout",
     "output_type": "stream",
     "text": [
      "🚨 m8 assigned to 1 because building_to_block_share was zero.\n",
      "🚨 m8 assigned to 1 because building_to_block_share was zero.\n",
      "🚨 m8 assigned to 1 because building_to_block_share was zero.\n",
      "🚨 m8 assigned to 1 because building_to_block_share was zero.\n"
     ]
    },
    {
     "name": "stderr",
     "output_type": "stream",
     "text": [
      "/opt/coiled/env/lib/python3.12/site-packages/geopandas/array.py:1638: UserWarning: CRS not set for some of the concatenation inputs. Setting output's CRS as WGS 84 / UTM zone 23S (the single non-null crs provided).\n",
      "  return GeometryArray(data, crs=_get_common_crs(to_concat))\n"
     ]
    },
    {
     "name": "stdout",
     "output_type": "stream",
     "text": [
      "🚨 m8 assigned to 1 because building_to_block_share was zero.\n",
      "🚨 m8 assigned to 1 because building_to_block_share was zero.\n"
     ]
    },
    {
     "name": "stderr",
     "output_type": "stream",
     "text": [
      "/opt/coiled/env/lib/python3.12/site-packages/geopandas/array.py:1638: UserWarning: CRS not set for some of the concatenation inputs. Setting output's CRS as WGS 84 / UTM zone 23S (the single non-null crs provided).\n",
      "  return GeometryArray(data, crs=_get_common_crs(to_concat))\n"
     ]
    },
    {
     "name": "stdout",
     "output_type": "stream",
     "text": [
      "🚨 m8 assigned to 1 because building_to_block_share was zero.\n",
      "🚨 m8 assigned to 1 because building_to_block_share was zero.\n",
      "🚨 m8 assigned to 1 because building_to_block_share was zero.\n",
      "🚨 m8 assigned to 1 because building_to_block_share was zero.\n",
      "🚨 m8 assigned to 1 because building_to_block_share was zero.\n",
      "🚨 m8 assigned to 1 because building_to_block_share was zero.\n",
      "✅ Temporary save for computation for city Belo_Horizonte in folder ./Belo_Horizonte_200m_results/\n",
      "✅ Successfully processed and saved Belo_Horizonte to s3://wri-cities-sandbox/identifyingLandSubdivisions/data/output/raw_results/Belo_Horizonte/raw_results_200\n",
      "✅ (And temporary file was deleted) Belo_Horizonte to s3://wri-cities-sandbox/identifyingLandSubdivisions/data/output/raw_results/Belo_Horizonte/raw_results_200\n",
      "Tasks completed in 379.31 seconds.\n"
     ]
    }
   ],
   "source": [
    "import time\n",
    "start_time = time.time()  # Start the timer\n",
    "\n",
    "#%autoreload\n",
    "from citywide_calculation import run_all_citywide_calculation\n",
    "run_all_citywide_calculation(cities,sample_prop=0.01) \n",
    "\n",
    "end_time = time.time()  # End the timer\n",
    "elapsed_time = end_time - start_time\n",
    "\n",
    "print(f\"Tasks completed in {elapsed_time:.2f} seconds.\")"
   ]
  },
  {
   "cell_type": "code",
   "execution_count": null,
   "id": "4608ae11-7126-453e-bad9-6bde7e1827a5",
   "metadata": {},
   "outputs": [],
   "source": []
  },
  {
   "cell_type": "markdown",
   "id": "e1528e04",
   "metadata": {},
   "source": [
    "## Run 1\n",
    "cities = 12\n",
    "seconds = 505.27\n",
    "instance_type = 'm6i.xlarge'\n",
    "\n",
    "sec/city = seconds / cities\n",
    "\n"
   ]
  },
  {
   "cell_type": "code",
   "execution_count": null,
   "id": "4c50e70d-a724-4b76-afbb-b310d2f9e114",
   "metadata": {},
   "outputs": [],
   "source": []
  }
 ],
 "metadata": {
  "kernelspec": {
   "display_name": "subdivisions2",
   "language": "python",
   "name": "python3"
  },
  "language_info": {
   "codemirror_mode": {
    "name": "ipython",
    "version": 3
   },
   "file_extension": ".py",
   "mimetype": "text/x-python",
   "name": "python",
   "nbconvert_exporter": "python",
   "pygments_lexer": "ipython3",
   "version": "3.12.9"
  }
 },
 "nbformat": 4,
 "nbformat_minor": 5
}
