{
 "cells": [
  {
   "cell_type": "code",
   "execution_count": 1,
   "id": "dfae776d-1bfe-4b19-b1ec-cadeac6a7c3b",
   "metadata": {},
   "outputs": [],
   "source": [
    "%load_ext autoreload"
   ]
  },
  {
   "cell_type": "code",
   "execution_count": 2,
   "id": "1d6537ee-911c-4d44-983a-f4e39afa69b7",
   "metadata": {},
   "outputs": [
    {
     "name": "stdout",
     "output_type": "stream",
     "text": [
      "Available memory: 244.43 GB\n"
     ]
    }
   ],
   "source": [
    "import psutil\n",
    "\n",
    "mem = psutil.virtual_memory()\n",
    "available_memory = mem.available / (1024 * 1024 * 1024)  # Convert to MB\n",
    "\n",
    "print(f\"Available memory: {available_memory:.2f} GB\")\n",
    "\n",
    "pct_to_use = 0.8\n"
   ]
  },
  {
   "cell_type": "markdown",
   "id": "0ce43995",
   "metadata": {},
   "source": [
    "# Define cities"
   ]
  },
  {
   "cell_type": "code",
   "execution_count": 3,
   "id": "51118b1f-6f6c-4c18-8f01-908a958ee201",
   "metadata": {},
   "outputs": [
    {
     "data": {
      "text/plain": [
       "2"
      ]
     },
     "execution_count": 3,
     "metadata": {},
     "output_type": "execute_result"
    }
   ],
   "source": [
    "# List of cities to process\n",
    "cities = [\"Belo_Horizonte\", \"Campinas\", \"Bogota\", \"Nairobi\", \"Bamako\", \n",
    "        \"Lagos\", \"Accra\", \"Abidjan\", \"Mogadishu\", \"Cape_Town\", \n",
    "        \"Maputo\", \"Luanda\"]\n",
    "\n",
    "test_cities = [\"Belo_Horizonte\", \"Bogota\"] #\"Belo_Horizonte\",\n",
    "cities = test_cities\n",
    "\n",
    "\n",
    "number_of_cities = len(cities)\n",
    "\n",
    "number_of_cities"
   ]
  },
  {
   "cell_type": "markdown",
   "id": "e88b84c6",
   "metadata": {},
   "source": [
    "# Dask on Coiled notebook"
   ]
  },
  {
   "cell_type": "code",
   "execution_count": 4,
   "id": "c5f720ce-ecf5-4780-bc16-438703c6322f",
   "metadata": {},
   "outputs": [
    {
     "name": "stdout",
     "output_type": "stream",
     "text": [
      "Started a new Dask client. Dashboard is available at https://cluster-ttdpz.dask.host/jupyter/proxy/8787/status\n"
     ]
    }
   ],
   "source": [
    "from dask.distributed import Client, LocalCluster\n",
    "\n",
    "N_WORKERS = 5  # Reduce workers to avoid excessive parallel memory load\n",
    "THREADS_PER_WORKER = 5  # More threads per worker for better resource utilization\n",
    "MEMORY_LIMIT = \"48GB\"  # Increase memory per worker\n",
    "\n",
    "cluster = LocalCluster(n_workers=N_WORKERS, threads_per_worker=THREADS_PER_WORKER, memory_limit=MEMORY_LIMIT)\n",
    "client = Client(cluster)\n",
    "print(f\"Started a new Dask client. Dashboard is available at {client.dashboard_link}\")\n"
   ]
  },
  {
   "cell_type": "markdown",
   "id": "fc4f2b1a",
   "metadata": {},
   "source": [
    "# Run code"
   ]
  },
  {
   "cell_type": "code",
   "execution_count": null,
   "id": "9e7e2dd9-5f71-41ac-9731-a6f8bb589356",
   "metadata": {
    "scrolled": true
   },
   "outputs": [],
   "source": [
    "import time\n",
    "start_time = time.time()  # Start the timer\n",
    "\n",
    "%autoreload\n",
    "from ee_data_fetch import main\n",
    "main(cities)\n",
    "\n",
    "end_time = time.time()  # End the timer\n",
    "elapsed_time = end_time - start_time\n",
    "\n",
    "print(f\"Tasks completed in {elapsed_time:.2f} seconds.\")"
   ]
  },
  {
   "cell_type": "code",
   "execution_count": null,
   "id": "401bd06b-00eb-453a-acd0-d98dd499d5ad",
   "metadata": {},
   "outputs": [],
   "source": [
    "import time\n",
    "start_time = time.time()  # Start the timer\n",
    "\n",
    "#%autoreload\n",
    "from gather_data_cities import run_all\n",
    "run_all(cities) \n",
    "\n",
    "end_time = time.time()  # End the timer\n",
    "elapsed_time = end_time - start_time\n",
    "\n",
    "print(f\"Tasks completed in {elapsed_time:.2f} seconds.\")"
   ]
  },
  {
   "cell_type": "code",
   "execution_count": 5,
   "id": "d7f3b850-598d-49ed-889f-86dc08c6a8a9",
   "metadata": {},
   "outputs": [
    {
     "name": "stdout",
     "output_type": "stream",
     "text": [
      "✅ Belo_Horizonte: Successfully loaded Overture buildings.\n",
      "📂 Loading Parquet roads data for Belo_Horizonte...\n",
      "✅ Successfully loaded roads data for Belo_Horizonte\n",
      "   - Columns: ['u', 'v', 'key', 'osmid', 'highway', 'lanes', 'name', 'oneway', 'ref', 'reversed', 'length', 'geometry', 'maxspeed', 'junction', 'access', 'bridge', 'tunnel', 'service', 'width', 'area', 'landuse']\n",
      "✅ Successfully loaded intersections data for Belo_Horizonte\n"
     ]
    },
    {
     "name": "stderr",
     "output_type": "stream",
     "text": [
      "/opt/coiled/env/lib/python3.12/site-packages/distributed/client.py:3370: UserWarning: Sending large graph of size 566.77 MiB.\n",
      "This may cause some slowdown.\n",
      "Consider loading the data with Dask directly\n",
      " or using futures or delayed objects to embed the data into the graph without repetition.\n",
      "See also https://docs.dask.org/en/stable/best-practices.html#load-data-with-dask for more information.\n",
      "  warnings.warn(\n"
     ]
    },
    {
     "name": "stdout",
     "output_type": "stream",
     "text": [
      "👾 Entering project and process.\n",
      "✅ Buildings data loaded with 1610905 records.\n",
      "✅ Succesfuly projected buildings, roads and intersections.\n",
      "✅ Succesfully performed unary union on road network.\n",
      "✅ Succesfully calculated blocks.\n",
      "📦 Returning from project_and_process() for city:\n",
      "   - Overture: <class 'geopandas.geodataframe.GeoDataFrame'>\n",
      "   - Blocks: <class 'geopandas.geodataframe.GeoDataFrame'>\n",
      "   - Roads: <class 'geopandas.geodataframe.GeoDataFrame'>\n",
      "   - Intersections: <class 'geopandas.geodataframe.GeoDataFrame'>\n",
      "   - Road union: <class 'shapely.geometry.multilinestring.MultiLineString'>\n",
      "   - UTM Projection: 32723\n",
      "✅ Bogota: Successfully loaded Overture buildings.\n",
      "📂 Loading Parquet roads data for Bogota...\n",
      "✅ Successfully loaded roads data for Bogota\n",
      "   - Columns: ['u', 'v', 'key', 'osmid', 'highway', 'lanes', 'name', 'oneway', 'reversed', 'length', 'maxspeed', 'geometry', 'ref', 'junction', 'access', 'bridge', 'service', 'width', 'tunnel', 'area']\n",
      "✅ Successfully loaded intersections data for Bogota\n"
     ]
    },
    {
     "name": "stderr",
     "output_type": "stream",
     "text": [
      "/opt/coiled/env/lib/python3.12/site-packages/distributed/client.py:3370: UserWarning: Sending large graph of size 278.07 MiB.\n",
      "This may cause some slowdown.\n",
      "Consider loading the data with Dask directly\n",
      " or using futures or delayed objects to embed the data into the graph without repetition.\n",
      "See also https://docs.dask.org/en/stable/best-practices.html#load-data-with-dask for more information.\n",
      "  warnings.warn(\n"
     ]
    },
    {
     "name": "stdout",
     "output_type": "stream",
     "text": [
      "👾 Entering project and process.\n",
      "✅ Buildings data loaded with 559620 records.\n",
      "✅ Succesfuly projected buildings, roads and intersections.\n",
      "✅ Succesfully performed unary union on road network.\n",
      "✅ Succesfully calculated blocks.\n",
      "📦 Returning from project_and_process() for city:\n",
      "   - Overture: <class 'geopandas.geodataframe.GeoDataFrame'>\n",
      "   - Blocks: <class 'geopandas.geodataframe.GeoDataFrame'>\n",
      "   - Roads: <class 'geopandas.geodataframe.GeoDataFrame'>\n",
      "   - Intersections: <class 'geopandas.geodataframe.GeoDataFrame'>\n",
      "   - Road union: <class 'shapely.geometry.multilinestring.MultiLineString'>\n",
      "   - UTM Projection: 32618\n"
     ]
    },
    {
     "name": "stderr",
     "output_type": "stream",
     "text": [
      "/opt/coiled/env/lib/python3.12/site-packages/distributed/client.py:3370: UserWarning: Sending large graph of size 0.91 GiB.\n",
      "This may cause some slowdown.\n",
      "Consider loading the data with Dask directly\n",
      " or using futures or delayed objects to embed the data into the graph without repetition.\n",
      "See also https://docs.dask.org/en/stable/best-practices.html#load-data-with-dask for more information.\n",
      "  warnings.warn(\n"
     ]
    },
    {
     "name": "stdout",
     "output_type": "stream",
     "text": [
      "👾 Entering process_city in Bogota.\n",
      "📌 Starting processing for Bogota\n",
      "📂 Bogota city grid columns: ['geometry', 'intersects_analysis_area']\n",
      "🆔 Bogota city grid index name: None\n",
      "🔄 Assigning index as 'grid_id' for Bogota\n",
      "🗺 CRS Check for Bogota:\n",
      "   📌 Grid CRS: {\"$schema\": \"https://proj.org/schemas/v0.7/projjson.schema.json\", \"type\": \"GeographicCRS\", \"name\": \"WGS 84\", \"datum_ensemble\": {\"name\": \"World Geodetic System 1984 ensemble\", \"members\": [{\"name\": \"World Geodetic System 1984 (Transit)\"}, {\"name\": \"World Geodetic System 1984 (G730)\"}, {\"name\": \"World Geodetic System 1984 (G873)\"}, {\"name\": \"World Geodetic System 1984 (G1150)\"}, {\"name\": \"World Geodetic System 1984 (G1674)\"}, {\"name\": \"World Geodetic System 1984 (G1762)\"}, {\"name\": \"World Geodetic System 1984 (G2139)\"}, {\"name\": \"World Geodetic System 1984 (G2296)\"}], \"ellipsoid\": {\"name\": \"WGS 84\", \"semi_major_axis\": 6378137, \"inverse_flattening\": 298.257223563}, \"accuracy\": \"2.0\", \"id\": {\"authority\": \"EPSG\", \"code\": 6326}}, \"coordinate_system\": {\"subtype\": \"ellipsoidal\", \"axis\": [{\"name\": \"Geodetic latitude\", \"abbreviation\": \"Lat\", \"direction\": \"north\", \"unit\": \"degree\"}, {\"name\": \"Geodetic longitude\", \"abbreviation\": \"Lon\", \"direction\": \"east\", \"unit\": \"degree\"}]}, \"scope\": \"Horizontal component of 3D system.\", \"area\": \"World.\", \"bbox\": {\"south_latitude\": -90, \"west_longitude\": -180, \"north_latitude\": 90, \"east_longitude\": 180}, \"id\": {\"authority\": \"EPSG\", \"code\": 4326}}\n",
      "   🏢 Buildings CRS: EPSG:32618\n",
      "   🛣 Roads CRS: EPSG:32618\n",
      "   🚦 Intersections CRS: EPSG:32618\n",
      "👾 Entering clip_features_to_rectangles.\n",
      "👾 Entering process_city in Belo_Horizonte.\n",
      "📌 Starting processing for Belo_Horizonte\n",
      "📂 Belo_Horizonte city grid columns: ['geometry', 'intersects_analysis_area']\n",
      "🆔 Belo_Horizonte city grid index name: None\n",
      "🔄 Assigning index as 'grid_id' for Belo_Horizonte\n",
      "🗺 CRS Check for Belo_Horizonte:\n",
      "   📌 Grid CRS: {\"$schema\": \"https://proj.org/schemas/v0.7/projjson.schema.json\", \"type\": \"GeographicCRS\", \"name\": \"WGS 84\", \"datum_ensemble\": {\"name\": \"World Geodetic System 1984 ensemble\", \"members\": [{\"name\": \"World Geodetic System 1984 (Transit)\"}, {\"name\": \"World Geodetic System 1984 (G730)\"}, {\"name\": \"World Geodetic System 1984 (G873)\"}, {\"name\": \"World Geodetic System 1984 (G1150)\"}, {\"name\": \"World Geodetic System 1984 (G1674)\"}, {\"name\": \"World Geodetic System 1984 (G1762)\"}, {\"name\": \"World Geodetic System 1984 (G2139)\"}, {\"name\": \"World Geodetic System 1984 (G2296)\"}], \"ellipsoid\": {\"name\": \"WGS 84\", \"semi_major_axis\": 6378137, \"inverse_flattening\": 298.257223563}, \"accuracy\": \"2.0\", \"id\": {\"authority\": \"EPSG\", \"code\": 6326}}, \"coordinate_system\": {\"subtype\": \"ellipsoidal\", \"axis\": [{\"name\": \"Geodetic latitude\", \"abbreviation\": \"Lat\", \"direction\": \"north\", \"unit\": \"degree\"}, {\"name\": \"Geodetic longitude\", \"abbreviation\": \"Lon\", \"direction\": \"east\", \"unit\": \"degree\"}]}, \"scope\": \"Horizontal component of 3D system.\", \"area\": \"World.\", \"bbox\": {\"south_latitude\": -90, \"west_longitude\": -180, \"north_latitude\": 90, \"east_longitude\": 180}, \"id\": {\"authority\": \"EPSG\", \"code\": 4326}}\n",
      "   🏢 Buildings CRS: EPSG:32723\n",
      "   🛣 Roads CRS: EPSG:32723\n",
      "   🚦 Intersections CRS: EPSG:32723\n",
      "👾 Entering clip_features_to_rectangles.\n",
      "Starting cell calculations\n",
      "Starting cell calculations\n",
      "   - Cell 0: Type=<class 'dask.delayed.Delayed'>\n",
      "   - Cell 1: Type=<class 'dask.delayed.Delayed'>\n",
      "   - Cell 2: Type=<class 'dask.delayed.Delayed'>\n",
      "   - Cell 3: Type=<class 'dask.delayed.Delayed'>\n",
      "   - Cell 4: Type=<class 'dask.delayed.Delayed'>\n",
      "🚨 m8 assigned to 1 because building_to_block_share was zero.\n"
     ]
    },
    {
     "name": "stderr",
     "output_type": "stream",
     "text": [
      "/opt/coiled/env/lib/python3.12/site-packages/geopandas/array.py:1638: UserWarning: CRS not set for some of the concatenation inputs. Setting output's CRS as WGS 84 / UTM zone 18N (the single non-null crs provided).\n",
      "  return GeometryArray(data, crs=_get_common_crs(to_concat))\n"
     ]
    },
    {
     "name": "stdout",
     "output_type": "stream",
     "text": [
      "🔄 Converting final_geo_df to Dask GeoDataFrame\n",
      "🚨 m8 assigned to 1 because building_to_block_share was zero.\n",
      "🚨 m8 assigned to 1 because building_to_block_share was zero.\n",
      "🚨 m8 assigned to 1 because building_to_block_share was zero.\n"
     ]
    },
    {
     "name": "stderr",
     "output_type": "stream",
     "text": [
      "/opt/coiled/env/lib/python3.12/site-packages/geopandas/array.py:1638: UserWarning: CRS not set for some of the concatenation inputs. Setting output's CRS as WGS 84 / UTM zone 18N (the single non-null crs provided).\n",
      "  return GeometryArray(data, crs=_get_common_crs(to_concat))\n"
     ]
    },
    {
     "name": "stdout",
     "output_type": "stream",
     "text": [
      "🚨 m8 assigned to 1 because building_to_block_share was zero.\n",
      "🚨 m8 assigned to 1 because building_to_block_share was zero.\n"
     ]
    },
    {
     "name": "stderr",
     "output_type": "stream",
     "text": [
      "/opt/coiled/env/lib/python3.12/site-packages/geopandas/array.py:1638: UserWarning: CRS not set for some of the concatenation inputs. Setting output's CRS as WGS 84 / UTM zone 18N (the single non-null crs provided).\n",
      "  return GeometryArray(data, crs=_get_common_crs(to_concat))\n"
     ]
    },
    {
     "name": "stdout",
     "output_type": "stream",
     "text": [
      "🚨 m8 assigned to 1 because building_to_block_share was zero.\n",
      "🚨 m8 assigned to 1 because building_to_block_share was zero.\n"
     ]
    },
    {
     "name": "stderr",
     "output_type": "stream",
     "text": [
      "/opt/coiled/env/lib/python3.12/site-packages/geopandas/array.py:1638: UserWarning: CRS not set for some of the concatenation inputs. Setting output's CRS as WGS 84 / UTM zone 18N (the single non-null crs provided).\n",
      "  return GeometryArray(data, crs=_get_common_crs(to_concat))\n"
     ]
    },
    {
     "name": "stdout",
     "output_type": "stream",
     "text": [
      "🚨 m8 assigned to 1 because building_to_block_share was zero.\n",
      "🚨 m8 assigned to 1 because building_to_block_share was zero.\n",
      "🚨 m8 assigned to 1 because building_to_block_share was zero.\n",
      "🚨 m8 assigned to 1 because building_to_block_share was zero.\n"
     ]
    },
    {
     "name": "stderr",
     "output_type": "stream",
     "text": [
      "/opt/coiled/env/lib/python3.12/site-packages/geopandas/array.py:1638: UserWarning: CRS not set for some of the concatenation inputs. Setting output's CRS as WGS 84 / UTM zone 18N (the single non-null crs provided).\n",
      "  return GeometryArray(data, crs=_get_common_crs(to_concat))\n"
     ]
    },
    {
     "name": "stdout",
     "output_type": "stream",
     "text": [
      "🚨 m8 assigned to 1 because building_to_block_share was zero.\n",
      "🚨 m8 assigned to 1 because building_to_block_share was zero.\n"
     ]
    },
    {
     "name": "stderr",
     "output_type": "stream",
     "text": [
      "/opt/coiled/env/lib/python3.12/site-packages/geopandas/array.py:1638: UserWarning: CRS not set for some of the concatenation inputs. Setting output's CRS as WGS 84 / UTM zone 18N (the single non-null crs provided).\n",
      "  return GeometryArray(data, crs=_get_common_crs(to_concat))\n"
     ]
    },
    {
     "name": "stdout",
     "output_type": "stream",
     "text": [
      "🚨 m8 assigned to 1 because building_to_block_share was zero.\n"
     ]
    },
    {
     "name": "stderr",
     "output_type": "stream",
     "text": [
      "/opt/coiled/env/lib/python3.12/site-packages/geopandas/array.py:1638: UserWarning: CRS not set for some of the concatenation inputs. Setting output's CRS as WGS 84 / UTM zone 18N (the single non-null crs provided).\n",
      "  return GeometryArray(data, crs=_get_common_crs(to_concat))\n"
     ]
    },
    {
     "name": "stdout",
     "output_type": "stream",
     "text": [
      "🚨 m8 assigned to 1 because building_to_block_share was zero.\n",
      "🚨 m8 assigned to 1 because building_to_block_share was zero.\n"
     ]
    },
    {
     "name": "stderr",
     "output_type": "stream",
     "text": [
      "/opt/coiled/env/lib/python3.12/site-packages/geopandas/array.py:1638: UserWarning: CRS not set for some of the concatenation inputs. Setting output's CRS as WGS 84 / UTM zone 18N (the single non-null crs provided).\n",
      "  return GeometryArray(data, crs=_get_common_crs(to_concat))\n",
      "/opt/coiled/env/lib/python3.12/site-packages/geopandas/array.py:1638: UserWarning: CRS not set for some of the concatenation inputs. Setting output's CRS as WGS 84 / UTM zone 18N (the single non-null crs provided).\n",
      "  return GeometryArray(data, crs=_get_common_crs(to_concat))\n"
     ]
    },
    {
     "name": "stdout",
     "output_type": "stream",
     "text": [
      "🚨 m8 assigned to 1 because building_to_block_share was zero.\n",
      "🚨 m8 assigned to 1 because building_to_block_share was zero.\n"
     ]
    },
    {
     "name": "stderr",
     "output_type": "stream",
     "text": [
      "/opt/coiled/env/lib/python3.12/site-packages/geopandas/array.py:1638: UserWarning: CRS not set for some of the concatenation inputs. Setting output's CRS as WGS 84 / UTM zone 18N (the single non-null crs provided).\n",
      "  return GeometryArray(data, crs=_get_common_crs(to_concat))\n",
      "/opt/coiled/env/lib/python3.12/site-packages/geopandas/array.py:1638: UserWarning: CRS not set for some of the concatenation inputs. Setting output's CRS as WGS 84 / UTM zone 18N (the single non-null crs provided).\n",
      "  return GeometryArray(data, crs=_get_common_crs(to_concat))\n"
     ]
    },
    {
     "name": "stdout",
     "output_type": "stream",
     "text": [
      "🚨 m8 assigned to 1 because building_to_block_share was zero.\n",
      "🚨 m8 assigned to 1 because building_to_block_share was zero.\n",
      "🚨 m8 assigned to 1 because building_to_block_share was zero.\n",
      "🚨 m8 assigned to 1 because building_to_block_share was zero.\n"
     ]
    },
    {
     "name": "stderr",
     "output_type": "stream",
     "text": [
      "/opt/coiled/env/lib/python3.12/site-packages/geopandas/array.py:1638: UserWarning: CRS not set for some of the concatenation inputs. Setting output's CRS as WGS 84 / UTM zone 18N (the single non-null crs provided).\n",
      "  return GeometryArray(data, crs=_get_common_crs(to_concat))\n",
      "/opt/coiled/env/lib/python3.12/site-packages/geopandas/array.py:1638: UserWarning: CRS not set for some of the concatenation inputs. Setting output's CRS as WGS 84 / UTM zone 18N (the single non-null crs provided).\n",
      "  return GeometryArray(data, crs=_get_common_crs(to_concat))\n"
     ]
    },
    {
     "name": "stdout",
     "output_type": "stream",
     "text": [
      "🚨 m8 assigned to 1 because building_to_block_share was zero.\n",
      "🚨 m8 assigned to 1 because building_to_block_share was zero.\n",
      "🚨 m8 assigned to 1 because building_to_block_share was zero.\n",
      "🚨 m8 assigned to 1 because building_to_block_share was zero.\n"
     ]
    },
    {
     "name": "stderr",
     "output_type": "stream",
     "text": [
      "/opt/coiled/env/lib/python3.12/site-packages/geopandas/array.py:1638: UserWarning: CRS not set for some of the concatenation inputs. Setting output's CRS as WGS 84 / UTM zone 18N (the single non-null crs provided).\n",
      "  return GeometryArray(data, crs=_get_common_crs(to_concat))\n"
     ]
    },
    {
     "name": "stdout",
     "output_type": "stream",
     "text": [
      "🚨 m8 assigned to 1 because building_to_block_share was zero.\n",
      "🚨 m8 assigned to 1 because building_to_block_share was zero.\n",
      "🚨 m8 assigned to 1 because building_to_block_share was zero.\n",
      "🚨 m8 assigned to 1 because building_to_block_share was zero.\n",
      "🚨 m8 assigned to 1 because building_to_block_share was zero.\n",
      "🚨 m8 assigned to 1 because building_to_block_share was zero.\n",
      "🚨 m8 assigned to 1 because building_to_block_share was zero.\n",
      "🚨 m8 assigned to 1 because building_to_block_share was zero.\n",
      "🚨 m8 assigned to 1 because building_to_block_share was zero.\n",
      "🚨 m8 assigned to 1 because building_to_block_share was zero.\n",
      "🚨 m8 assigned to 1 because building_to_block_share was zero.\n",
      "🚨 m8 assigned to 1 because building_to_block_share was zero.\n"
     ]
    },
    {
     "name": "stderr",
     "output_type": "stream",
     "text": [
      "/opt/coiled/env/lib/python3.12/site-packages/geopandas/array.py:1638: UserWarning: CRS not set for some of the concatenation inputs. Setting output's CRS as WGS 84 / UTM zone 18N (the single non-null crs provided).\n",
      "  return GeometryArray(data, crs=_get_common_crs(to_concat))\n"
     ]
    },
    {
     "name": "stdout",
     "output_type": "stream",
     "text": [
      "🚨 m8 assigned to 1 because building_to_block_share was zero.\n",
      "🚨 m8 assigned to 1 because building_to_block_share was zero.\n"
     ]
    },
    {
     "name": "stderr",
     "output_type": "stream",
     "text": [
      "/opt/coiled/env/lib/python3.12/site-packages/geopandas/array.py:1638: UserWarning: CRS not set for some of the concatenation inputs. Setting output's CRS as WGS 84 / UTM zone 18N (the single non-null crs provided).\n",
      "  return GeometryArray(data, crs=_get_common_crs(to_concat))\n",
      "/opt/coiled/env/lib/python3.12/site-packages/geopandas/array.py:1638: UserWarning: CRS not set for some of the concatenation inputs. Setting output's CRS as WGS 84 / UTM zone 18N (the single non-null crs provided).\n",
      "  return GeometryArray(data, crs=_get_common_crs(to_concat))\n",
      "/opt/coiled/env/lib/python3.12/site-packages/geopandas/array.py:1638: UserWarning: CRS not set for some of the concatenation inputs. Setting output's CRS as WGS 84 / UTM zone 18N (the single non-null crs provided).\n",
      "  return GeometryArray(data, crs=_get_common_crs(to_concat))\n"
     ]
    },
    {
     "name": "stdout",
     "output_type": "stream",
     "text": [
      "🚨 m8 assigned to 1 because building_to_block_share was zero.\n",
      "🚨 m8 assigned to 1 because building_to_block_share was zero.\n"
     ]
    },
    {
     "name": "stderr",
     "output_type": "stream",
     "text": [
      "/opt/coiled/env/lib/python3.12/site-packages/geopandas/array.py:1638: UserWarning: CRS not set for some of the concatenation inputs. Setting output's CRS as WGS 84 / UTM zone 18N (the single non-null crs provided).\n",
      "  return GeometryArray(data, crs=_get_common_crs(to_concat))\n",
      "/opt/coiled/env/lib/python3.12/site-packages/geopandas/array.py:1638: UserWarning: CRS not set for some of the concatenation inputs. Setting output's CRS as WGS 84 / UTM zone 18N (the single non-null crs provided).\n",
      "  return GeometryArray(data, crs=_get_common_crs(to_concat))\n"
     ]
    },
    {
     "name": "stdout",
     "output_type": "stream",
     "text": [
      "🚨 m8 assigned to 1 because building_to_block_share was zero.\n"
     ]
    },
    {
     "name": "stderr",
     "output_type": "stream",
     "text": [
      "/opt/coiled/env/lib/python3.12/site-packages/geopandas/array.py:1638: UserWarning: CRS not set for some of the concatenation inputs. Setting output's CRS as WGS 84 / UTM zone 18N (the single non-null crs provided).\n",
      "  return GeometryArray(data, crs=_get_common_crs(to_concat))\n"
     ]
    },
    {
     "name": "stdout",
     "output_type": "stream",
     "text": [
      "🚨 m8 assigned to 1 because building_to_block_share was zero.\n",
      "🚨 m8 assigned to 1 because building_to_block_share was zero.\n",
      "🚨 m8 assigned to 1 because building_to_block_share was zero.\n",
      "🚨 m8 assigned to 1 because building_to_block_share was zero.\n",
      "🚨 m8 assigned to 1 because building_to_block_share was zero.\n",
      "🚨 m8 assigned to 1 because building_to_block_share was zero.\n",
      "🚨 m8 assigned to 1 because building_to_block_share was zero.\n",
      "🚨 m8 assigned to 1 because building_to_block_share was zero.\n",
      "🚨 m8 assigned to 1 because building_to_block_share was zero.\n"
     ]
    },
    {
     "name": "stderr",
     "output_type": "stream",
     "text": [
      "/opt/coiled/env/lib/python3.12/site-packages/geopandas/array.py:1638: UserWarning: CRS not set for some of the concatenation inputs. Setting output's CRS as WGS 84 / UTM zone 18N (the single non-null crs provided).\n",
      "  return GeometryArray(data, crs=_get_common_crs(to_concat))\n"
     ]
    },
    {
     "name": "stdout",
     "output_type": "stream",
     "text": [
      "🚨 m8 assigned to 1 because building_to_block_share was zero.\n",
      "🚨 m8 assigned to 1 because building_to_block_share was zero.\n",
      "🚨 m8 assigned to 1 because building_to_block_share was zero.\n",
      "🚨 m8 assigned to 1 because building_to_block_share was zero.\n",
      "🚨 m8 assigned to 1 because building_to_block_share was zero.\n",
      "🚨 m8 assigned to 1 because building_to_block_share was zero.\n",
      "🚨 m8 assigned to 1 because building_to_block_share was zero.\n",
      "🚨 m8 assigned to 1 because building_to_block_share was zero.\n"
     ]
    },
    {
     "name": "stderr",
     "output_type": "stream",
     "text": [
      "/opt/coiled/env/lib/python3.12/site-packages/geopandas/array.py:1638: UserWarning: CRS not set for some of the concatenation inputs. Setting output's CRS as WGS 84 / UTM zone 18N (the single non-null crs provided).\n",
      "  return GeometryArray(data, crs=_get_common_crs(to_concat))\n"
     ]
    },
    {
     "name": "stdout",
     "output_type": "stream",
     "text": [
      "🚨 m8 assigned to 1 because building_to_block_share was zero.\n",
      "🚨 m8 assigned to 1 because building_to_block_share was zero.\n"
     ]
    },
    {
     "name": "stderr",
     "output_type": "stream",
     "text": [
      "/opt/coiled/env/lib/python3.12/site-packages/geopandas/array.py:1638: UserWarning: CRS not set for some of the concatenation inputs. Setting output's CRS as WGS 84 / UTM zone 18N (the single non-null crs provided).\n",
      "  return GeometryArray(data, crs=_get_common_crs(to_concat))\n"
     ]
    },
    {
     "name": "stdout",
     "output_type": "stream",
     "text": [
      "🚨 m8 assigned to 1 because building_to_block_share was zero.\n",
      "🚨 m8 assigned to 1 because building_to_block_share was zero.\n",
      "🚨 m8 assigned to 1 because building_to_block_share was zero.\n"
     ]
    },
    {
     "name": "stderr",
     "output_type": "stream",
     "text": [
      "/opt/coiled/env/lib/python3.12/site-packages/geopandas/array.py:1638: UserWarning: CRS not set for some of the concatenation inputs. Setting output's CRS as WGS 84 / UTM zone 18N (the single non-null crs provided).\n",
      "  return GeometryArray(data, crs=_get_common_crs(to_concat))\n"
     ]
    },
    {
     "name": "stdout",
     "output_type": "stream",
     "text": [
      "🚨 m8 assigned to 1 because building_to_block_share was zero.\n",
      "✅ Temporary save for computation for city Bogota in folder ./Bogota_200m_results/\n",
      "   - Cell 0: Type=<class 'dask.delayed.Delayed'>\n",
      "   - Cell 1: Type=<class 'dask.delayed.Delayed'>\n",
      "   - Cell 2: Type=<class 'dask.delayed.Delayed'>\n",
      "   - Cell 3: Type=<class 'dask.delayed.Delayed'>\n",
      "   - Cell 4: Type=<class 'dask.delayed.Delayed'>\n"
     ]
    },
    {
     "name": "stderr",
     "output_type": "stream",
     "text": [
      "/opt/coiled/env/lib/python3.12/site-packages/distributed/client.py:3370: UserWarning: Sending large graph of size 9.95 MiB.\n",
      "This may cause some slowdown.\n",
      "Consider loading the data with Dask directly\n",
      " or using futures or delayed objects to embed the data into the graph without repetition.\n",
      "See also https://docs.dask.org/en/stable/best-practices.html#load-data-with-dask for more information.\n",
      "  warnings.warn(\n"
     ]
    },
    {
     "name": "stdout",
     "output_type": "stream",
     "text": [
      "🔄 Converting final_geo_df to Dask GeoDataFrame\n",
      "🚨 m8 assigned to 1 because building_to_block_share was zero.\n",
      "🚨 m8 assigned to 1 because building_to_block_share was zero.\n",
      "🚨 m8 assigned to 1 because building_to_block_share was zero.\n",
      "🚨 m8 assigned to 1 because building_to_block_share was zero.\n",
      "🚨 m8 assigned to 1 because building_to_block_share was zero.\n"
     ]
    },
    {
     "name": "stderr",
     "output_type": "stream",
     "text": [
      "/opt/coiled/env/lib/python3.12/site-packages/geopandas/array.py:1638: UserWarning: CRS not set for some of the concatenation inputs. Setting output's CRS as WGS 84 / UTM zone 23S (the single non-null crs provided).\n",
      "  return GeometryArray(data, crs=_get_common_crs(to_concat))\n"
     ]
    },
    {
     "name": "stdout",
     "output_type": "stream",
     "text": [
      "🚨 m8 assigned to 1 because building_to_block_share was zero.\n",
      "🚨 m8 assigned to 1 because building_to_block_share was zero.\n",
      "🚨 m8 assigned to 1 because building_to_block_share was zero.\n",
      "🚨 m8 assigned to 1 because building_to_block_share was zero.\n",
      "🚨 m8 assigned to 1 because building_to_block_share was zero.\n",
      "🚨 m8 assigned to 1 because building_to_block_share was zero.\n",
      "🚨 m8 assigned to 1 because building_to_block_share was zero.\n",
      "🚨 m8 assigned to 1 because building_to_block_share was zero.\n",
      "🚨 m8 assigned to 1 because building_to_block_share was zero.\n",
      "🚨 m8 assigned to 1 because building_to_block_share was zero.\n",
      "🚨 m8 assigned to 1 because building_to_block_share was zero.\n",
      "🚨 m8 assigned to 1 because building_to_block_share was zero.\n",
      "🚨 m8 assigned to 1 because building_to_block_share was zero.\n",
      "🚨 m8 assigned to 1 because building_to_block_share was zero.\n",
      "🚨 m8 assigned to 1 because building_to_block_share was zero.\n",
      "🚨 m8 assigned to 1 because building_to_block_share was zero.\n",
      "🚨 m8 assigned to 1 because building_to_block_share was zero.\n",
      "🚨 m8 assigned to 1 because building_to_block_share was zero.\n",
      "🚨 m8 assigned to 1 because building_to_block_share was zero.\n",
      "🚨 m8 assigned to 1 because building_to_block_share was zero.\n",
      "🚨 m8 assigned to 1 because building_to_block_share was zero.\n"
     ]
    },
    {
     "name": "stderr",
     "output_type": "stream",
     "text": [
      "/opt/coiled/env/lib/python3.12/site-packages/geopandas/array.py:1638: UserWarning: CRS not set for some of the concatenation inputs. Setting output's CRS as WGS 84 / UTM zone 23S (the single non-null crs provided).\n",
      "  return GeometryArray(data, crs=_get_common_crs(to_concat))\n"
     ]
    },
    {
     "name": "stdout",
     "output_type": "stream",
     "text": [
      "🚨 m8 assigned to 1 because building_to_block_share was zero.\n",
      "🚨 m8 assigned to 1 because building_to_block_share was zero.\n",
      "🚨 m8 assigned to 1 because building_to_block_share was zero.\n",
      "🚨 m8 assigned to 1 because building_to_block_share was zero.\n",
      "🚨 m8 assigned to 1 because building_to_block_share was zero.\n",
      "🚨 m8 assigned to 1 because building_to_block_share was zero.\n",
      "🚨 m8 assigned to 1 because building_to_block_share was zero.\n"
     ]
    },
    {
     "name": "stderr",
     "output_type": "stream",
     "text": [
      "/opt/coiled/env/lib/python3.12/site-packages/geopandas/array.py:1638: UserWarning: CRS not set for some of the concatenation inputs. Setting output's CRS as WGS 84 / UTM zone 23S (the single non-null crs provided).\n",
      "  return GeometryArray(data, crs=_get_common_crs(to_concat))\n"
     ]
    },
    {
     "name": "stdout",
     "output_type": "stream",
     "text": [
      "🚨 m8 assigned to 1 because building_to_block_share was zero.\n",
      "🚨 m8 assigned to 1 because building_to_block_share was zero.\n",
      "🚨 m8 assigned to 1 because building_to_block_share was zero.\n",
      "✅ Successfully processed and saved Bogota to s3://wri-cities-sandbox/identifyingLandSubdivisions/data/output/raw_results/Bogota/raw_results_200\n",
      "✅ (And temporary file was deleted) Bogota to s3://wri-cities-sandbox/identifyingLandSubdivisions/data/output/raw_results/Bogota/raw_results_200\n",
      "🚨 m8 assigned to 1 because building_to_block_share was zero.\n",
      "🚨 m8 assigned to 1 because building_to_block_share was zero.\n",
      "🚨 m8 assigned to 1 because building_to_block_share was zero.\n",
      "🚨 m8 assigned to 1 because building_to_block_share was zero.\n"
     ]
    },
    {
     "name": "stderr",
     "output_type": "stream",
     "text": [
      "/opt/coiled/env/lib/python3.12/site-packages/geopandas/array.py:1638: UserWarning: CRS not set for some of the concatenation inputs. Setting output's CRS as WGS 84 / UTM zone 23S (the single non-null crs provided).\n",
      "  return GeometryArray(data, crs=_get_common_crs(to_concat))\n"
     ]
    },
    {
     "name": "stdout",
     "output_type": "stream",
     "text": [
      "🚨 m8 assigned to 1 because building_to_block_share was zero.\n",
      "🚨 m8 assigned to 1 because building_to_block_share was zero.\n"
     ]
    },
    {
     "name": "stderr",
     "output_type": "stream",
     "text": [
      "/opt/coiled/env/lib/python3.12/site-packages/geopandas/array.py:1638: UserWarning: CRS not set for some of the concatenation inputs. Setting output's CRS as WGS 84 / UTM zone 23S (the single non-null crs provided).\n",
      "  return GeometryArray(data, crs=_get_common_crs(to_concat))\n"
     ]
    },
    {
     "name": "stdout",
     "output_type": "stream",
     "text": [
      "🚨 m8 assigned to 1 because building_to_block_share was zero.\n",
      "🚨 m8 assigned to 1 because building_to_block_share was zero.\n",
      "🚨 m8 assigned to 1 because building_to_block_share was zero.\n",
      "🚨 m8 assigned to 1 because building_to_block_share was zero.\n",
      "🚨 m8 assigned to 1 because building_to_block_share was zero.\n"
     ]
    },
    {
     "name": "stderr",
     "output_type": "stream",
     "text": [
      "/opt/coiled/env/lib/python3.12/site-packages/geopandas/array.py:1638: UserWarning: CRS not set for some of the concatenation inputs. Setting output's CRS as WGS 84 / UTM zone 23S (the single non-null crs provided).\n",
      "  return GeometryArray(data, crs=_get_common_crs(to_concat))\n"
     ]
    },
    {
     "name": "stdout",
     "output_type": "stream",
     "text": [
      "🚨 m8 assigned to 1 because building_to_block_share was zero.\n",
      "🚨 m8 assigned to 1 because building_to_block_share was zero.\n",
      "🚨 m8 assigned to 1 because building_to_block_share was zero.\n",
      "🚨 m8 assigned to 1 because building_to_block_share was zero.\n",
      "🚨 m8 assigned to 1 because building_to_block_share was zero.\n"
     ]
    },
    {
     "name": "stderr",
     "output_type": "stream",
     "text": [
      "/opt/coiled/env/lib/python3.12/site-packages/geopandas/array.py:1638: UserWarning: CRS not set for some of the concatenation inputs. Setting output's CRS as WGS 84 / UTM zone 23S (the single non-null crs provided).\n",
      "  return GeometryArray(data, crs=_get_common_crs(to_concat))\n"
     ]
    },
    {
     "name": "stdout",
     "output_type": "stream",
     "text": [
      "🚨 m8 assigned to 1 because building_to_block_share was zero.\n",
      "🚨 m8 assigned to 1 because building_to_block_share was zero.\n",
      "🚨 m8 assigned to 1 because building_to_block_share was zero.\n",
      "🚨 m8 assigned to 1 because building_to_block_share was zero.\n"
     ]
    },
    {
     "name": "stderr",
     "output_type": "stream",
     "text": [
      "/opt/coiled/env/lib/python3.12/site-packages/geopandas/array.py:1638: UserWarning: CRS not set for some of the concatenation inputs. Setting output's CRS as WGS 84 / UTM zone 23S (the single non-null crs provided).\n",
      "  return GeometryArray(data, crs=_get_common_crs(to_concat))\n"
     ]
    },
    {
     "name": "stdout",
     "output_type": "stream",
     "text": [
      "🚨 m8 assigned to 1 because building_to_block_share was zero.\n",
      "🚨 m8 assigned to 1 because building_to_block_share was zero.\n"
     ]
    },
    {
     "name": "stderr",
     "output_type": "stream",
     "text": [
      "/opt/coiled/env/lib/python3.12/site-packages/geopandas/array.py:1638: UserWarning: CRS not set for some of the concatenation inputs. Setting output's CRS as WGS 84 / UTM zone 23S (the single non-null crs provided).\n",
      "  return GeometryArray(data, crs=_get_common_crs(to_concat))\n"
     ]
    },
    {
     "name": "stdout",
     "output_type": "stream",
     "text": [
      "🚨 m8 assigned to 1 because building_to_block_share was zero.\n",
      "🚨 m8 assigned to 1 because building_to_block_share was zero.\n",
      "🚨 m8 assigned to 1 because building_to_block_share was zero.\n",
      "🚨 m8 assigned to 1 because building_to_block_share was zero.\n",
      "🚨 m8 assigned to 1 because building_to_block_share was zero.\n",
      "🚨 m8 assigned to 1 because building_to_block_share was zero.\n",
      "✅ Temporary save for computation for city Belo_Horizonte in folder ./Belo_Horizonte_200m_results/\n",
      "✅ Successfully processed and saved Belo_Horizonte to s3://wri-cities-sandbox/identifyingLandSubdivisions/data/output/raw_results/Belo_Horizonte/raw_results_200\n",
      "✅ (And temporary file was deleted) Belo_Horizonte to s3://wri-cities-sandbox/identifyingLandSubdivisions/data/output/raw_results/Belo_Horizonte/raw_results_200\n",
      "Tasks completed in 379.31 seconds.\n"
     ]
    }
   ],
   "source": [
    "import time\n",
    "start_time = time.time()  # Start the timer\n",
    "\n",
    "#%autoreload\n",
    "from citywide_calculation import run_all_citywide_calculation\n",
    "run_all_citywide_calculation(cities,sample_prop=0.01) \n",
    "\n",
    "end_time = time.time()  # End the timer\n",
    "elapsed_time = end_time - start_time\n",
    "\n",
    "print(f\"Tasks completed in {elapsed_time:.2f} seconds.\")"
   ]
  },
  {
   "cell_type": "code",
   "execution_count": null,
   "id": "4608ae11-7126-453e-bad9-6bde7e1827a5",
   "metadata": {},
   "outputs": [],
   "source": []
  },
  {
   "cell_type": "markdown",
   "id": "e1528e04",
   "metadata": {},
   "source": [
    "## Run 1\n",
    "cities = 12\n",
    "seconds = 505.27\n",
    "instance_type = 'm6i.xlarge'\n",
    "\n",
    "sec/city = seconds / cities\n",
    "\n"
   ]
  },
  {
   "cell_type": "code",
   "execution_count": null,
   "id": "4c50e70d-a724-4b76-afbb-b310d2f9e114",
   "metadata": {},
   "outputs": [],
   "source": []
  }
 ],
 "metadata": {
  "kernelspec": {
   "display_name": "Python 3 (ipykernel)",
   "language": "python",
   "name": "python3"
  },
  "language_info": {
   "codemirror_mode": {
    "name": "ipython",
    "version": 3
   },
   "file_extension": ".py",
   "mimetype": "text/x-python",
   "name": "python",
   "nbconvert_exporter": "python",
   "pygments_lexer": "ipython3",
   "version": "3.12.9"
  }
 },
 "nbformat": 4,
 "nbformat_minor": 5
}
