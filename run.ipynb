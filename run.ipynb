{
 "cells": [
  {
   "cell_type": "code",
   "execution_count": 1,
   "id": "dfae776d-1bfe-4b19-b1ec-cadeac6a7c3b",
   "metadata": {},
   "outputs": [],
   "source": [
    "%load_ext autoreload"
   ]
  },
  {
   "cell_type": "code",
   "execution_count": 2,
   "id": "1d6537ee-911c-4d44-983a-f4e39afa69b7",
   "metadata": {},
   "outputs": [
    {
     "name": "stdout",
     "output_type": "stream",
     "text": [
      "Available memory: 60.23 GB\n"
     ]
    }
   ],
   "source": [
    "import psutil\n",
    "\n",
    "mem = psutil.virtual_memory()\n",
    "available_memory = mem.available / (1024 * 1024 * 1024)  # Convert to MB\n",
    "\n",
    "print(f\"Available memory: {available_memory:.2f} GB\")\n",
    "\n",
    "pct_to_use = 0.8\n"
   ]
  },
  {
   "cell_type": "markdown",
   "id": "0ce43995",
   "metadata": {},
   "source": [
    "# Define cities"
   ]
  },
  {
   "cell_type": "code",
   "execution_count": 3,
   "id": "51118b1f-6f6c-4c18-8f01-908a958ee201",
   "metadata": {},
   "outputs": [
    {
     "data": {
      "text/plain": [
       "421"
      ]
     },
     "execution_count": 3,
     "metadata": {},
     "output_type": "execute_result"
    }
   ],
   "source": [
    "# List of cities to process\n",
    "cities = [\"Belo_Horizonte\", \"Campinas\", \"Bogota\", \"Nairobi\", \"Bamako\", \n",
    "        \"Lagos\", \"Accra\", \"Abidjan\", \"Mogadishu\", \"Cape_Town\", \n",
    "        \"Maputo\", \"Luanda\"]\n",
    "\n",
    "test_cities = [\"Belo_Horizonte\", \"Bogota\"] #\"Belo_Horizonte\",\n",
    "cities = test_cities\n",
    "\n",
    "\n",
    "number_of_cities = len(cities)\n",
    "\n",
    "number_of_cities"
   ]
  },
  {
   "cell_type": "markdown",
   "id": "e88b84c6",
   "metadata": {},
   "source": [
    "# Dask on Coiled notebook"
   ]
  },
  {
   "cell_type": "code",
   "execution_count": 4,
   "id": "c5f720ce-ecf5-4780-bc16-438703c6322f",
   "metadata": {},
   "outputs": [
    {
     "name": "stdout",
     "output_type": "stream",
     "text": [
      "Started a new Dask client. Dashboard is available at https://cluster-mddnt.dask.host/jupyter/proxy/8787/status\n"
     ]
    }
   ],
   "source": [
    "from dask.distributed import Client, LocalCluster\n",
    "\n",
    "N_WORKERS = 5  # Reduce workers to avoid excessive parallel memory load\n",
    "THREADS_PER_WORKER = 5  # More threads per worker for better resource utilization\n",
    "MEMORY_LIMIT = \"48GB\"  # Increase memory per worker\n",
    "\n",
    "cluster = LocalCluster(n_workers=N_WORKERS, threads_per_worker=THREADS_PER_WORKER, memory_limit=MEMORY_LIMIT)\n",
    "client = Client(cluster)\n",
    "print(f\"Started a new Dask client. Dashboard is available at {client.dashboard_link}\")\n"
   ]
  },
  {
   "cell_type": "markdown",
   "id": "fc4f2b1a",
   "metadata": {},
   "source": [
    "# Run code"
   ]
  },
  {
   "cell_type": "code",
   "execution_count": 5,
   "id": "9e7e2dd9-5f71-41ac-9731-a6f8bb589356",
   "metadata": {
    "scrolled": true
   },
   "outputs": [
    {
     "name": "stderr",
     "output_type": "stream",
     "text": [
      "INFO:ee_data_fetch:START\n"
     ]
    },
    {
     "ename": "TypeError",
     "evalue": "main() takes 0 positional arguments but 1 was given",
     "output_type": "error",
     "traceback": [
      "\u001b[0;31m---------------------------------------------------------------------------\u001b[0m",
      "\u001b[0;31mTypeError\u001b[0m                                 Traceback (most recent call last)",
      "Cell \u001b[0;32mIn[5], line 6\u001b[0m\n\u001b[1;32m      4\u001b[0m get_ipython()\u001b[38;5;241m.\u001b[39mrun_line_magic(\u001b[38;5;124m'\u001b[39m\u001b[38;5;124mautoreload\u001b[39m\u001b[38;5;124m'\u001b[39m, \u001b[38;5;124m'\u001b[39m\u001b[38;5;124m'\u001b[39m)\n\u001b[1;32m      5\u001b[0m \u001b[38;5;28;01mfrom\u001b[39;00m\u001b[38;5;250m \u001b[39m\u001b[38;5;21;01mee_data_fetch\u001b[39;00m\u001b[38;5;250m \u001b[39m\u001b[38;5;28;01mimport\u001b[39;00m main\n\u001b[0;32m----> 6\u001b[0m \u001b[43mmain\u001b[49m\u001b[43m(\u001b[49m\u001b[43mcities\u001b[49m\u001b[43m)\u001b[49m\n\u001b[1;32m      8\u001b[0m end_time \u001b[38;5;241m=\u001b[39m time\u001b[38;5;241m.\u001b[39mtime()  \u001b[38;5;66;03m# End the timer\u001b[39;00m\n\u001b[1;32m      9\u001b[0m elapsed_time \u001b[38;5;241m=\u001b[39m end_time \u001b[38;5;241m-\u001b[39m start_time\n",
      "\u001b[0;31mTypeError\u001b[0m: main() takes 0 positional arguments but 1 was given"
     ]
    }
   ],
   "source": [
    "import time\n",
    "start_time = time.time()  # Start the timer\n",
    "\n",
    "%autoreload\n",
    "from ee_data_fetch import main\n",
    "main(cities)\n",
    "\n",
    "end_time = time.time()  # End the timer\n",
    "elapsed_time = end_time - start_time\n",
    "\n",
    "print(f\"Tasks completed in {elapsed_time:.2f} seconds.\")"
   ]
  },
  {
   "cell_type": "code",
   "execution_count": 6,
   "id": "401bd06b-00eb-453a-acd0-d98dd499d5ad",
   "metadata": {},
   "outputs": [
    {
     "data": {
      "text/html": [
       "\n",
       "            <style>\n",
       "                .geemap-dark {\n",
       "                    --jp-widgets-color: white;\n",
       "                    --jp-widgets-label-color: white;\n",
       "                    --jp-ui-font-color1: white;\n",
       "                    --jp-layout-color2: #454545;\n",
       "                    background-color: #383838;\n",
       "                }\n",
       "\n",
       "                .geemap-dark .jupyter-button {\n",
       "                    --jp-layout-color3: #383838;\n",
       "                }\n",
       "\n",
       "                .geemap-colab {\n",
       "                    background-color: var(--colab-primary-surface-color, white);\n",
       "                }\n",
       "\n",
       "                .geemap-colab .jupyter-button {\n",
       "                    --jp-layout-color3: var(--colab-primary-surface-color, white);\n",
       "                }\n",
       "            </style>\n",
       "            "
      ],
      "text/plain": [
       "<IPython.core.display.HTML object>"
      ]
     },
     "metadata": {},
     "output_type": "display_data"
    },
    {
     "name": "stderr",
     "output_type": "stream",
     "text": [
      "INFO:matplotlib.font_manager:generated new fontManager\n"
     ]
    },
    {
     "name": "stdout",
     "output_type": "stream",
     "text": [
      "Entering run_all\n",
      "✅ File exists in S3: s3://wri-cities-sandbox/identifyingLandSubdivisions/data/input/city_info/search_buffers/Jolo/Jolo_search_buffer.geoparquet\n",
      "✅ File exists in S3: s3://wri-cities-sandbox/identifyingLandSubdivisions/data/input/city_info/search_buffers/Medan/Medan_search_buffer.geoparquet\n",
      "✅ File exists in S3: s3://wri-cities-sandbox/identifyingLandSubdivisions/data/input/city_info/search_buffers/Lahore/Lahore_search_buffer.geoparquet\n",
      "✅ Successfully read file for Jolo: 1 rows\n",
      "✅ File exists in S3: s3://wri-cities-sandbox/identifyingLandSubdivisions/data/input/city_info/search_buffers/Padang/Padang_search_buffer.geoparquet\n",
      "Error for Sitapur: ❌ ERROR: File does not exist in S3: s3://wri-cities-sandbox/identifyingLandSubdivisions/data/input/city_info/search_buffers/Sitapur/Sitapur_search_buffer.geoparquet\n",
      "✅ File exists in S3: s3://wri-cities-sandbox/identifyingLandSubdivisions/data/input/city_info/search_buffers/Abeokuta/Abeokuta_search_buffer.geoparquet\n",
      "✅ File exists in S3: s3://wri-cities-sandbox/identifyingLandSubdivisions/data/input/city_info/search_buffers/Changzhou/Changzhou_search_buffer.geoparquet\n",
      "✅ File exists in S3: s3://wri-cities-sandbox/identifyingLandSubdivisions/data/input/city_info/search_buffers/Douala/Douala_search_buffer.geoparquet\n",
      "✅ Successfully read file for Medan: 1 rows\n",
      "Error for Udon_Thani: ❌ ERROR: File does not exist in S3: s3://wri-cities-sandbox/identifyingLandSubdivisions/data/input/city_info/search_buffers/Udon_Thani/Udon_Thani_search_buffer.geoparquet\n",
      "Error for Souk_Ahras: ❌ ERROR: File does not exist in S3: s3://wri-cities-sandbox/identifyingLandSubdivisions/data/input/city_info/search_buffers/Souk_Ahras/Souk_Ahras_search_buffer.geoparquet\n",
      "✅ File exists in S3: s3://wri-cities-sandbox/identifyingLandSubdivisions/data/input/city_info/search_buffers/Hindaun/Hindaun_search_buffer.geoparquet\n",
      "Error for Ulaanbaatar: ❌ ERROR: File does not exist in S3: s3://wri-cities-sandbox/identifyingLandSubdivisions/data/input/city_info/search_buffers/Ulaanbaatar/Ulaanbaatar_search_buffer.geoparquet\n",
      "✅ File exists in S3: s3://wri-cities-sandbox/identifyingLandSubdivisions/data/input/city_info/search_buffers/Bangui/Bangui_search_buffer.geoparquet\n",
      "Error for Srinagar: ❌ ERROR: File does not exist in S3: s3://wri-cities-sandbox/identifyingLandSubdivisions/data/input/city_info/search_buffers/Srinagar/Srinagar_search_buffer.geoparquet\n",
      "✅ Successfully read file for Lahore: 1 rows\n",
      "Error for Rajshahi: ❌ ERROR: File does not exist in S3: s3://wri-cities-sandbox/identifyingLandSubdivisions/data/input/city_info/search_buffers/Rajshahi/Rajshahi_search_buffer.geoparquet\n",
      "✅ Successfully read file for Padang: 1 rows\n",
      "Error for Umuahia: ❌ ERROR: File does not exist in S3: s3://wri-cities-sandbox/identifyingLandSubdivisions/data/input/city_info/search_buffers/Umuahia/Umuahia_search_buffer.geoparquet\n",
      "Error for Subang: ❌ ERROR: File does not exist in S3: s3://wri-cities-sandbox/identifyingLandSubdivisions/data/input/city_info/search_buffers/Subang/Subang_search_buffer.geoparquet\n",
      "Error for Rawang: ❌ ERROR: File does not exist in S3: s3://wri-cities-sandbox/identifyingLandSubdivisions/data/input/city_info/search_buffers/Rawang/Rawang_search_buffer.geoparquet\n",
      "✅ Successfully read file for Douala: 1 rows\n",
      "Error for Uruguaiana: ❌ ERROR: File does not exist in S3: s3://wri-cities-sandbox/identifyingLandSubdivisions/data/input/city_info/search_buffers/Uruguaiana/Uruguaiana_search_buffer.geoparquet\n",
      "Error for Suining: ❌ ERROR: File does not exist in S3: s3://wri-cities-sandbox/identifyingLandSubdivisions/data/input/city_info/search_buffers/Suining/Suining_search_buffer.geoparquet\n",
      "✅ Successfully read file for Abeokuta: 1 rows\n",
      "Error for Reynosa: ❌ ERROR: File does not exist in S3: s3://wri-cities-sandbox/identifyingLandSubdivisions/data/input/city_info/search_buffers/Reynosa/Reynosa_search_buffer.geoparquet\n",
      "✅ Successfully read file for Bangui: 1 rows\n",
      "Error for Sulaimaniyah: ❌ ERROR: File does not exist in S3: s3://wri-cities-sandbox/identifyingLandSubdivisions/data/input/city_info/search_buffers/Sulaimaniyah/Sulaimaniyah_search_buffer.geoparquet\n",
      "Error for Ribeirao_Preto: ❌ ERROR: File does not exist in S3: s3://wri-cities-sandbox/identifyingLandSubdivisions/data/input/city_info/search_buffers/Ribeirao_Preto/Ribeirao_Preto_search_buffer.geoparquet\n",
      "Error for Urumqi: ❌ ERROR: File does not exist in S3: s3://wri-cities-sandbox/identifyingLandSubdivisions/data/input/city_info/search_buffers/Urumqi/Urumqi_search_buffer.geoparquet\n",
      "✅ Successfully read file for Hindaun: 1 rows\n",
      "Error for Sumbawanga: ❌ ERROR: File does not exist in S3: s3://wri-cities-sandbox/identifyingLandSubdivisions/data/input/city_info/search_buffers/Sumbawanga/Sumbawanga_search_buffer.geoparquet\n",
      "Error for Vadodara: ❌ ERROR: File does not exist in S3: s3://wri-cities-sandbox/identifyingLandSubdivisions/data/input/city_info/search_buffers/Vadodara/Vadodara_search_buffer.geoparquet\n",
      "Error for Surabaya: ❌ ERROR: File does not exist in S3: s3://wri-cities-sandbox/identifyingLandSubdivisions/data/input/city_info/search_buffers/Surabaya/Surabaya_search_buffer.geoparquet\n",
      "Error for Rio_de_Janeiro: ❌ ERROR: File does not exist in S3: s3://wri-cities-sandbox/identifyingLandSubdivisions/data/input/city_info/search_buffers/Rio_de_Janeiro/Rio_de_Janeiro_search_buffer.geoparquet\n",
      "Error for Valencia: ❌ ERROR: File does not exist in S3: s3://wri-cities-sandbox/identifyingLandSubdivisions/data/input/city_info/search_buffers/Valencia/Valencia_search_buffer.geoparquet\n",
      "Error for Surat: ❌ ERROR: File does not exist in S3: s3://wri-cities-sandbox/identifyingLandSubdivisions/data/input/city_info/search_buffers/Surat/Surat_search_buffer.geoparquet\n",
      "Error for Riyadh: ❌ ERROR: File does not exist in S3: s3://wri-cities-sandbox/identifyingLandSubdivisions/data/input/city_info/search_buffers/Riyadh/Riyadh_search_buffer.geoparquet\n",
      "Error for Valencia: ❌ ERROR: File does not exist in S3: s3://wri-cities-sandbox/identifyingLandSubdivisions/data/input/city_info/search_buffers/Valencia/Valencia_search_buffer.geoparquet\n",
      "Error for Surat_Thani: ❌ ERROR: File does not exist in S3: s3://wri-cities-sandbox/identifyingLandSubdivisions/data/input/city_info/search_buffers/Surat_Thani/Surat_Thani_search_buffer.geoparquet\n",
      "✅ Successfully read file for Changzhou: 1 rows\n",
      "Error for Roorkee: ❌ ERROR: File does not exist in S3: s3://wri-cities-sandbox/identifyingLandSubdivisions/data/input/city_info/search_buffers/Roorkee/Roorkee_search_buffer.geoparquet\n",
      "Error for Valledupar: ❌ ERROR: File does not exist in S3: s3://wri-cities-sandbox/identifyingLandSubdivisions/data/input/city_info/search_buffers/Valledupar/Valledupar_search_buffer.geoparquet\n",
      "Error for Suva: ❌ ERROR: File does not exist in S3: s3://wri-cities-sandbox/identifyingLandSubdivisions/data/input/city_info/search_buffers/Suva/Suva_search_buffer.geoparquet\n",
      "Error for Vientiane: ❌ ERROR: File does not exist in S3: s3://wri-cities-sandbox/identifyingLandSubdivisions/data/input/city_info/search_buffers/Vientiane/Vientiane_search_buffer.geoparquet\n",
      "Error for Sagamu: ❌ ERROR: File does not exist in S3: s3://wri-cities-sandbox/identifyingLandSubdivisions/data/input/city_info/search_buffers/Sagamu/Sagamu_search_buffer.geoparquet\n",
      "Error for Tabuk: ❌ ERROR: File does not exist in S3: s3://wri-cities-sandbox/identifyingLandSubdivisions/data/input/city_info/search_buffers/Tabuk/Tabuk_search_buffer.geoparquet\n",
      "Error for Vijayawada: ❌ ERROR: File does not exist in S3: s3://wri-cities-sandbox/identifyingLandSubdivisions/data/input/city_info/search_buffers/Vijayawada/Vijayawada_search_buffer.geoparquet\n",
      "Error for Saidpur: ❌ ERROR: File does not exist in S3: s3://wri-cities-sandbox/identifyingLandSubdivisions/data/input/city_info/search_buffers/Saidpur/Saidpur_search_buffer.geoparquet\n",
      "Error for Tagum: ❌ ERROR: File does not exist in S3: s3://wri-cities-sandbox/identifyingLandSubdivisions/data/input/city_info/search_buffers/Tagum/Tagum_search_buffer.geoparquet\n",
      "Error for Villahermosa: ❌ ERROR: File does not exist in S3: s3://wri-cities-sandbox/identifyingLandSubdivisions/data/input/city_info/search_buffers/Villahermosa/Villahermosa_search_buffer.geoparquet\n",
      "Error for Saki: ❌ ERROR: File does not exist in S3: s3://wri-cities-sandbox/identifyingLandSubdivisions/data/input/city_info/search_buffers/Saki/Saki_search_buffer.geoparquet\n",
      "Error for Tangier: ❌ ERROR: File does not exist in S3: s3://wri-cities-sandbox/identifyingLandSubdivisions/data/input/city_info/search_buffers/Tangier/Tangier_search_buffer.geoparquet\n",
      "Error for Visakhapatnam: ❌ ERROR: File does not exist in S3: s3://wri-cities-sandbox/identifyingLandSubdivisions/data/input/city_info/search_buffers/Visakhapatnam/Visakhapatnam_search_buffer.geoparquet\n",
      "Error for Salina_Cruz: ❌ ERROR: File does not exist in S3: s3://wri-cities-sandbox/identifyingLandSubdivisions/data/input/city_info/search_buffers/Salina_Cruz/Salina_Cruz_search_buffer.geoparquet\n",
      "Error for Tangshan: ❌ ERROR: File does not exist in S3: s3://wri-cities-sandbox/identifyingLandSubdivisions/data/input/city_info/search_buffers/Tangshan/Tangshan_search_buffer.geoparquet\n",
      "Error for Warri: ❌ ERROR: File does not exist in S3: s3://wri-cities-sandbox/identifyingLandSubdivisions/data/input/city_info/search_buffers/Warri/Warri_search_buffer.geoparquet\n",
      "Error for Saltillo: ❌ ERROR: File does not exist in S3: s3://wri-cities-sandbox/identifyingLandSubdivisions/data/input/city_info/search_buffers/Saltillo/Saltillo_search_buffer.geoparquet\n",
      "Error for Tanta: ❌ ERROR: File does not exist in S3: s3://wri-cities-sandbox/identifyingLandSubdivisions/data/input/city_info/search_buffers/Tanta/Tanta_search_buffer.geoparquet\n",
      "Error for Wazirabad: ❌ ERROR: File does not exist in S3: s3://wri-cities-sandbox/identifyingLandSubdivisions/data/input/city_info/search_buffers/Wazirabad/Wazirabad_search_buffer.geoparquet\n",
      "Error for Salto: ❌ ERROR: File does not exist in S3: s3://wri-cities-sandbox/identifyingLandSubdivisions/data/input/city_info/search_buffers/Salto/Salto_search_buffer.geoparquet\n",
      "Error for Tartus: ❌ ERROR: File does not exist in S3: s3://wri-cities-sandbox/identifyingLandSubdivisions/data/input/city_info/search_buffers/Tartus/Tartus_search_buffer.geoparquet\n",
      "Error for Wendeng: ❌ ERROR: File does not exist in S3: s3://wri-cities-sandbox/identifyingLandSubdivisions/data/input/city_info/search_buffers/Wendeng/Wendeng_search_buffer.geoparquet\n",
      "Error for Salvador: ❌ ERROR: File does not exist in S3: s3://wri-cities-sandbox/identifyingLandSubdivisions/data/input/city_info/search_buffers/Salvador/Salvador_search_buffer.geoparquet\n",
      "Error for Tartus: ❌ ERROR: File does not exist in S3: s3://wri-cities-sandbox/identifyingLandSubdivisions/data/input/city_info/search_buffers/Tartus/Tartus_search_buffer.geoparquet\n",
      "Error for Willemstad: ❌ ERROR: File does not exist in S3: s3://wri-cities-sandbox/identifyingLandSubdivisions/data/input/city_info/search_buffers/Willemstad/Willemstad_search_buffer.geoparquet\n",
      "Error for Tashkent: ❌ ERROR: File does not exist in S3: s3://wri-cities-sandbox/identifyingLandSubdivisions/data/input/city_info/search_buffers/Tashkent/Tashkent_search_buffer.geoparquetError for Samarinda: ❌ ERROR: File does not exist in S3: s3://wri-cities-sandbox/identifyingLandSubdivisions/data/input/city_info/search_buffers/Samarinda/Samarinda_search_buffer.geoparquet\n",
      "\n",
      "Error for Wuhan: ❌ ERROR: File does not exist in S3: s3://wri-cities-sandbox/identifyingLandSubdivisions/data/input/city_info/search_buffers/Wuhan/Wuhan_search_buffer.geoparquet\n",
      "Error for Santa_Marta: ❌ ERROR: File does not exist in S3: s3://wri-cities-sandbox/identifyingLandSubdivisions/data/input/city_info/search_buffers/Santa_Marta/Santa_Marta_search_buffer.geoparquet\n",
      "Error for Tasikmalaya: ❌ ERROR: File does not exist in S3: s3://wri-cities-sandbox/identifyingLandSubdivisions/data/input/city_info/search_buffers/Tasikmalaya/Tasikmalaya_search_buffer.geoparquet\n",
      "Error for Wuhan: ❌ ERROR: File does not exist in S3: s3://wri-cities-sandbox/identifyingLandSubdivisions/data/input/city_info/search_buffers/Wuhan/Wuhan_search_buffer.geoparquet\n",
      "Error for Santa_Marta: ❌ ERROR: File does not exist in S3: s3://wri-cities-sandbox/identifyingLandSubdivisions/data/input/city_info/search_buffers/Santa_Marta/Santa_Marta_search_buffer.geoparquet\n",
      "Error for Taza: ❌ ERROR: File does not exist in S3: s3://wri-cities-sandbox/identifyingLandSubdivisions/data/input/city_info/search_buffers/Taza/Taza_search_buffer.geoparquet\n",
      "Error for Xalapa: ❌ ERROR: File does not exist in S3: s3://wri-cities-sandbox/identifyingLandSubdivisions/data/input/city_info/search_buffers/Xalapa/Xalapa_search_buffer.geoparquet\n",
      "Error for Santiago: ❌ ERROR: File does not exist in S3: s3://wri-cities-sandbox/identifyingLandSubdivisions/data/input/city_info/search_buffers/Santiago/Santiago_search_buffer.geoparquet\n",
      "Error for Tebessa_: ❌ ERROR: File does not exist in S3: s3://wri-cities-sandbox/identifyingLandSubdivisions/data/input/city_info/search_buffers/Tebessa_/Tebessa__search_buffer.geoparquet\n",
      "Error for Xingping: ❌ ERROR: File does not exist in S3: s3://wri-cities-sandbox/identifyingLandSubdivisions/data/input/city_info/search_buffers/Xingping/Xingping_search_buffer.geoparquet\n",
      "Error for San_Cristobal: ❌ ERROR: File does not exist in S3: s3://wri-cities-sandbox/identifyingLandSubdivisions/data/input/city_info/search_buffers/San_Cristobal/San_Cristobal_search_buffer.geoparquet\n",
      "Error for Tehran: ❌ ERROR: File does not exist in S3: s3://wri-cities-sandbox/identifyingLandSubdivisions/data/input/city_info/search_buffers/Tehran/Tehran_search_buffer.geoparquet\n",
      "Error for Xuzhou: ❌ ERROR: File does not exist in S3: s3://wri-cities-sandbox/identifyingLandSubdivisions/data/input/city_info/search_buffers/Xuzhou/Xuzhou_search_buffer.geoparquet\n",
      "Error for San_Juan: ❌ ERROR: File does not exist in S3: s3://wri-cities-sandbox/identifyingLandSubdivisions/data/input/city_info/search_buffers/San_Juan/San_Juan_search_buffer.geoparquet\n",
      "Error for Tel_Aviv: ❌ ERROR: File does not exist in S3: s3://wri-cities-sandbox/identifyingLandSubdivisions/data/input/city_info/search_buffers/Tel_Aviv/Tel_Aviv_search_buffer.geoparquet\n",
      "Error for Yanggu: ❌ ERROR: File does not exist in S3: s3://wri-cities-sandbox/identifyingLandSubdivisions/data/input/city_info/search_buffers/Yanggu/Yanggu_search_buffer.geoparquet\n",
      "Error for Tepic: ❌ ERROR: File does not exist in S3: s3://wri-cities-sandbox/identifyingLandSubdivisions/data/input/city_info/search_buffers/Tepic/Tepic_search_buffer.geoparquet\n",
      "Error for San_Salvador: ❌ ERROR: File does not exist in S3: s3://wri-cities-sandbox/identifyingLandSubdivisions/data/input/city_info/search_buffers/San_Salvador/San_Salvador_search_buffer.geoparquet\n",
      "Error for Yangon: ❌ ERROR: File does not exist in S3: s3://wri-cities-sandbox/identifyingLandSubdivisions/data/input/city_info/search_buffers/Yangon/Yangon_search_buffer.geoparquet\n",
      "Error for Thai_Binh: ❌ ERROR: File does not exist in S3: s3://wri-cities-sandbox/identifyingLandSubdivisions/data/input/city_info/search_buffers/Thai_Binh/Thai_Binh_search_buffer.geoparquet\n",
      "Error for Yaounde: ❌ ERROR: File does not exist in S3: s3://wri-cities-sandbox/identifyingLandSubdivisions/data/input/city_info/search_buffers/Yaounde/Yaounde_search_buffer.geoparquet\n",
      "Error for Sao_Jose_dos_Campos: ❌ ERROR: File does not exist in S3: s3://wri-cities-sandbox/identifyingLandSubdivisions/data/input/city_info/search_buffers/Sao_Jose_dos_Campos/Sao_Jose_dos_Campos_search_buffer.geoparquet\n",
      "Error for Thies: ❌ ERROR: File does not exist in S3: s3://wri-cities-sandbox/identifyingLandSubdivisions/data/input/city_info/search_buffers/Thies/Thies_search_buffer.geoparquet\n",
      "Error for Yazd: ❌ ERROR: File does not exist in S3: s3://wri-cities-sandbox/identifyingLandSubdivisions/data/input/city_info/search_buffers/Yazd/Yazd_search_buffer.geoparquet\n",
      "Error for Sao_Paulo: ❌ ERROR: File does not exist in S3: s3://wri-cities-sandbox/identifyingLandSubdivisions/data/input/city_info/search_buffers/Sao_Paulo/Sao_Paulo_search_buffer.geoparquet\n",
      "Error for Thrissur: ❌ ERROR: File does not exist in S3: s3://wri-cities-sandbox/identifyingLandSubdivisions/data/input/city_info/search_buffers/Thrissur/Thrissur_search_buffer.geoparquet\n",
      "Error for Yiyang: ❌ ERROR: File does not exist in S3: s3://wri-cities-sandbox/identifyingLandSubdivisions/data/input/city_info/search_buffers/Yiyang/Yiyang_search_buffer.geoparquet\n",
      "Error for Satkhira: ❌ ERROR: File does not exist in S3: s3://wri-cities-sandbox/identifyingLandSubdivisions/data/input/city_info/search_buffers/Satkhira/Satkhira_search_buffer.geoparquet\n",
      "Error for Tijuana: ❌ ERROR: File does not exist in S3: s3://wri-cities-sandbox/identifyingLandSubdivisions/data/input/city_info/search_buffers/Tijuana/Tijuana_search_buffer.geoparquet\n",
      "Error for Yulin: ❌ ERROR: File does not exist in S3: s3://wri-cities-sandbox/identifyingLandSubdivisions/data/input/city_info/search_buffers/Yulin/Yulin_search_buffer.geoparquet\n",
      "Error for Savannakhet: ❌ ERROR: File does not exist in S3: s3://wri-cities-sandbox/identifyingLandSubdivisions/data/input/city_info/search_buffers/Savannakhet/Savannakhet_search_buffer.geoparquet\n",
      "Error for Tirupati: ❌ ERROR: File does not exist in S3: s3://wri-cities-sandbox/identifyingLandSubdivisions/data/input/city_info/search_buffers/Tirupati/Tirupati_search_buffer.geoparquet\n",
      "Error for Zamboanga_City: ❌ ERROR: File does not exist in S3: s3://wri-cities-sandbox/identifyingLandSubdivisions/data/input/city_info/search_buffers/Zamboanga_City/Zamboanga_City_search_buffer.geoparquet\n",
      "Error for Semarang: ❌ ERROR: File does not exist in S3: s3://wri-cities-sandbox/identifyingLandSubdivisions/data/input/city_info/search_buffers/Semarang/Semarang_search_buffer.geoparquet\n",
      "Error for Tongchuan: ❌ ERROR: File does not exist in S3: s3://wri-cities-sandbox/identifyingLandSubdivisions/data/input/city_info/search_buffers/Tongchuan/Tongchuan_search_buffer.geoparquet\n",
      "Error for Zaria: ❌ ERROR: File does not exist in S3: s3://wri-cities-sandbox/identifyingLandSubdivisions/data/input/city_info/search_buffers/Zaria/Zaria_search_buffer.geoparquet\n",
      "Error for Serang: ❌ ERROR: File does not exist in S3: s3://wri-cities-sandbox/identifyingLandSubdivisions/data/input/city_info/search_buffers/Serang/Serang_search_buffer.geoparquet\n",
      "Error for Torbat-e_Heydariyeh: ❌ ERROR: File does not exist in S3: s3://wri-cities-sandbox/identifyingLandSubdivisions/data/input/city_info/search_buffers/Torbat-e_Heydariyeh/Torbat-e_Heydariyeh_search_buffer.geoparquet\n",
      "Error for Zhengzhou: ❌ ERROR: File does not exist in S3: s3://wri-cities-sandbox/identifyingLandSubdivisions/data/input/city_info/search_buffers/Zhengzhou/Zhengzhou_search_buffer.geoparquet\n",
      "Error for Seremban: ❌ ERROR: File does not exist in S3: s3://wri-cities-sandbox/identifyingLandSubdivisions/data/input/city_info/search_buffers/Seremban/Seremban_search_buffer.geoparquet\n",
      "Error for Tripoli: ❌ ERROR: File does not exist in S3: s3://wri-cities-sandbox/identifyingLandSubdivisions/data/input/city_info/search_buffers/Tripoli/Tripoli_search_buffer.geoparquet\n",
      "Error for Zhuji: ❌ ERROR: File does not exist in S3: s3://wri-cities-sandbox/identifyingLandSubdivisions/data/input/city_info/search_buffers/Zhuji/Zhuji_search_buffer.geoparquet\n",
      "Error for Shacheng: ❌ ERROR: File does not exist in S3: s3://wri-cities-sandbox/identifyingLandSubdivisions/data/input/city_info/search_buffers/Shacheng/Shacheng_search_buffer.geoparquet\n",
      "Error for Tshikapa: ❌ ERROR: File does not exist in S3: s3://wri-cities-sandbox/identifyingLandSubdivisions/data/input/city_info/search_buffers/Tshikapa/Tshikapa_search_buffer.geoparquet\n",
      "Error for Zhuzhou: ❌ ERROR: File does not exist in S3: s3://wri-cities-sandbox/identifyingLandSubdivisions/data/input/city_info/search_buffers/Zhuzhou/Zhuzhou_search_buffer.geoparquet\n",
      "Error for Shangrao: ❌ ERROR: File does not exist in S3: s3://wri-cities-sandbox/identifyingLandSubdivisions/data/input/city_info/search_buffers/Shangrao/Shangrao_search_buffer.geoparquet\n",
      "Error for Tunis: ❌ ERROR: File does not exist in S3: s3://wri-cities-sandbox/identifyingLandSubdivisions/data/input/city_info/search_buffers/Tunis/Tunis_search_buffer.geoparquet\n",
      "Error for Zonguldak: ❌ ERROR: File does not exist in S3: s3://wri-cities-sandbox/identifyingLandSubdivisions/data/input/city_info/search_buffers/Zonguldak/Zonguldak_search_buffer.geoparquet\n",
      "Error for Shijiazhuang: ❌ ERROR: File does not exist in S3: s3://wri-cities-sandbox/identifyingLandSubdivisions/data/input/city_info/search_buffers/Shijiazhuang/Shijiazhuang_search_buffer.geoparquet\n",
      "Error for Zunyi: ❌ ERROR: File does not exist in S3: s3://wri-cities-sandbox/identifyingLandSubdivisions/data/input/city_info/search_buffers/Zunyi/Zunyi_search_buffer.geoparquet\n",
      "Error for Sialkot: ❌ ERROR: File does not exist in S3: s3://wri-cities-sandbox/identifyingLandSubdivisions/data/input/city_info/search_buffers/Sialkot/Sialkot_search_buffer.geoparquet\n",
      "Error for Sidi_bel_Abbes: ❌ ERROR: File does not exist in S3: s3://wri-cities-sandbox/identifyingLandSubdivisions/data/input/city_info/search_buffers/Sidi_bel_Abbes/Sidi_bel_Abbes_search_buffer.geoparquet\n",
      "Error for Singapore: ❌ ERROR: File does not exist in S3: s3://wri-cities-sandbox/identifyingLandSubdivisions/data/input/city_info/search_buffers/Singapore/Singapore_search_buffer.geoparquet\n",
      "Error for Singrauli: ❌ ERROR: File does not exist in S3: s3://wri-cities-sandbox/identifyingLandSubdivisions/data/input/city_info/search_buffers/Singrauli/Singrauli_search_buffer.geoparquet\n",
      "✅ File exists in S3: s3://wri-cities-sandbox/identifyingLandSubdivisions/data/input/city_info/search_buffers/Jos/Jos_search_buffer.geoparquet\n",
      "✅ Successfully read file for Jos: 1 rows\n",
      "✅ File exists in S3: s3://wri-cities-sandbox/identifyingLandSubdivisions/data/input/city_info/search_buffers/Cape_Town/Cape_Town_search_buffer.geoparquet\n",
      "✅ File exists in S3: s3://wri-cities-sandbox/identifyingLandSubdivisions/data/input/city_info/search_buffers/Hindupur/Hindupur_search_buffer.geoparquet\n",
      "✅ Successfully read file for Cape_Town: 1 rows\n",
      "✅ Successfully read file for Hindupur: 1 rows\n",
      "✅ File exists in S3: s3://wri-cities-sandbox/identifyingLandSubdivisions/data/input/city_info/search_buffers/Banjarbaru/Banjarbaru_search_buffer.geoparquet\n",
      "✅ Successfully read file for Banjarbaru: 1 rows\n",
      "✅ File exists in S3: s3://wri-cities-sandbox/identifyingLandSubdivisions/data/input/city_info/search_buffers/Holguin/Holguin_search_buffer.geoparquet\n",
      "✅ Successfully read file for Holguin: 1 rows\n",
      "✅ File exists in S3: s3://wri-cities-sandbox/identifyingLandSubdivisions/data/input/city_info/search_buffers/Dubai/Dubai_search_buffer.geoparquet\n",
      "✅ Successfully read file for Dubai: 1 rows\n",
      "✅ File exists in S3: s3://wri-cities-sandbox/identifyingLandSubdivisions/data/input/city_info/search_buffers/Juazeiro_Do_Norte/Juazeiro_Do_Norte_search_buffer.geoparquet\n",
      "✅ Successfully read file for Juazeiro_Do_Norte: 1 rows\n",
      "✅ File exists in S3: s3://wri-cities-sandbox/identifyingLandSubdivisions/data/input/city_info/search_buffers/Hong_Kong/Hong_Kong_search_buffer.geoparquet\n",
      "✅ Successfully read file for Hong_Kong: 1 rows\n",
      "✅ File exists in S3: s3://wri-cities-sandbox/identifyingLandSubdivisions/data/input/city_info/search_buffers/Juba/Juba_search_buffer.geoparquet\n",
      "✅ Successfully read file for Juba: 1 rows\n",
      "✅ File exists in S3: s3://wri-cities-sandbox/identifyingLandSubdivisions/data/input/city_info/search_buffers/Bankura/Bankura_search_buffer.geoparquet\n",
      "✅ Successfully read file for Bankura: 1 rows\n",
      "✅ File exists in S3: s3://wri-cities-sandbox/identifyingLandSubdivisions/data/input/city_info/search_buffers/Lashio/Lashio_search_buffer.geoparquet\n",
      "✅ Successfully read file for Lashio: 1 rows\n",
      "✅ File exists in S3: s3://wri-cities-sandbox/identifyingLandSubdivisions/data/input/city_info/search_buffers/Kabul/Kabul_search_buffer.geoparquet\n",
      "✅ Successfully read file for Kabul: 1 rows\n",
      "✅ File exists in S3: s3://wri-cities-sandbox/identifyingLandSubdivisions/data/input/city_info/search_buffers/La_Paz/La_Paz_search_buffer.geoparquet\n",
      "✅ Successfully read file for La_Paz: 1 rows\n",
      "✅ File exists in S3: s3://wri-cities-sandbox/identifyingLandSubdivisions/data/input/city_info/search_buffers/Medellin/Medellin_search_buffer.geoparquet\n",
      "✅ Successfully read file for Medellin: 1 rows\n",
      "✅ File exists in S3: s3://wri-cities-sandbox/identifyingLandSubdivisions/data/input/city_info/search_buffers/Barquisimeto/Barquisimeto_search_buffer.geoparquet\n",
      "✅ Successfully read file for Barquisimeto: 1 rows\n",
      "✅ File exists in S3: s3://wri-cities-sandbox/identifyingLandSubdivisions/data/input/city_info/search_buffers/Leiyang/Leiyang_search_buffer.geoparquet\n",
      "✅ Successfully read file for Leiyang: 2 rows\n",
      "✅ File exists in S3: s3://wri-cities-sandbox/identifyingLandSubdivisions/data/input/city_info/search_buffers/Leizhou/Leizhou_search_buffer.geoparquet\n",
      "✅ Successfully read file for Leizhou: 1 rows\n",
      "✅ File exists in S3: s3://wri-cities-sandbox/identifyingLandSubdivisions/data/input/city_info/search_buffers/Leon/Leon_search_buffer.geoparquet\n",
      "✅ Successfully read file for Leon: 1 rows\n",
      "✅ File exists in S3: s3://wri-cities-sandbox/identifyingLandSubdivisions/data/input/city_info/search_buffers/Kabwe/Kabwe_search_buffer.geoparquet\n",
      "✅ Successfully read file for Kabwe: 1 rows\n",
      "✅ File exists in S3: s3://wri-cities-sandbox/identifyingLandSubdivisions/data/input/city_info/search_buffers/Barranquilla/Barranquilla_search_buffer.geoparquet\n",
      "✅ Successfully read file for Barranquilla: 1 rows\n",
      "✅ File exists in S3: s3://wri-cities-sandbox/identifyingLandSubdivisions/data/input/city_info/search_buffers/Kaduna/Kaduna_search_buffer.geoparquet\n",
      "✅ Successfully read file for Kaduna: 1 rows\n",
      "✅ File exists in S3: s3://wri-cities-sandbox/identifyingLandSubdivisions/data/input/city_info/search_buffers/Barreiras/Barreiras_search_buffer.geoparquet\n",
      "✅ Successfully read file for Barreiras: 1 rows\n",
      "✅ File exists in S3: s3://wri-cities-sandbox/identifyingLandSubdivisions/data/input/city_info/search_buffers/Kaiping/Kaiping_search_buffer.geoparquet\n",
      "✅ Successfully read file for Kaiping: 1 rows\n",
      "✅ File exists in S3: s3://wri-cities-sandbox/identifyingLandSubdivisions/data/input/city_info/search_buffers/Caracas/Caracas_search_buffer.geoparquet\n",
      "✅ Successfully read file for Caracas: 1 rows\n",
      "✅ File exists in S3: s3://wri-cities-sandbox/identifyingLandSubdivisions/data/input/city_info/search_buffers/Kairouan/Kairouan_search_buffer.geoparquet\n",
      "✅ Successfully read file for Kairouan: 1 rows\n",
      "✅ File exists in S3: s3://wri-cities-sandbox/identifyingLandSubdivisions/data/input/city_info/search_buffers/Barretos/Barretos_search_buffer.geoparquet\n",
      "✅ Successfully read file for Barretos: 1 rows\n",
      "✅ File exists in S3: s3://wri-cities-sandbox/identifyingLandSubdivisions/data/input/city_info/search_buffers/Abidjan/Abidjan_search_buffer.geoparquet\n",
      "✅ Successfully read file for Abidjan: 1 rows\n",
      "✅ File exists in S3: s3://wri-cities-sandbox/identifyingLandSubdivisions/data/input/city_info/search_buffers/Kampala/Kampala_search_buffer.geoparquet\n",
      "✅ Successfully read file for Kampala: 1 rows\n",
      "✅ File exists in S3: s3://wri-cities-sandbox/identifyingLandSubdivisions/data/input/city_info/search_buffers/Bauchi/Bauchi_search_buffer.geoparquet\n",
      "✅ Successfully read file for Bauchi: 1 rows\n",
      "✅ File exists in S3: s3://wri-cities-sandbox/identifyingLandSubdivisions/data/input/city_info/search_buffers/Huambo/Huambo_search_buffer.geoparquet\n",
      "✅ Successfully read file for Huambo: 1 rows\n",
      "✅ File exists in S3: s3://wri-cities-sandbox/identifyingLandSubdivisions/data/input/city_info/search_buffers/Beijing/Beijing_search_buffer.geoparquet\n",
      "✅ Successfully read file for Beijing: 1 rows\n",
      "✅ File exists in S3: s3://wri-cities-sandbox/identifyingLandSubdivisions/data/input/city_info/search_buffers/Huancayo/Huancayo_search_buffer.geoparquet\n",
      "✅ Successfully read file for Huancayo: 1 rows\n",
      "✅ File exists in S3: s3://wri-cities-sandbox/identifyingLandSubdivisions/data/input/city_info/search_buffers/Medina/Medina_search_buffer.geoparquet\n",
      "✅ Successfully read file for Medina: 1 rows\n",
      "✅ File exists in S3: s3://wri-cities-sandbox/identifyingLandSubdivisions/data/input/city_info/search_buffers/Cartagena/Cartagena_search_buffer.geoparquet\n",
      "✅ Successfully read file for Cartagena: 1 rows\n",
      "✅ File exists in S3: s3://wri-cities-sandbox/identifyingLandSubdivisions/data/input/city_info/search_buffers/Durban/Durban_search_buffer.geoparquet\n",
      "✅ Successfully read file for Durban: 1 rows\n",
      "✅ File exists in S3: s3://wri-cities-sandbox/identifyingLandSubdivisions/data/input/city_info/search_buffers/Hue/Hue_search_buffer.geoparquet\n",
      "✅ Successfully read file for Hue: 1 rows\n",
      "✅ File exists in S3: s3://wri-cities-sandbox/identifyingLandSubdivisions/data/input/city_info/search_buffers/Abuja/Abuja_search_buffer.geoparquet\n",
      "✅ Successfully read file for Abuja: 1 rows\n",
      "✅ File exists in S3: s3://wri-cities-sandbox/identifyingLandSubdivisions/data/input/city_info/search_buffers/Kano/Kano_search_buffer.geoparquet\n",
      "✅ Successfully read file for Kano: 1 rows\n",
      "✅ File exists in S3: s3://wri-cities-sandbox/identifyingLandSubdivisions/data/input/city_info/search_buffers/Casablanca/Casablanca_search_buffer.geoparquet\n",
      "✅ Successfully read file for Casablanca: 1 rows\n",
      "✅ File exists in S3: s3://wri-cities-sandbox/identifyingLandSubdivisions/data/input/city_info/search_buffers/Meknes/Meknes_search_buffer.geoparquet\n",
      "✅ Successfully read file for Meknes: 1 rows\n",
      "✅ File exists in S3: s3://wri-cities-sandbox/identifyingLandSubdivisions/data/input/city_info/search_buffers/Cebu_City/Cebu_City_search_buffer.geoparquet\n",
      "✅ File exists in S3: s3://wri-cities-sandbox/identifyingLandSubdivisions/data/input/city_info/search_buffers/Mendoza/Mendoza_search_buffer.geoparquet\n",
      "✅ Successfully read file for Cebu_City: 1 rows\n",
      "✅ Successfully read file for Mendoza: 1 rows\n",
      "✅ File exists in S3: s3://wri-cities-sandbox/identifyingLandSubdivisions/data/input/city_info/search_buffers/Accra/Accra_search_buffer.geoparquet\n",
      "✅ Successfully read file for Accra: 1 rows\n",
      "✅ File exists in S3: s3://wri-cities-sandbox/identifyingLandSubdivisions/data/input/city_info/search_buffers/Beira/Beira_search_buffer.geoparquet\n",
      "✅ Successfully read file for Beira: 1 rows\n",
      "✅ File exists in S3: s3://wri-cities-sandbox/identifyingLandSubdivisions/data/input/city_info/search_buffers/Merida/Merida_search_buffer.geoparquet\n",
      "✅ Successfully read file for Merida: 1 rows\n",
      "✅ File exists in S3: s3://wri-cities-sandbox/identifyingLandSubdivisions/data/input/city_info/search_buffers/Changzhi/Changzhi_search_buffer.geoparquet\n",
      "✅ Successfully read file for Changzhi: 1 rows\n",
      "✅ File exists in S3: s3://wri-cities-sandbox/identifyingLandSubdivisions/data/input/city_info/search_buffers/Kanpur/Kanpur_search_buffer.geoparquet\n",
      "✅ Successfully read file for Kanpur: 2 rows\n",
      "✅ File exists in S3: s3://wri-cities-sandbox/identifyingLandSubdivisions/data/input/city_info/search_buffers/Chengde/Chengde_search_buffer.geoparquet\n",
      "✅ Successfully read file for Chengde: 1 rows\n",
      "✅ File exists in S3: s3://wri-cities-sandbox/identifyingLandSubdivisions/data/input/city_info/search_buffers/Palembang/Palembang_search_buffer.geoparquet\n",
      "✅ File exists in S3: s3://wri-cities-sandbox/identifyingLandSubdivisions/data/input/city_info/search_buffers/Beirut/Beirut_search_buffer.geoparquet\n",
      "✅ Successfully read file for Beirut: 1 rows\n",
      "✅ Successfully read file for Palembang: 1 rows\n",
      "✅ File exists in S3: s3://wri-cities-sandbox/identifyingLandSubdivisions/data/input/city_info/search_buffers/Chengdu/Chengdu_search_buffer.geoparquet\n",
      "✅ Successfully read file for Chengdu: 1 rows\n",
      "✅ File exists in S3: s3://wri-cities-sandbox/identifyingLandSubdivisions/data/input/city_info/search_buffers/Enugu/Enugu_search_buffer.geoparquet\n",
      "✅ File exists in S3: s3://wri-cities-sandbox/identifyingLandSubdivisions/data/input/city_info/search_buffers/Misrata/Misrata_search_buffer.geoparquet\n",
      "✅ Successfully read file for Enugu: 1 rows✅ Successfully read file for Misrata: 1 rows\n",
      "\n",
      "✅ File exists in S3: s3://wri-cities-sandbox/identifyingLandSubdivisions/data/input/city_info/search_buffers/Karachi/Karachi_search_buffer.geoparquet\n",
      "✅ Successfully read file for Karachi: 1 rows\n",
      "✅ File exists in S3: s3://wri-cities-sandbox/identifyingLandSubdivisions/data/input/city_info/search_buffers/Leshan/Leshan_search_buffer.geoparquet\n",
      "✅ Successfully read file for Leshan: 1 rows\n",
      "✅ File exists in S3: s3://wri-cities-sandbox/identifyingLandSubdivisions/data/input/city_info/search_buffers/Libreville/Libreville_search_buffer.geoparquet\n",
      "✅ Successfully read file for Libreville: 1 rows\n",
      "✅ File exists in S3: s3://wri-cities-sandbox/identifyingLandSubdivisions/data/input/city_info/search_buffers/Belem/Belem_search_buffer.geoparquet\n",
      "✅ Successfully read file for Belem: 1 rows\n",
      "✅ File exists in S3: s3://wri-cities-sandbox/identifyingLandSubdivisions/data/input/city_info/search_buffers/Lima/Lima_search_buffer.geoparquet\n",
      "✅ Successfully read file for Lima: 1 rows\n",
      "✅ File exists in S3: s3://wri-cities-sandbox/identifyingLandSubdivisions/data/input/city_info/search_buffers/Belo_Horizonte/Belo_Horizonte_search_buffer.geoparquet\n",
      "✅ Successfully read file for Belo_Horizonte: 1 rows\n",
      "✅ File exists in S3: s3://wri-cities-sandbox/identifyingLandSubdivisions/data/input/city_info/search_buffers/Palmas/Palmas_search_buffer.geoparquet\n",
      "✅ Successfully read file for Palmas: 1 rows\n",
      "✅ File exists in S3: s3://wri-cities-sandbox/identifyingLandSubdivisions/data/input/city_info/search_buffers/Karbala/Karbala_search_buffer.geoparquet\n",
      "✅ Successfully read file for Karbala: 1 rows\n",
      "✅ File exists in S3: s3://wri-cities-sandbox/identifyingLandSubdivisions/data/input/city_info/search_buffers/Hyderabad/Hyderabad_search_buffer.geoparquet\n",
      "✅ Successfully read file for Hyderabad: 1 rows\n",
      "✅ File exists in S3: s3://wri-cities-sandbox/identifyingLandSubdivisions/data/input/city_info/search_buffers/Mit_Ghamr/Mit_Ghamr_search_buffer.geoparquet\n",
      "✅ Successfully read file for Mit_Ghamr: 1 rows\n",
      "✅ File exists in S3: s3://wri-cities-sandbox/identifyingLandSubdivisions/data/input/city_info/search_buffers/Erbil/Erbil_search_buffer.geoparquet\n",
      "✅ Successfully read file for Erbil: 1 rows\n",
      "✅ File exists in S3: s3://wri-cities-sandbox/identifyingLandSubdivisions/data/input/city_info/search_buffers/Palopo/Palopo_search_buffer.geoparquet\n",
      "✅ Successfully read file for Palopo: 1 rows\n",
      "✅ File exists in S3: s3://wri-cities-sandbox/identifyingLandSubdivisions/data/input/city_info/search_buffers/Monteria/Monteria_search_buffer.geoparquet\n",
      "✅ Successfully read file for Monteria: 1 rows\n",
      "✅ File exists in S3: s3://wri-cities-sandbox/identifyingLandSubdivisions/data/input/city_info/search_buffers/Addis_Ababa/Addis_Ababa_search_buffer.geoparquet\n",
      "✅ Successfully read file for Addis_Ababa: 1 rows\n",
      "✅ File exists in S3: s3://wri-cities-sandbox/identifyingLandSubdivisions/data/input/city_info/search_buffers/Panipat/Panipat_search_buffer.geoparquet\n",
      "✅ Successfully read file for Panipat: 1 rows\n",
      "✅ File exists in S3: s3://wri-cities-sandbox/identifyingLandSubdivisions/data/input/city_info/search_buffers/Kathmandu/Kathmandu_search_buffer.geoparquet\n",
      "✅ Successfully read file for Kathmandu: 1 rows\n",
      "✅ File exists in S3: s3://wri-cities-sandbox/identifyingLandSubdivisions/data/input/city_info/search_buffers/Eskisehir/Eskisehir_search_buffer.geoparquet\n",
      "✅ Successfully read file for Eskisehir: 1 rows\n",
      "✅ File exists in S3: s3://wri-cities-sandbox/identifyingLandSubdivisions/data/input/city_info/search_buffers/Lingbao/Lingbao_search_buffer.geoparquet\n",
      "✅ Successfully read file for Lingbao: 2 rows\n",
      "✅ File exists in S3: s3://wri-cities-sandbox/identifyingLandSubdivisions/data/input/city_info/search_buffers/Monterrey/Monterrey_search_buffer.geoparquet\n",
      "✅ Successfully read file for Monterrey: 2 rows\n",
      "✅ File exists in S3: s3://wri-cities-sandbox/identifyingLandSubdivisions/data/input/city_info/search_buffers/Lingbao/Lingbao_search_buffer.geoparquet\n",
      "✅ Successfully read file for Lingbao: 2 rows\n",
      "✅ File exists in S3: s3://wri-cities-sandbox/identifyingLandSubdivisions/data/input/city_info/search_buffers/Linyi/Linyi_search_buffer.geoparquet\n",
      "✅ Successfully read file for Linyi: 1 rows\n",
      "✅ File exists in S3: s3://wri-cities-sandbox/identifyingLandSubdivisions/data/input/city_info/search_buffers/Faisalabad/Faisalabad_search_buffer.geoparquet\n",
      "✅ Successfully read file for Faisalabad: 1 rows\n",
      "✅ File exists in S3: s3://wri-cities-sandbox/identifyingLandSubdivisions/data/input/city_info/search_buffers/Aden/Aden_search_buffer.geoparquet\n",
      "✅ Successfully read file for Aden: 1 rows\n",
      "✅ File exists in S3: s3://wri-cities-sandbox/identifyingLandSubdivisions/data/input/city_info/search_buffers/Leiyang/Leiyang_search_buffer.geoparquet\n",
      "✅ Successfully read file for Leiyang: 2 rows\n",
      "✅ File exists in S3: s3://wri-cities-sandbox/identifyingLandSubdivisions/data/input/city_info/search_buffers/Luanda/Luanda_search_buffer.geoparquet\n",
      "✅ Successfully read file for Luanda: 1 rows\n",
      "✅ File exists in S3: s3://wri-cities-sandbox/identifyingLandSubdivisions/data/input/city_info/search_buffers/Monterrey/Monterrey_search_buffer.geoparquet\n",
      "✅ Successfully read file for Monterrey: 2 rows\n",
      "✅ File exists in S3: s3://wri-cities-sandbox/identifyingLandSubdivisions/data/input/city_info/search_buffers/Ibadan/Ibadan_search_buffer.geoparquet\n",
      "✅ Successfully read file for Ibadan: 1 rows\n",
      "✅ File exists in S3: s3://wri-cities-sandbox/identifyingLandSubdivisions/data/input/city_info/search_buffers/Agra/Agra_search_buffer.geoparquet\n",
      "✅ Successfully read file for Agra: 1 rows\n",
      "✅ File exists in S3: s3://wri-cities-sandbox/identifyingLandSubdivisions/data/input/city_info/search_buffers/Kayseri/Kayseri_search_buffer.geoparquet\n",
      "✅ Successfully read file for Kayseri: 1 rows\n",
      "✅ File exists in S3: s3://wri-cities-sandbox/identifyingLandSubdivisions/data/input/city_info/search_buffers/Parbhani/Parbhani_search_buffer.geoparquet\n",
      "✅ Successfully read file for Parbhani: 1 rows\n",
      "✅ File exists in S3: s3://wri-cities-sandbox/identifyingLandSubdivisions/data/input/city_info/search_buffers/Feira_De_Santana/Feira_De_Santana_search_buffer.geoparquet\n",
      "✅ Successfully read file for Feira_De_Santana: 1 rows\n",
      "✅ File exists in S3: s3://wri-cities-sandbox/identifyingLandSubdivisions/data/input/city_info/search_buffers/Montevideo/Montevideo_search_buffer.geoparquet\n",
      "✅ Successfully read file for Montevideo: 1 rows\n",
      "✅ File exists in S3: s3://wri-cities-sandbox/identifyingLandSubdivisions/data/input/city_info/search_buffers/Keren/Keren_search_buffer.geoparquet\n",
      "✅ Successfully read file for Keren: 2 rows\n",
      "✅ File exists in S3: s3://wri-cities-sandbox/identifyingLandSubdivisions/data/input/city_info/search_buffers/Keren/Keren_search_buffer.geoparquet\n",
      "✅ Successfully read file for Keren: 2 rows\n",
      "✅ File exists in S3: s3://wri-cities-sandbox/identifyingLandSubdivisions/data/input/city_info/search_buffers/Chennai/Chennai_search_buffer.geoparquet\n",
      "✅ File exists in S3: s3://wri-cities-sandbox/identifyingLandSubdivisions/data/input/city_info/search_buffers/Kanpur/Kanpur_search_buffer.geoparquet\n",
      "✅ Successfully read file for Kanpur: 2 rows\n",
      "✅ Successfully read file for Chennai: 1 rows\n",
      "✅ File exists in S3: s3://wri-cities-sandbox/identifyingLandSubdivisions/data/input/city_info/search_buffers/Moradabad/Moradabad_search_buffer.geoparquet\n",
      "✅ File exists in S3: s3://wri-cities-sandbox/identifyingLandSubdivisions/data/input/city_info/search_buffers/Lubumbashi/Lubumbashi_search_buffer.geoparquet\n",
      "✅ Successfully read file for Lubumbashi: 1 rows\n",
      "✅ Successfully read file for Moradabad: 1 rows\n",
      "✅ File exists in S3: s3://wri-cities-sandbox/identifyingLandSubdivisions/data/input/city_info/search_buffers/Khargone/Khargone_search_buffer.geoparquet\n",
      "✅ Successfully read file for Khargone: 1 rows\n",
      "✅ File exists in S3: s3://wri-cities-sandbox/identifyingLandSubdivisions/data/input/city_info/search_buffers/Agri/Agri_search_buffer.geoparquet\n",
      "✅ Successfully read file for Agri: 1 rows\n",
      "✅ File exists in S3: s3://wri-cities-sandbox/identifyingLandSubdivisions/data/input/city_info/search_buffers/Benxi/Benxi_search_buffer.geoparquet\n",
      "✅ Successfully read file for Benxi: 1 rows\n",
      "✅ File exists in S3: s3://wri-cities-sandbox/identifyingLandSubdivisions/data/input/city_info/search_buffers/Khartoum/Khartoum_search_buffer.geoparquet\n",
      "✅ Successfully read file for Khartoum: 1 rows\n",
      "✅ File exists in S3: s3://wri-cities-sandbox/identifyingLandSubdivisions/data/input/city_info/search_buffers/Mosul/Mosul_search_buffer.geoparquet\n",
      "✅ Successfully read file for Mosul: 1 rows\n",
      "✅ File exists in S3: s3://wri-cities-sandbox/identifyingLandSubdivisions/data/input/city_info/search_buffers/Ahmadabad/Ahmadabad_search_buffer.geoparquet\n",
      "✅ Successfully read file for Ahmadabad: 1 rows\n",
      "✅ File exists in S3: s3://wri-cities-sandbox/identifyingLandSubdivisions/data/input/city_info/search_buffers/Pathein/Pathein_search_buffer.geoparquet\n",
      "✅ Successfully read file for Pathein: 1 rows\n",
      "✅ File exists in S3: s3://wri-cities-sandbox/identifyingLandSubdivisions/data/input/city_info/search_buffers/Lucknow/Lucknow_search_buffer.geoparquet\n",
      "✅ Successfully read file for Lucknow: 1 rows\n",
      "✅ File exists in S3: s3://wri-cities-sandbox/identifyingLandSubdivisions/data/input/city_info/search_buffers/Ibb/Ibb_search_buffer.geoparquet\n",
      "✅ Successfully read file for Ibb: 1 rows\n",
      "✅ File exists in S3: s3://wri-cities-sandbox/identifyingLandSubdivisions/data/input/city_info/search_buffers/Fez/Fez_search_buffer.geoparquet\n",
      "✅ Successfully read file for Fez: 1 rows\n",
      "✅ File exists in S3: s3://wri-cities-sandbox/identifyingLandSubdivisions/data/input/city_info/search_buffers/Patna/Patna_search_buffer.geoparquet\n",
      "✅ Successfully read file for Patna: 2 rows\n",
      "✅ File exists in S3: s3://wri-cities-sandbox/identifyingLandSubdivisions/data/input/city_info/search_buffers/Aleppo/Aleppo_search_buffer.geoparquet\n",
      "✅ Successfully read file for Aleppo: 1 rows\n",
      "✅ File exists in S3: s3://wri-cities-sandbox/identifyingLandSubdivisions/data/input/city_info/search_buffers/Patna/Patna_search_buffer.geoparquet\n",
      "✅ Successfully read file for Patna: 2 rows\n",
      "✅ File exists in S3: s3://wri-cities-sandbox/identifyingLandSubdivisions/data/input/city_info/search_buffers/Pekalongan/Pekalongan_search_buffer.geoparquet\n",
      "✅ Successfully read file for Pekalongan: 1 rows\n",
      "✅ File exists in S3: s3://wri-cities-sandbox/identifyingLandSubdivisions/data/input/city_info/search_buffers/Florianopolis/Florianopolis_search_buffer.geoparquet\n",
      "✅ Successfully read file for Florianopolis: 1 rows\n",
      "✅ File exists in S3: s3://wri-cities-sandbox/identifyingLandSubdivisions/data/input/city_info/search_buffers/Chenzhou/Chenzhou_search_buffer.geoparquet\n",
      "✅ Successfully read file for Chenzhou: 1 rows\n",
      "✅ File exists in S3: s3://wri-cities-sandbox/identifyingLandSubdivisions/data/input/city_info/search_buffers/Alexandria/Alexandria_search_buffer.geoparquet\n",
      "✅ Successfully read file for Alexandria: 1 rows\n",
      "✅ File exists in S3: s3://wri-cities-sandbox/identifyingLandSubdivisions/data/input/city_info/search_buffers/Chittoor/Chittoor_search_buffer.geoparquet\n",
      "✅ Successfully read file for Chittoor: 1 rows\n",
      "✅ File exists in S3: s3://wri-cities-sandbox/identifyingLandSubdivisions/data/input/city_info/search_buffers/Pemalang/Pemalang_search_buffer.geoparquet\n",
      "✅ Successfully read file for Pemalang: 1 rows\n",
      "✅ File exists in S3: s3://wri-cities-sandbox/identifyingLandSubdivisions/data/input/city_info/search_buffers/Khurja/Khurja_search_buffer.geoparquet\n",
      "✅ Successfully read file for Khurja: 1 rows\n",
      "✅ File exists in S3: s3://wri-cities-sandbox/identifyingLandSubdivisions/data/input/city_info/search_buffers/Fortaleza/Fortaleza_search_buffer.geoparquet\n",
      "✅ Successfully read file for Fortaleza: 1 rows\n",
      "✅ File exists in S3: s3://wri-cities-sandbox/identifyingLandSubdivisions/data/input/city_info/search_buffers/Mumbai/Mumbai_search_buffer.geoparquet\n",
      "✅ Successfully read file for Mumbai: 1 rows\n",
      "✅ File exists in S3: s3://wri-cities-sandbox/identifyingLandSubdivisions/data/input/city_info/search_buffers/Pematang_Siantar/Pematang_Siantar_search_buffer.geoparquet\n",
      "✅ Successfully read file for Pematang_Siantar: 1 rows\n",
      "✅ File exists in S3: s3://wri-cities-sandbox/identifyingLandSubdivisions/data/input/city_info/search_buffers/Idlib/Idlib_search_buffer.geoparquet\n",
      "✅ Successfully read file for Idlib: 1 rows\n",
      "✅ File exists in S3: s3://wri-cities-sandbox/identifyingLandSubdivisions/data/input/city_info/search_buffers/Kigali/Kigali_search_buffer.geoparquet\n",
      "✅ Successfully read file for Kigali: 1 rows\n",
      "✅ File exists in S3: s3://wri-cities-sandbox/identifyingLandSubdivisions/data/input/city_info/search_buffers/Ilheus/Ilheus_search_buffer.geoparquet\n",
      "✅ Successfully read file for Ilheus: 1 rows\n",
      "✅ File exists in S3: s3://wri-cities-sandbox/identifyingLandSubdivisions/data/input/city_info/search_buffers/Ludhiana/Ludhiana_search_buffer.geoparquet\n",
      "✅ Successfully read file for Ludhiana: 1 rows\n",
      "✅ File exists in S3: s3://wri-cities-sandbox/identifyingLandSubdivisions/data/input/city_info/search_buffers/Ipoh/Ipoh_search_buffer.geoparquet\n",
      "✅ Successfully read file for Ipoh: 1 rows\n",
      "✅ File exists in S3: s3://wri-cities-sandbox/identifyingLandSubdivisions/data/input/city_info/search_buffers/Phnom_Penh/Phnom_Penh_search_buffer.geoparquet\n",
      "✅ Successfully read file for Phnom_Penh: 1 rows\n",
      "✅ File exists in S3: s3://wri-cities-sandbox/identifyingLandSubdivisions/data/input/city_info/search_buffers/My_Tho/My_Tho_search_buffer.geoparquet\n",
      "✅ Successfully read file for My_Tho: 1 rows\n",
      "✅ File exists in S3: s3://wri-cities-sandbox/identifyingLandSubdivisions/data/input/city_info/search_buffers/Bhimavaram/Bhimavaram_search_buffer.geoparquet\n",
      "✅ Successfully read file for Bhimavaram: 1 rows\n",
      "✅ File exists in S3: s3://wri-cities-sandbox/identifyingLandSubdivisions/data/input/city_info/search_buffers/Chongqing/Chongqing_search_buffer.geoparquet\n",
      "✅ Successfully read file for Chongqing: 1 rows\n",
      "✅ File exists in S3: s3://wri-cities-sandbox/identifyingLandSubdivisions/data/input/city_info/search_buffers/Isiro/Isiro_search_buffer.geoparquet\n",
      "✅ Successfully read file for Isiro: 1 rows\n",
      "✅ File exists in S3: s3://wri-cities-sandbox/identifyingLandSubdivisions/data/input/city_info/search_buffers/Lusaka/Lusaka_search_buffer.geoparquet\n",
      "✅ Successfully read file for Lusaka: 1 rows\n",
      "✅ File exists in S3: s3://wri-cities-sandbox/identifyingLandSubdivisions/data/input/city_info/search_buffers/Pingxiang/Pingxiang_search_buffer.geoparquet\n",
      "✅ Successfully read file for Pingxiang: 1 rows\n",
      "✅ File exists in S3: s3://wri-cities-sandbox/identifyingLandSubdivisions/data/input/city_info/search_buffers/Istanbul/Istanbul_search_buffer.geoparquet\n",
      "✅ Successfully read file for Istanbul: 1 rows\n",
      "✅ File exists in S3: s3://wri-cities-sandbox/identifyingLandSubdivisions/data/input/city_info/search_buffers/Myeik/Myeik_search_buffer.geoparquet\n",
      "✅ Successfully read file for Myeik: 1 rows\n",
      "✅ File exists in S3: s3://wri-cities-sandbox/identifyingLandSubdivisions/data/input/city_info/search_buffers/Luxor/Luxor_search_buffer.geoparquet\n",
      "✅ Successfully read file for Luxor: 1 rows\n",
      "✅ File exists in S3: s3://wri-cities-sandbox/identifyingLandSubdivisions/data/input/city_info/search_buffers/Bhopal/Bhopal_search_buffer.geoparquet\n",
      "✅ Successfully read file for Bhopal: 1 rows\n",
      "✅ File exists in S3: s3://wri-cities-sandbox/identifyingLandSubdivisions/data/input/city_info/search_buffers/Macapa/Macapa_search_buffer.geoparquet\n",
      "✅ Successfully read file for Macapa: 1 rows\n",
      "✅ File exists in S3: s3://wri-cities-sandbox/identifyingLandSubdivisions/data/input/city_info/search_buffers/Cirebon/Cirebon_search_buffer.geoparquet\n",
      "✅ Successfully read file for Cirebon: 1 rows\n",
      "✅ File exists in S3: s3://wri-cities-sandbox/identifyingLandSubdivisions/data/input/city_info/search_buffers/Malatya/Malatya_search_buffer.geoparquet\n",
      "✅ Successfully read file for Malatya: 1 rows\n",
      "✅ File exists in S3: s3://wri-cities-sandbox/identifyingLandSubdivisions/data/input/city_info/search_buffers/Freetown/Freetown_search_buffer.geoparquet\n",
      "✅ Successfully read file for Freetown: 1 rows\n",
      "✅ File exists in S3: s3://wri-cities-sandbox/identifyingLandSubdivisions/data/input/city_info/search_buffers/Algiers/Algiers_search_buffer.geoparquet\n",
      "✅ Successfully read file for Algiers: 1 rows\n",
      "✅ File exists in S3: s3://wri-cities-sandbox/identifyingLandSubdivisions/data/input/city_info/search_buffers/Pingyi/Pingyi_search_buffer.geoparquet\n",
      "✅ Successfully read file for Pingyi: 1 rows\n",
      "✅ File exists in S3: s3://wri-cities-sandbox/identifyingLandSubdivisions/data/input/city_info/search_buffers/Kinshasa/Kinshasa_search_buffer.geoparquet\n",
      "✅ Successfully read file for Kinshasa: 1 rows\n",
      "✅ File exists in S3: s3://wri-cities-sandbox/identifyingLandSubdivisions/data/input/city_info/search_buffers/Pokhara/Pokhara_search_buffer.geoparquet\n",
      "✅ Successfully read file for Pokhara: 1 rows\n",
      "✅ File exists in S3: s3://wri-cities-sandbox/identifyingLandSubdivisions/data/input/city_info/search_buffers/Malegaon/Malegaon_search_buffer.geoparquet\n",
      "✅ Successfully read file for Malegaon: 1 rows\n",
      "✅ File exists in S3: s3://wri-cities-sandbox/identifyingLandSubdivisions/data/input/city_info/search_buffers/Nagpur/Nagpur_search_buffer.geoparquet\n",
      "✅ Successfully read file for Nagpur: 1 rows\n",
      "✅ File exists in S3: s3://wri-cities-sandbox/identifyingLandSubdivisions/data/input/city_info/search_buffers/Cochabamba/Cochabamba_search_buffer.geoparquet\n",
      "✅ Successfully read file for Cochabamba: 1 rows\n",
      "✅ File exists in S3: s3://wri-cities-sandbox/identifyingLandSubdivisions/data/input/city_info/search_buffers/Manaus/Manaus_search_buffer.geoparquet\n",
      "✅ Successfully read file for Manaus: 1 rows\n",
      "✅ File exists in S3: s3://wri-cities-sandbox/identifyingLandSubdivisions/data/input/city_info/search_buffers/Fuzhou/Fuzhou_search_buffer.geoparquet\n",
      "✅ Successfully read file for Fuzhou: 1 rows\n",
      "✅ File exists in S3: s3://wri-cities-sandbox/identifyingLandSubdivisions/data/input/city_info/search_buffers/Bilaspur/Bilaspur_search_buffer.geoparquet\n",
      "✅ Successfully read file for Bilaspur: 1 rows\n",
      "✅ File exists in S3: s3://wri-cities-sandbox/identifyingLandSubdivisions/data/input/city_info/search_buffers/Mandalay/Mandalay_search_buffer.geoparquet\n",
      "✅ Successfully read file for Mandalay: 1 rows\n",
      "✅ File exists in S3: s3://wri-cities-sandbox/identifyingLandSubdivisions/data/input/city_info/search_buffers/Polokwane/Polokwane_search_buffer.geoparquet\n",
      "✅ Successfully read file for Polokwane: 1 rows\n",
      "✅ File exists in S3: s3://wri-cities-sandbox/identifyingLandSubdivisions/data/input/city_info/search_buffers/Nairobi/Nairobi_search_buffer.geoparquet\n",
      "✅ Successfully read file for Nairobi: 1 rows\n",
      "✅ File exists in S3: s3://wri-cities-sandbox/identifyingLandSubdivisions/data/input/city_info/search_buffers/Kirkuk/Kirkuk_search_buffer.geoparquet\n",
      "✅ Successfully read file for Kirkuk: 1 rows\n",
      "✅ File exists in S3: s3://wri-cities-sandbox/identifyingLandSubdivisions/data/input/city_info/search_buffers/Bilbeis/Bilbeis_search_buffer.geoparquet\n",
      "✅ Successfully read file for Bilbeis: 1 rows\n",
      "✅ File exists in S3: s3://wri-cities-sandbox/identifyingLandSubdivisions/data/input/city_info/search_buffers/Manisa/Manisa_search_buffer.geoparquet\n",
      "✅ Successfully read file for Manisa: 2 rows\n",
      "✅ File exists in S3: s3://wri-cities-sandbox/identifyingLandSubdivisions/data/input/city_info/search_buffers/Kolkata/Kolkata_search_buffer.geoparquet\n",
      "✅ Successfully read file for Kolkata: 1 rows\n",
      "✅ File exists in S3: s3://wri-cities-sandbox/identifyingLandSubdivisions/data/input/city_info/search_buffers/Bogota/Bogota_search_buffer.geoparquet\n",
      "✅ Successfully read file for Bogota: 1 rows\n",
      "✅ File exists in S3: s3://wri-cities-sandbox/identifyingLandSubdivisions/data/input/city_info/search_buffers/Gandhidham/Gandhidham_search_buffer.geoparquet\n",
      "✅ Successfully read file for Gandhidham: 1 rows\n",
      "✅ File exists in S3: s3://wri-cities-sandbox/identifyingLandSubdivisions/data/input/city_info/search_buffers/Manisa/Manisa_search_buffer.geoparquet\n",
      "✅ Successfully read file for Manisa: 2 rows\n",
      "✅ File exists in S3: s3://wri-cities-sandbox/identifyingLandSubdivisions/data/input/city_info/search_buffers/Pontianak/Pontianak_search_buffer.geoparquet\n",
      "✅ Successfully read file for Pontianak: 1 rows\n",
      "✅ File exists in S3: s3://wri-cities-sandbox/identifyingLandSubdivisions/data/input/city_info/search_buffers/Coimbatore/Coimbatore_search_buffer.geoparquet\n",
      "✅ Successfully read file for Coimbatore: 1 rows\n",
      "✅ File exists in S3: s3://wri-cities-sandbox/identifyingLandSubdivisions/data/input/city_info/search_buffers/Izmir/Izmir_search_buffer.geoparquet\n",
      "✅ Successfully read file for Izmir: 1 rows\n",
      "✅ File exists in S3: s3://wri-cities-sandbox/identifyingLandSubdivisions/data/input/city_info/search_buffers/Maracaibo/Maracaibo_search_buffer.geoparquet\n",
      "✅ Successfully read file for Maracaibo: 1 rows\n",
      "✅ File exists in S3: s3://wri-cities-sandbox/identifyingLandSubdivisions/data/input/city_info/search_buffers/Ganja/Ganja_search_buffer.geoparquet\n",
      "✅ Successfully read file for Ganja: 1 rows\n",
      "✅ File exists in S3: s3://wri-cities-sandbox/identifyingLandSubdivisions/data/input/city_info/search_buffers/Aligarh/Aligarh_search_buffer.geoparquet\n",
      "✅ Successfully read file for Aligarh: 1 rows\n",
      "Error for Prto_Alegre: ❌ ERROR: File does not exist in S3: s3://wri-cities-sandbox/identifyingLandSubdivisions/data/input/city_info/search_buffers/Prto_Alegre/Prto_Alegre_search_buffer.geoparquet\n",
      "Error for Port_Elizabeth: ❌ ERROR: File does not exist in S3: s3://wri-cities-sandbox/identifyingLandSubdivisions/data/input/city_info/search_buffers/Port_Elizabeth/Port_Elizabeth_search_buffer.geoparquet\n",
      "Error for Port-Gentil: ❌ ERROR: File does not exist in S3: s3://wri-cities-sandbox/identifyingLandSubdivisions/data/input/city_info/search_buffers/Port-Gentil/Port-Gentil_search_buffer.geoparquet\n",
      "Error for Port_Harcourt: ❌ ERROR: File does not exist in S3: s3://wri-cities-sandbox/identifyingLandSubdivisions/data/input/city_info/search_buffers/Port_Harcourt/Port_Harcourt_search_buffer.geoparquet\n",
      "Error for Prabumulih: ❌ ERROR: File does not exist in S3: s3://wri-cities-sandbox/identifyingLandSubdivisions/data/input/city_info/search_buffers/Prabumulih/Prabumulih_search_buffer.geoparquet\n",
      "Error for Puducherry: ❌ ERROR: File does not exist in S3: s3://wri-cities-sandbox/identifyingLandSubdivisions/data/input/city_info/search_buffers/Puducherry/Puducherry_search_buffer.geoparquet\n",
      "Error for Puebla: ❌ ERROR: File does not exist in S3: s3://wri-cities-sandbox/identifyingLandSubdivisions/data/input/city_info/search_buffers/Puebla/Puebla_search_buffer.geoparquet\n",
      "Error for Pune: ❌ ERROR: File does not exist in S3: s3://wri-cities-sandbox/identifyingLandSubdivisions/data/input/city_info/search_buffers/Pune/Pune_search_buffer.geoparquet\n",
      "Error for Purwokerto: ❌ ERROR: File does not exist in S3: s3://wri-cities-sandbox/identifyingLandSubdivisions/data/input/city_info/search_buffers/Purwokerto/Purwokerto_search_buffer.geoparquet\n",
      "Error for Pyongyang: ❌ ERROR: File does not exist in S3: s3://wri-cities-sandbox/identifyingLandSubdivisions/data/input/city_info/search_buffers/Pyongyang/Pyongyang_search_buffer.geoparquet\n",
      "Error for Qidong: ❌ ERROR: File does not exist in S3: s3://wri-cities-sandbox/identifyingLandSubdivisions/data/input/city_info/search_buffers/Qidong/Qidong_search_buffer.geoparquet\n",
      "Error for Qingdao: ❌ ERROR: File does not exist in S3: s3://wri-cities-sandbox/identifyingLandSubdivisions/data/input/city_info/search_buffers/Qingdao/Qingdao_search_buffer.geoparquet\n",
      "Error for Qom: ❌ ERROR: File does not exist in S3: s3://wri-cities-sandbox/identifyingLandSubdivisions/data/input/city_info/search_buffers/Qom/Qom_search_buffer.geoparquet\n",
      "Error for Quang_Ngai: ❌ ERROR: File does not exist in S3: s3://wri-cities-sandbox/identifyingLandSubdivisions/data/input/city_info/search_buffers/Quang_Ngai/Quang_Ngai_search_buffer.geoparquet\n",
      "Error for Quito: ❌ ERROR: File does not exist in S3: s3://wri-cities-sandbox/identifyingLandSubdivisions/data/input/city_info/search_buffers/Quito/Quito_search_buffer.geoparquet\n",
      "Error for Rabat: ❌ ERROR: File does not exist in S3: s3://wri-cities-sandbox/identifyingLandSubdivisions/data/input/city_info/search_buffers/Rabat/Rabat_search_buffer.geoparquet\n",
      "Error for Raipur: ❌ ERROR: File does not exist in S3: s3://wri-cities-sandbox/identifyingLandSubdivisions/data/input/city_info/search_buffers/Raipur/Raipur_search_buffer.geoparquet\n",
      "✅ File exists in S3: s3://wri-cities-sandbox/identifyingLandSubdivisions/data/input/city_info/search_buffers/Maringa/Maringa_search_buffer.geoparquet\n",
      "✅ Successfully read file for Maringa: 1 rows\n",
      "✅ File exists in S3: s3://wri-cities-sandbox/identifyingLandSubdivisions/data/input/city_info/search_buffers/Alor_Star/Alor_Star_search_buffer.geoparquet\n",
      "✅ Successfully read file for Alor_Star: 1 rows\n",
      "✅ File exists in S3: s3://wri-cities-sandbox/identifyingLandSubdivisions/data/input/city_info/search_buffers/Najaf/Najaf_search_buffer.geoparquet\n",
      "✅ Successfully read file for Najaf: 1 rows\n",
      "✅ File exists in S3: s3://wri-cities-sandbox/identifyingLandSubdivisions/data/input/city_info/search_buffers/Marj/Marj_search_buffer.geoparquet\n",
      "✅ Successfully read file for Marj: 1 rows\n",
      "✅ File exists in S3: s3://wri-cities-sandbox/identifyingLandSubdivisions/data/input/city_info/search_buffers/Maroua/Maroua_search_buffer.geoparquet\n",
      "✅ Successfully read file for Maroua: 1 rows\n",
      "✅ File exists in S3: s3://wri-cities-sandbox/identifyingLandSubdivisions/data/input/city_info/search_buffers/Nakuru/Nakuru_search_buffer.geoparquet\n",
      "✅ Successfully read file for Nakuru: 1 rows\n",
      "✅ File exists in S3: s3://wri-cities-sandbox/identifyingLandSubdivisions/data/input/city_info/search_buffers/Amman/Amman_search_buffer.geoparquet\n",
      "✅ Successfully read file for Amman: 1 rows\n",
      "✅ File exists in S3: s3://wri-cities-sandbox/identifyingLandSubdivisions/data/input/city_info/search_buffers/Marrakesh/Marrakesh_search_buffer.geoparquet\n",
      "✅ Successfully read file for Marrakesh: 1 rows\n",
      "✅ File exists in S3: s3://wri-cities-sandbox/identifyingLandSubdivisions/data/input/city_info/search_buffers/Bogor/Bogor_search_buffer.geoparquet\n",
      "✅ Successfully read file for Bogor: 1 rows\n",
      "✅ File exists in S3: s3://wri-cities-sandbox/identifyingLandSubdivisions/data/input/city_info/search_buffers/Nalgonda/Nalgonda_search_buffer.geoparquet\n",
      "✅ Successfully read file for Nalgonda: 1 rows\n",
      "✅ File exists in S3: s3://wri-cities-sandbox/identifyingLandSubdivisions/data/input/city_info/search_buffers/Bouake/Bouake_search_buffer.geoparquet\n",
      "✅ Successfully read file for Bouake: 1 rows\n",
      "✅ File exists in S3: s3://wri-cities-sandbox/identifyingLandSubdivisions/data/input/city_info/search_buffers/Gaya/Gaya_search_buffer.geoparquet\n",
      "✅ Successfully read file for Gaya: 1 rows\n",
      "✅ File exists in S3: s3://wri-cities-sandbox/identifyingLandSubdivisions/data/input/city_info/search_buffers/Namangan/Namangan_search_buffer.geoparquet\n",
      "✅ Successfully read file for Namangan: 1 rows\n",
      "✅ File exists in S3: s3://wri-cities-sandbox/identifyingLandSubdivisions/data/input/city_info/search_buffers/Mary/Mary_search_buffer.geoparquet\n",
      "✅ Successfully read file for Mary: 1 rows\n",
      "✅ File exists in S3: s3://wri-cities-sandbox/identifyingLandSubdivisions/data/input/city_info/search_buffers/Gaza/Gaza_search_buffer.geoparquet\n",
      "✅ Successfully read file for Gaza: 1 rows\n",
      "✅ File exists in S3: s3://wri-cities-sandbox/identifyingLandSubdivisions/data/input/city_info/search_buffers/Mashhad/Mashhad_search_buffer.geoparquet\n",
      "✅ Successfully read file for Mashhad: 1 rows\n",
      "✅ File exists in S3: s3://wri-cities-sandbox/identifyingLandSubdivisions/data/input/city_info/search_buffers/Bou_Saada/Bou_Saada_search_buffer.geoparquet\n",
      "✅ Successfully read file for Bou_Saada: 1 rows\n",
      "✅ File exists in S3: s3://wri-cities-sandbox/identifyingLandSubdivisions/data/input/city_info/search_buffers/Buenos_Aires/Buenos_Aires_search_buffer.geoparquet\n",
      "✅ Successfully read file for Buenos_Aires: 1 rows\n",
      "✅ File exists in S3: s3://wri-cities-sandbox/identifyingLandSubdivisions/data/input/city_info/search_buffers/Izmit/Izmit_search_buffer.geoparquet\n",
      "✅ Successfully read file for Izmit: 1 rows\n",
      "✅ File exists in S3: s3://wri-cities-sandbox/identifyingLandSubdivisions/data/input/city_info/search_buffers/Konya/Konya_search_buffer.geoparquet\n",
      "✅ Successfully read file for Konya: 1 rows\n",
      "✅ File exists in S3: s3://wri-cities-sandbox/identifyingLandSubdivisions/data/input/city_info/search_buffers/Gemena/Gemena_search_buffer.geoparquet\n",
      "✅ Successfully read file for Gemena: 1 rows\n",
      "✅ File exists in S3: s3://wri-cities-sandbox/identifyingLandSubdivisions/data/input/city_info/search_buffers/Conakry/Conakry_search_buffer.geoparquet\n",
      "✅ Successfully read file for Conakry: 1 rows\n",
      "✅ File exists in S3: s3://wri-cities-sandbox/identifyingLandSubdivisions/data/input/city_info/search_buffers/Nanchang/Nanchang_search_buffer.geoparquet\n",
      "✅ Successfully read file for Nanchang: 1 rows\n",
      "✅ File exists in S3: s3://wri-cities-sandbox/identifyingLandSubdivisions/data/input/city_info/search_buffers/Mawlamyine/Mawlamyine_search_buffer.geoparquet\n",
      "✅ Successfully read file for Mawlamyine: 1 rows\n",
      "✅ File exists in S3: s3://wri-cities-sandbox/identifyingLandSubdivisions/data/input/city_info/search_buffers/Goiania/Goiania_search_buffer.geoparquet\n",
      "✅ Successfully read file for Goiania: 2 rows\n",
      "✅ File exists in S3: s3://wri-cities-sandbox/identifyingLandSubdivisions/data/input/city_info/search_buffers/Amravati/Amravati_search_buffer.geoparquet\n",
      "✅ Successfully read file for Amravati: 1 rows\n",
      "✅ File exists in S3: s3://wri-cities-sandbox/identifyingLandSubdivisions/data/input/city_info/search_buffers/Goiania/Goiania_search_buffer.geoparquet\n",
      "✅ Successfully read file for Goiania: 2 rows\n",
      "✅ File exists in S3: s3://wri-cities-sandbox/identifyingLandSubdivisions/data/input/city_info/search_buffers/Kozhikode/Kozhikode_search_buffer.geoparquet\n",
      "✅ Successfully read file for Kozhikode: 1 rows\n",
      "✅ File exists in S3: s3://wri-cities-sandbox/identifyingLandSubdivisions/data/input/city_info/search_buffers/Gombe/Gombe_search_buffer.geoparquet\n",
      "✅ Successfully read file for Gombe: 1 rows\n",
      "✅ File exists in S3: s3://wri-cities-sandbox/identifyingLandSubdivisions/data/input/city_info/search_buffers/Mbuji-Mayi/Mbuji-Mayi_search_buffer.geoparquet\n",
      "✅ Successfully read file for Mbuji-Mayi: 1 rows\n",
      "✅ File exists in S3: s3://wri-cities-sandbox/identifyingLandSubdivisions/data/input/city_info/search_buffers/Jaipur/Jaipur_search_buffer.geoparquet\n",
      "✅ Successfully read file for Jaipur: 1 rows\n",
      "✅ File exists in S3: s3://wri-cities-sandbox/identifyingLandSubdivisions/data/input/city_info/search_buffers/Ankara/Ankara_search_buffer.geoparquet\n",
      "✅ Successfully read file for Ankara: 2 rows\n",
      "✅ File exists in S3: s3://wri-cities-sandbox/identifyingLandSubdivisions/data/input/city_info/search_buffers/Nanjing/Nanjing_search_buffer.geoparquet\n",
      "✅ Successfully read file for Nanjing: 2 rows\n",
      "✅ File exists in S3: s3://wri-cities-sandbox/identifyingLandSubdivisions/data/input/city_info/search_buffers/Constantine/Constantine_search_buffer.geoparquet\n",
      "✅ Successfully read file for Constantine: 1 rows\n",
      "✅ File exists in S3: s3://wri-cities-sandbox/identifyingLandSubdivisions/data/input/city_info/search_buffers/Gorgan/Gorgan_search_buffer.geoparquet\n",
      "✅ Successfully read file for Gorgan: 1 rows\n",
      "✅ File exists in S3: s3://wri-cities-sandbox/identifyingLandSubdivisions/data/input/city_info/search_buffers/Kuala_Lumpur/Kuala_Lumpur_search_buffer.geoparquet\n",
      "✅ Successfully read file for Kuala_Lumpur: 1 rows\n",
      "✅ File exists in S3: s3://wri-cities-sandbox/identifyingLandSubdivisions/data/input/city_info/search_buffers/Ankara/Ankara_search_buffer.geoparquet\n",
      "✅ Successfully read file for Ankara: 2 rows\n",
      "✅ File exists in S3: s3://wri-cities-sandbox/identifyingLandSubdivisions/data/input/city_info/search_buffers/Nanjing/Nanjing_search_buffer.geoparquet\n",
      "✅ Successfully read file for Nanjing: 2 rows\n",
      "✅ File exists in S3: s3://wri-cities-sandbox/identifyingLandSubdivisions/data/input/city_info/search_buffers/Annaba/Annaba_search_buffer.geoparquet\n",
      "✅ Successfully read file for Annaba: 1 rows\n",
      "✅ File exists in S3: s3://wri-cities-sandbox/identifyingLandSubdivisions/data/input/city_info/search_buffers/Nashik/Nashik_search_buffer.geoparquet\n",
      "✅ Successfully read file for Nashik: 1 rows\n",
      "✅ File exists in S3: s3://wri-cities-sandbox/identifyingLandSubdivisions/data/input/city_info/search_buffers/Guadalajara/Guadalajara_search_buffer.geoparquet\n",
      "✅ Successfully read file for Guadalajara: 1 rows\n",
      "✅ File exists in S3: s3://wri-cities-sandbox/identifyingLandSubdivisions/data/input/city_info/search_buffers/Cordoba/Cordoba_search_buffer.geoparquet\n",
      "✅ Successfully read file for Cordoba: 1 rows\n",
      "✅ File exists in S3: s3://wri-cities-sandbox/identifyingLandSubdivisions/data/input/city_info/search_buffers/Anqing/Anqing_search_buffer.geoparquet\n",
      "✅ Successfully read file for Anqing: 1 rows\n",
      "✅ File exists in S3: s3://wri-cities-sandbox/identifyingLandSubdivisions/data/input/city_info/search_buffers/Guatemala_City/Guatemala_City_search_buffer.geoparquet\n",
      "✅ Successfully read file for Guatemala_City: 1 rows\n",
      "✅ File exists in S3: s3://wri-cities-sandbox/identifyingLandSubdivisions/data/input/city_info/search_buffers/Nasiriyah/Nasiriyah_search_buffer.geoparquet\n",
      "✅ Successfully read file for Nasiriyah: 1 rows\n",
      "✅ File exists in S3: s3://wri-cities-sandbox/identifyingLandSubdivisions/data/input/city_info/search_buffers/Antalya/Antalya_search_buffer.geoparquet\n",
      "✅ Successfully read file for Antalya: 1 rows\n",
      "✅ File exists in S3: s3://wri-cities-sandbox/identifyingLandSubdivisions/data/input/city_info/search_buffers/Culiacan/Culiacan_search_buffer.geoparquet\n",
      "✅ Successfully read file for Culiacan: 1 rows\n",
      "✅ File exists in S3: s3://wri-cities-sandbox/identifyingLandSubdivisions/data/input/city_info/search_buffers/Ndola/Ndola_search_buffer.geoparquet\n",
      "✅ Successfully read file for Ndola: 1 rows\n",
      "✅ File exists in S3: s3://wri-cities-sandbox/identifyingLandSubdivisions/data/input/city_info/search_buffers/Curico/Curico_search_buffer.geoparquet\n",
      "✅ Successfully read file for Curico: 1 rows\n",
      "✅ File exists in S3: s3://wri-cities-sandbox/identifyingLandSubdivisions/data/input/city_info/search_buffers/Nouakchott/Nouakchott_search_buffer.geoparquet\n",
      "✅ Successfully read file for Nouakchott: 1 rows\n",
      "✅ File exists in S3: s3://wri-cities-sandbox/identifyingLandSubdivisions/data/input/city_info/search_buffers/Curitiba/Curitiba_search_buffer.geoparquet\n",
      "✅ Successfully read file for Curitiba: 1 rows\n",
      "✅ File exists in S3: s3://wri-cities-sandbox/identifyingLandSubdivisions/data/input/city_info/search_buffers/Antananarivo/Antananarivo_search_buffer.geoparquet\n",
      "✅ Successfully read file for Antananarivo: 1 rows\n",
      "✅ File exists in S3: s3://wri-cities-sandbox/identifyingLandSubdivisions/data/input/city_info/search_buffers/Oshogbo/Oshogbo_search_buffer.geoparquet\n",
      "✅ Successfully read file for Oshogbo: 1 rows\n",
      "✅ File exists in S3: s3://wri-cities-sandbox/identifyingLandSubdivisions/data/input/city_info/search_buffers/Guelmim/Guelmim_search_buffer.geoparquet\n",
      "✅ Successfully read file for Guelmim: 1 rows\n",
      "✅ File exists in S3: s3://wri-cities-sandbox/identifyingLandSubdivisions/data/input/city_info/search_buffers/Jakarta/Jakarta_search_buffer.geoparquet\n",
      "✅ Successfully read file for Jakarta: 1 rows\n",
      "✅ File exists in S3: s3://wri-cities-sandbox/identifyingLandSubdivisions/data/input/city_info/search_buffers/Guixi/Guixi_search_buffer.geoparquet\n",
      "✅ Successfully read file for Guixi: 1 rows\n",
      "✅ File exists in S3: s3://wri-cities-sandbox/identifyingLandSubdivisions/data/input/city_info/search_buffers/Anyang/Anyang_search_buffer.geoparquet\n",
      "✅ Successfully read file for Anyang: 1 rows\n",
      "✅ File exists in S3: s3://wri-cities-sandbox/identifyingLandSubdivisions/data/input/city_info/search_buffers/Gujranwala/Gujranwala_search_buffer.geoparquet\n",
      "✅ Successfully read file for Gujranwala: 1 rows\n",
      "✅ File exists in S3: s3://wri-cities-sandbox/identifyingLandSubdivisions/data/input/city_info/search_buffers/Osorno/Osorno_search_buffer.geoparquet\n",
      "✅ Successfully read file for Osorno: 1 rows\n",
      "✅ File exists in S3: s3://wri-cities-sandbox/identifyingLandSubdivisions/data/input/city_info/search_buffers/Arak/Arak_search_buffer.geoparquet\n",
      "✅ Successfully read file for Arak: 1 rows\n",
      "✅ File exists in S3: s3://wri-cities-sandbox/identifyingLandSubdivisions/data/input/city_info/search_buffers/Gwangju/Gwangju_search_buffer.geoparquet\n",
      "✅ Successfully read file for Gwangju: 1 rows\n",
      "✅ File exists in S3: s3://wri-cities-sandbox/identifyingLandSubdivisions/data/input/city_info/search_buffers/Dakar/Dakar_search_buffer.geoparquet\n",
      "✅ Successfully read file for Dakar: 1 rows\n",
      "✅ File exists in S3: s3://wri-cities-sandbox/identifyingLandSubdivisions/data/input/city_info/search_buffers/Ouagadougou/Ouagadougou_search_buffer.geoparquet\n",
      "✅ Successfully read file for Ouagadougou: 1 rows\n",
      "✅ File exists in S3: s3://wri-cities-sandbox/identifyingLandSubdivisions/data/input/city_info/search_buffers/Arusha/Arusha_search_buffer.geoparquet\n",
      "✅ Successfully read file for Arusha: 1 rows\n",
      "✅ File exists in S3: s3://wri-cities-sandbox/identifyingLandSubdivisions/data/input/city_info/search_buffers/Bukavu/Bukavu_search_buffer.geoparquet\n",
      "✅ Successfully read file for Bukavu: 1 rows\n",
      "✅ File exists in S3: s3://wri-cities-sandbox/identifyingLandSubdivisions/data/input/city_info/search_buffers/Kuching/Kuching_search_buffer.geoparquet\n",
      "✅ Successfully read file for Kuching: 1 rows\n",
      "✅ File exists in S3: s3://wri-cities-sandbox/identifyingLandSubdivisions/data/input/city_info/search_buffers/Haikou/Haikou_search_buffer.geoparquet\n",
      "✅ Successfully read file for Haikou: 1 rows\n",
      "✅ File exists in S3: s3://wri-cities-sandbox/identifyingLandSubdivisions/data/input/city_info/search_buffers/Bukhara/Bukhara_search_buffer.geoparquet\n",
      "✅ Successfully read file for Bukhara: 1 rows\n",
      "✅ File exists in S3: s3://wri-cities-sandbox/identifyingLandSubdivisions/data/input/city_info/search_buffers/Kumasi/Kumasi_search_buffer.geoparquet\n",
      "✅ Successfully read file for Kumasi: 1 rows\n",
      "✅ File exists in S3: s3://wri-cities-sandbox/identifyingLandSubdivisions/data/input/city_info/search_buffers/Hama/Hama_search_buffer.geoparquet\n",
      "✅ Successfully read file for Hama: 1 rows\n",
      "✅ File exists in S3: s3://wri-cities-sandbox/identifyingLandSubdivisions/data/input/city_info/search_buffers/Asuncion/Asuncion_search_buffer.geoparquet\n",
      "✅ Successfully read file for Asuncion: 1 rows\n",
      "✅ File exists in S3: s3://wri-cities-sandbox/identifyingLandSubdivisions/data/input/city_info/search_buffers/Hangzhou/Hangzhou_search_buffer.geoparquet\n",
      "✅ Successfully read file for Hangzhou: 1 rows\n",
      "✅ File exists in S3: s3://wri-cities-sandbox/identifyingLandSubdivisions/data/input/city_info/search_buffers/Buraydah/Buraydah_search_buffer.geoparquet\n",
      "✅ Successfully read file for Buraydah: 1 rows\n",
      "✅ File exists in S3: s3://wri-cities-sandbox/identifyingLandSubdivisions/data/input/city_info/search_buffers/Kunming/Kunming_search_buffer.geoparquet\n",
      "✅ Successfully read file for Kunming: 1 rows\n",
      "✅ File exists in S3: s3://wri-cities-sandbox/identifyingLandSubdivisions/data/input/city_info/search_buffers/Bacolod/Bacolod_search_buffer.geoparquet\n",
      "✅ Successfully read file for Bacolod: 1 rows\n",
      "✅ File exists in S3: s3://wri-cities-sandbox/identifyingLandSubdivisions/data/input/city_info/search_buffers/Burewala/Burewala_search_buffer.geoparquet\n",
      "✅ Successfully read file for Burewala: 1 rows\n",
      "✅ File exists in S3: s3://wri-cities-sandbox/identifyingLandSubdivisions/data/input/city_info/search_buffers/Kuwait_City/Kuwait_City_search_buffer.geoparquet\n",
      "✅ Successfully read file for Kuwait_City: 1 rows\n",
      "✅ File exists in S3: s3://wri-cities-sandbox/identifyingLandSubdivisions/data/input/city_info/search_buffers/Dalat/Dalat_search_buffer.geoparquet\n",
      "✅ Successfully read file for Dalat: 1 rows\n",
      "✅ File exists in S3: s3://wri-cities-sandbox/identifyingLandSubdivisions/data/input/city_info/search_buffers/Bursa/Bursa_search_buffer.geoparquet\n",
      "✅ Successfully read file for Bursa: 1 rows\n",
      "✅ File exists in S3: s3://wri-cities-sandbox/identifyingLandSubdivisions/data/input/city_info/search_buffers/Busan/Busan_search_buffer.geoparquet\n",
      "✅ Successfully read file for Busan: 1 rows\n",
      "✅ File exists in S3: s3://wri-cities-sandbox/identifyingLandSubdivisions/data/input/city_info/search_buffers/Daloa/Daloa_search_buffer.geoparquet\n",
      "✅ Successfully read file for Daloa: 1 rows\n",
      "✅ File exists in S3: s3://wri-cities-sandbox/identifyingLandSubdivisions/data/input/city_info/search_buffers/Damascus/Damascus_search_buffer.geoparquet\n",
      "✅ Successfully read file for Damascus: 1 rows\n",
      "✅ File exists in S3: s3://wri-cities-sandbox/identifyingLandSubdivisions/data/input/city_info/search_buffers/Oujda/Oujda_search_buffer.geoparquet\n",
      "✅ Successfully read file for Oujda: 1 rows\n",
      "✅ File exists in S3: s3://wri-cities-sandbox/identifyingLandSubdivisions/data/input/city_info/search_buffers/Laghouat/Laghouat_search_buffer.geoparquet\n",
      "✅ Successfully read file for Laghouat: 1 rows\n",
      "✅ File exists in S3: s3://wri-cities-sandbox/identifyingLandSubdivisions/data/input/city_info/search_buffers/Bac_Lieu/Bac_Lieu_search_buffer.geoparquet\n",
      "✅ Successfully read file for Bac_Lieu: 1 rows\n",
      "✅ File exists in S3: s3://wri-cities-sandbox/identifyingLandSubdivisions/data/input/city_info/search_buffers/Lagos/Lagos_search_buffer.geoparquet\n",
      "✅ Successfully read file for Lagos: 1 rows\n",
      "✅ File exists in S3: s3://wri-cities-sandbox/identifyingLandSubdivisions/data/input/city_info/search_buffers/Oyo/Oyo_search_buffer.geoparquet\n",
      "✅ Successfully read file for Oyo: 1 rows\n",
      "✅ File exists in S3: s3://wri-cities-sandbox/identifyingLandSubdivisions/data/input/city_info/search_buffers/Dar_es_Salaam/Dar_es_Salaam_search_buffer.geoparquet\n",
      "✅ Successfully read file for Dar_es_Salaam: 1 rows\n",
      "✅ File exists in S3: s3://wri-cities-sandbox/identifyingLandSubdivisions/data/input/city_info/search_buffers/Baghdad/Baghdad_search_buffer.geoparquet\n",
      "✅ Successfully read file for Baghdad: 1 rows\n",
      "✅ File exists in S3: s3://wri-cities-sandbox/identifyingLandSubdivisions/data/input/city_info/search_buffers/Cabimas/Cabimas_search_buffer.geoparquet\n",
      "✅ Successfully read file for Cabimas: 1 rows\n",
      "✅ File exists in S3: s3://wri-cities-sandbox/identifyingLandSubdivisions/data/input/city_info/search_buffers/Harbin/Harbin_search_buffer.geoparquet\n",
      "✅ Successfully read file for Harbin: 1 rows\n",
      "✅ File exists in S3: s3://wri-cities-sandbox/identifyingLandSubdivisions/data/input/city_info/search_buffers/Cabo_Frio/Cabo_Frio_search_buffer.geoparquet\n",
      "✅ Successfully read file for Cabo_Frio: 1 rows\n",
      "✅ File exists in S3: s3://wri-cities-sandbox/identifyingLandSubdivisions/data/input/city_info/search_buffers/Havana/Havana_search_buffer.geoparquet\n",
      "✅ Successfully read file for Havana: 1 rows\n",
      "✅ File exists in S3: s3://wri-cities-sandbox/identifyingLandSubdivisions/data/input/city_info/search_buffers/Bicheng/Bicheng_search_buffer.geoparquet\n",
      "✅ Successfully read file for Bicheng: 1 rows\n",
      "✅ File exists in S3: s3://wri-cities-sandbox/identifyingLandSubdivisions/data/input/city_info/search_buffers/Baku/Baku_search_buffer.geoparquet\n",
      "✅ Successfully read file for Baku: 1 rows\n",
      "✅ File exists in S3: s3://wri-cities-sandbox/identifyingLandSubdivisions/data/input/city_info/search_buffers/Cairo/Cairo_search_buffer.geoparquet\n",
      "✅ Successfully read file for Cairo: 1 rows\n",
      "✅ File exists in S3: s3://wri-cities-sandbox/identifyingLandSubdivisions/data/input/city_info/search_buffers/Hengyang/Hengyang_search_buffer.geoparquet\n",
      "✅ Successfully read file for Hengyang: 1 rows\n",
      "✅ File exists in S3: s3://wri-cities-sandbox/identifyingLandSubdivisions/data/input/city_info/search_buffers/Heze/Heze_search_buffer.geoparquet\n",
      "✅ Successfully read file for Heze: 1 rows\n",
      "✅ File exists in S3: s3://wri-cities-sandbox/identifyingLandSubdivisions/data/input/city_info/search_buffers/Bamako/Bamako_search_buffer.geoparquet\n",
      "✅ Successfully read file for Bamako: 1 rows\n",
      "✅ File exists in S3: s3://wri-cities-sandbox/identifyingLandSubdivisions/data/input/city_info/search_buffers/David/David_search_buffer.geoparquet\n",
      "✅ Successfully read file for David: 1 rows\n",
      "✅ File exists in S3: s3://wri-cities-sandbox/identifyingLandSubdivisions/data/input/city_info/search_buffers/Denpasar/Denpasar_search_buffer.geoparquet\n",
      "✅ Successfully read file for Denpasar: 1 rows\n",
      "✅ File exists in S3: s3://wri-cities-sandbox/identifyingLandSubdivisions/data/input/city_info/search_buffers/Bamenda/Bamenda_search_buffer.geoparquet\n",
      "✅ Successfully read file for Bamenda: 1 rows\n",
      "✅ File exists in S3: s3://wri-cities-sandbox/identifyingLandSubdivisions/data/input/city_info/search_buffers/Bandar_Lampung/Bandar_Lampung_search_buffer.geoparquet\n",
      "✅ Successfully read file for Bandar_Lampung: 1 rows\n",
      "✅ File exists in S3: s3://wri-cities-sandbox/identifyingLandSubdivisions/data/input/city_info/search_buffers/Bandung/Bandung_search_buffer.geoparquet\n",
      "✅ Successfully read file for Bandung: 1 rows\n",
      "✅ File exists in S3: s3://wri-cities-sandbox/identifyingLandSubdivisions/data/input/city_info/search_buffers/Dezhou/Dezhou_search_buffer.geoparquet\n",
      "✅ Successfully read file for Dezhou: 1 rows\n",
      "✅ File exists in S3: s3://wri-cities-sandbox/identifyingLandSubdivisions/data/input/city_info/search_buffers/Dhaka/Dhaka_search_buffer.geoparquet\n",
      "✅ Successfully read file for Dhaka: 1 rows\n",
      "✅ File exists in S3: s3://wri-cities-sandbox/identifyingLandSubdivisions/data/input/city_info/search_buffers/Dinajpur/Dinajpur_search_buffer.geoparquet\n",
      "✅ Successfully read file for Dinajpur: 1 rows\n",
      "✅ File exists in S3: s3://wri-cities-sandbox/identifyingLandSubdivisions/data/input/city_info/search_buffers/Diyarbakir/Diyarbakir_search_buffer.geoparquet\n",
      "✅ Successfully read file for Diyarbakir: 1 rows\n",
      "✅ File exists in S3: s3://wri-cities-sandbox/identifyingLandSubdivisions/data/input/city_info/search_buffers/Djibouti/Djibouti_search_buffer.geoparquet\n",
      "✅ Successfully read file for Djibouti: 1 rows\n",
      "✅ File exists in S3: s3://wri-cities-sandbox/identifyingLandSubdivisions/data/input/city_info/search_buffers/Doha/Doha_search_buffer.geoparquet\n",
      "✅ Successfully read file for Doha: 1 rows\n",
      "✅ File exists in S3: s3://wri-cities-sandbox/identifyingLandSubdivisions/data/input/city_info/search_buffers/Bangkok/Bangkok_search_buffer.geoparquet\n",
      "✅ Successfully read file for Bangkok: 1 rows\n",
      "✅ File exists in S3: s3://wri-cities-sandbox/identifyingLandSubdivisions/data/input/city_info/search_buffers/Jalna/Jalna_search_buffer.geoparquet\n",
      "✅ Successfully read file for Jalna: 1 rows\n",
      "✅ File exists in S3: s3://wri-cities-sandbox/identifyingLandSubdivisions/data/input/city_info/search_buffers/Cali/Cali_search_buffer.geoparquet\n",
      "✅ Successfully read file for Cali: 1 rows\n",
      "✅ File exists in S3: s3://wri-cities-sandbox/identifyingLandSubdivisions/data/input/city_info/search_buffers/Jambi/Jambi_search_buffer.geoparquet\n",
      "✅ Successfully read file for Jambi: 1 rows\n",
      "✅ File exists in S3: s3://wri-cities-sandbox/identifyingLandSubdivisions/data/input/city_info/search_buffers/Campinas/Campinas_search_buffer.geoparquet\n",
      "✅ Successfully read file for Campinas: 1 rows\n",
      "✅ File exists in S3: s3://wri-cities-sandbox/identifyingLandSubdivisions/data/input/city_info/search_buffers/Jeddah/Jeddah_search_buffer.geoparquet\n",
      "✅ Successfully read file for Jeddah: 1 rows\n",
      "✅ File exists in S3: s3://wri-cities-sandbox/identifyingLandSubdivisions/data/input/city_info/search_buffers/Jequie/Jequie_search_buffer.geoparquet\n",
      "✅ Successfully read file for Jequie: 1 rows\n",
      "✅ File exists in S3: s3://wri-cities-sandbox/identifyingLandSubdivisions/data/input/city_info/search_buffers/Jerusalem/Jerusalem_search_buffer.geoparquet\n",
      "✅ Successfully read file for Jerusalem: 1 rows\n",
      "✅ File exists in S3: s3://wri-cities-sandbox/identifyingLandSubdivisions/data/input/city_info/search_buffers/Can_Tho/Can_Tho_search_buffer.geoparquet\n",
      "✅ Successfully read file for Can_Tho: 1 rows\n",
      "✅ File exists in S3: s3://wri-cities-sandbox/identifyingLandSubdivisions/data/input/city_info/search_buffers/Jiamusi/Jiamusi_search_buffer.geoparquet\n",
      "✅ Successfully read file for Jiamusi: 1 rows\n",
      "✅ File exists in S3: s3://wri-cities-sandbox/identifyingLandSubdivisions/data/input/city_info/search_buffers/Jimeta/Jimeta_search_buffer.geoparquet\n",
      "✅ Successfully read file for Jimeta: 1 rows\n",
      "✅ File exists in S3: s3://wri-cities-sandbox/identifyingLandSubdivisions/data/input/city_info/search_buffers/Jinan/Jinan_search_buffer.geoparquet\n",
      "✅ Successfully read file for Jinan: 2 rows\n",
      "✅ File exists in S3: s3://wri-cities-sandbox/identifyingLandSubdivisions/data/input/city_info/search_buffers/Jiancheng/Jiancheng_search_buffer.geoparquet\n",
      "✅ Successfully read file for Jiancheng: 1 rows\n",
      "✅ File exists in S3: s3://wri-cities-sandbox/identifyingLandSubdivisions/data/input/city_info/search_buffers/Jingzhou/Jingzhou_search_buffer.geoparquet\n",
      "✅ Successfully read file for Jingzhou: 2 rows\n",
      "✅ File exists in S3: s3://wri-cities-sandbox/identifyingLandSubdivisions/data/input/city_info/search_buffers/Jinjiang/Jinjiang_search_buffer.geoparquet\n",
      "✅ Successfully read file for Jinjiang: 1 rows\n",
      "✅ File exists in S3: s3://wri-cities-sandbox/identifyingLandSubdivisions/data/input/city_info/search_buffers/Jinan/Jinan_search_buffer.geoparquet\n",
      "✅ Successfully read file for Jinan: 2 rows\n",
      "✅ File exists in S3: s3://wri-cities-sandbox/identifyingLandSubdivisions/data/input/city_info/search_buffers/Jingzhou/Jingzhou_search_buffer.geoparquet\n",
      "✅ Successfully read file for Jingzhou: 2 rows\n",
      "✅ File exists in S3: s3://wri-cities-sandbox/identifyingLandSubdivisions/data/input/city_info/search_buffers/Jiujiang/Jiujiang_search_buffer.geoparquet\n",
      "✅ Successfully read file for Jiujiang: 1 rows\n",
      "✅ File exists in S3: s3://wri-cities-sandbox/identifyingLandSubdivisions/data/input/city_info/search_buffers/Joao_Pessoa/Joao_Pessoa_search_buffer.geoparquet\n",
      "✅ Successfully read file for Joao_Pessoa: 1 rows\n",
      "✅ File exists in S3: s3://wri-cities-sandbox/identifyingLandSubdivisions/data/input/city_info/search_buffers/Johannesburg/Johannesburg_search_buffer.geoparquet\n",
      "✅ Successfully read file for Johannesburg: 1 rows\n",
      "Tasks completed in 3767.35 seconds.\n"
     ]
    }
   ],
   "source": [
    "import time\n",
    "start_time = time.time()  # Start the timer\n",
    "\n",
    "#%autoreload\n",
    "from gather_data_cities import run_all\n",
    "run_all(cities) \n",
    "\n",
    "end_time = time.time()  # End the timer\n",
    "elapsed_time = end_time - start_time\n",
    "\n",
    "print(f\"Tasks completed in {elapsed_time:.2f} seconds.\")"
   ]
  },
  {
   "cell_type": "code",
   "execution_count": 5,
   "id": "d7f3b850-598d-49ed-889f-86dc08c6a8a9",
   "metadata": {},
   "outputs": [
    {
     "name": "stdout",
     "output_type": "stream",
     "text": [
      "✅ Belo_Horizonte: Successfully loaded Overture buildings.\n",
      "📂 Loading Parquet roads data for Belo_Horizonte...\n",
      "✅ Successfully loaded roads data for Belo_Horizonte\n",
      "   - Columns: ['u', 'v', 'key', 'osmid', 'highway', 'lanes', 'name', 'oneway', 'ref', 'reversed', 'length', 'geometry', 'maxspeed', 'junction', 'access', 'bridge', 'tunnel', 'service', 'width', 'area', 'landuse']\n",
      "✅ Successfully loaded intersections data for Belo_Horizonte\n"
     ]
    },
    {
     "name": "stderr",
     "output_type": "stream",
     "text": [
      "/opt/coiled/env/lib/python3.12/site-packages/distributed/client.py:3370: UserWarning: Sending large graph of size 566.77 MiB.\n",
      "This may cause some slowdown.\n",
      "Consider loading the data with Dask directly\n",
      " or using futures or delayed objects to embed the data into the graph without repetition.\n",
      "See also https://docs.dask.org/en/stable/best-practices.html#load-data-with-dask for more information.\n",
      "  warnings.warn(\n"
     ]
    },
    {
     "name": "stdout",
     "output_type": "stream",
     "text": [
      "👾 Entering project and process.\n",
      "✅ Buildings data loaded with 1610905 records.\n",
      "✅ Succesfuly projected buildings, roads and intersections.\n",
      "✅ Succesfully performed unary union on road network.\n",
      "✅ Succesfully calculated blocks.\n",
      "📦 Returning from project_and_process() for city:\n",
      "   - Overture: <class 'geopandas.geodataframe.GeoDataFrame'>\n",
      "   - Blocks: <class 'geopandas.geodataframe.GeoDataFrame'>\n",
      "   - Roads: <class 'geopandas.geodataframe.GeoDataFrame'>\n",
      "   - Intersections: <class 'geopandas.geodataframe.GeoDataFrame'>\n",
      "   - Road union: <class 'shapely.geometry.multilinestring.MultiLineString'>\n",
      "   - UTM Projection: 32723\n",
      "✅ Bogota: Successfully loaded Overture buildings.\n",
      "📂 Loading Parquet roads data for Bogota...\n",
      "✅ Successfully loaded roads data for Bogota\n",
      "   - Columns: ['u', 'v', 'key', 'osmid', 'highway', 'lanes', 'name', 'oneway', 'reversed', 'length', 'maxspeed', 'geometry', 'ref', 'junction', 'access', 'bridge', 'service', 'width', 'tunnel', 'area']\n",
      "✅ Successfully loaded intersections data for Bogota\n"
     ]
    },
    {
     "name": "stderr",
     "output_type": "stream",
     "text": [
      "/opt/coiled/env/lib/python3.12/site-packages/distributed/client.py:3370: UserWarning: Sending large graph of size 278.07 MiB.\n",
      "This may cause some slowdown.\n",
      "Consider loading the data with Dask directly\n",
      " or using futures or delayed objects to embed the data into the graph without repetition.\n",
      "See also https://docs.dask.org/en/stable/best-practices.html#load-data-with-dask for more information.\n",
      "  warnings.warn(\n"
     ]
    },
    {
     "name": "stdout",
     "output_type": "stream",
     "text": [
      "👾 Entering project and process.\n",
      "✅ Buildings data loaded with 559620 records.\n",
      "✅ Succesfuly projected buildings, roads and intersections.\n",
      "✅ Succesfully performed unary union on road network.\n",
      "✅ Succesfully calculated blocks.\n",
      "📦 Returning from project_and_process() for city:\n",
      "   - Overture: <class 'geopandas.geodataframe.GeoDataFrame'>\n",
      "   - Blocks: <class 'geopandas.geodataframe.GeoDataFrame'>\n",
      "   - Roads: <class 'geopandas.geodataframe.GeoDataFrame'>\n",
      "   - Intersections: <class 'geopandas.geodataframe.GeoDataFrame'>\n",
      "   - Road union: <class 'shapely.geometry.multilinestring.MultiLineString'>\n",
      "   - UTM Projection: 32618\n"
     ]
    },
    {
     "name": "stderr",
     "output_type": "stream",
     "text": [
      "/opt/coiled/env/lib/python3.12/site-packages/distributed/client.py:3370: UserWarning: Sending large graph of size 0.91 GiB.\n",
      "This may cause some slowdown.\n",
      "Consider loading the data with Dask directly\n",
      " or using futures or delayed objects to embed the data into the graph without repetition.\n",
      "See also https://docs.dask.org/en/stable/best-practices.html#load-data-with-dask for more information.\n",
      "  warnings.warn(\n"
     ]
    },
    {
     "name": "stdout",
     "output_type": "stream",
     "text": [
      "👾 Entering process_city in Bogota.\n",
      "📌 Starting processing for Bogota\n",
      "📂 Bogota city grid columns: ['geometry', 'intersects_analysis_area']\n",
      "🆔 Bogota city grid index name: None\n",
      "🔄 Assigning index as 'grid_id' for Bogota\n",
      "🗺 CRS Check for Bogota:\n",
      "   📌 Grid CRS: {\"$schema\": \"https://proj.org/schemas/v0.7/projjson.schema.json\", \"type\": \"GeographicCRS\", \"name\": \"WGS 84\", \"datum_ensemble\": {\"name\": \"World Geodetic System 1984 ensemble\", \"members\": [{\"name\": \"World Geodetic System 1984 (Transit)\"}, {\"name\": \"World Geodetic System 1984 (G730)\"}, {\"name\": \"World Geodetic System 1984 (G873)\"}, {\"name\": \"World Geodetic System 1984 (G1150)\"}, {\"name\": \"World Geodetic System 1984 (G1674)\"}, {\"name\": \"World Geodetic System 1984 (G1762)\"}, {\"name\": \"World Geodetic System 1984 (G2139)\"}, {\"name\": \"World Geodetic System 1984 (G2296)\"}], \"ellipsoid\": {\"name\": \"WGS 84\", \"semi_major_axis\": 6378137, \"inverse_flattening\": 298.257223563}, \"accuracy\": \"2.0\", \"id\": {\"authority\": \"EPSG\", \"code\": 6326}}, \"coordinate_system\": {\"subtype\": \"ellipsoidal\", \"axis\": [{\"name\": \"Geodetic latitude\", \"abbreviation\": \"Lat\", \"direction\": \"north\", \"unit\": \"degree\"}, {\"name\": \"Geodetic longitude\", \"abbreviation\": \"Lon\", \"direction\": \"east\", \"unit\": \"degree\"}]}, \"scope\": \"Horizontal component of 3D system.\", \"area\": \"World.\", \"bbox\": {\"south_latitude\": -90, \"west_longitude\": -180, \"north_latitude\": 90, \"east_longitude\": 180}, \"id\": {\"authority\": \"EPSG\", \"code\": 4326}}\n",
      "   🏢 Buildings CRS: EPSG:32618\n",
      "   🛣 Roads CRS: EPSG:32618\n",
      "   🚦 Intersections CRS: EPSG:32618\n",
      "👾 Entering clip_features_to_rectangles.\n",
      "👾 Entering process_city in Belo_Horizonte.\n",
      "📌 Starting processing for Belo_Horizonte\n",
      "📂 Belo_Horizonte city grid columns: ['geometry', 'intersects_analysis_area']\n",
      "🆔 Belo_Horizonte city grid index name: None\n",
      "🔄 Assigning index as 'grid_id' for Belo_Horizonte\n",
      "🗺 CRS Check for Belo_Horizonte:\n",
      "   📌 Grid CRS: {\"$schema\": \"https://proj.org/schemas/v0.7/projjson.schema.json\", \"type\": \"GeographicCRS\", \"name\": \"WGS 84\", \"datum_ensemble\": {\"name\": \"World Geodetic System 1984 ensemble\", \"members\": [{\"name\": \"World Geodetic System 1984 (Transit)\"}, {\"name\": \"World Geodetic System 1984 (G730)\"}, {\"name\": \"World Geodetic System 1984 (G873)\"}, {\"name\": \"World Geodetic System 1984 (G1150)\"}, {\"name\": \"World Geodetic System 1984 (G1674)\"}, {\"name\": \"World Geodetic System 1984 (G1762)\"}, {\"name\": \"World Geodetic System 1984 (G2139)\"}, {\"name\": \"World Geodetic System 1984 (G2296)\"}], \"ellipsoid\": {\"name\": \"WGS 84\", \"semi_major_axis\": 6378137, \"inverse_flattening\": 298.257223563}, \"accuracy\": \"2.0\", \"id\": {\"authority\": \"EPSG\", \"code\": 6326}}, \"coordinate_system\": {\"subtype\": \"ellipsoidal\", \"axis\": [{\"name\": \"Geodetic latitude\", \"abbreviation\": \"Lat\", \"direction\": \"north\", \"unit\": \"degree\"}, {\"name\": \"Geodetic longitude\", \"abbreviation\": \"Lon\", \"direction\": \"east\", \"unit\": \"degree\"}]}, \"scope\": \"Horizontal component of 3D system.\", \"area\": \"World.\", \"bbox\": {\"south_latitude\": -90, \"west_longitude\": -180, \"north_latitude\": 90, \"east_longitude\": 180}, \"id\": {\"authority\": \"EPSG\", \"code\": 4326}}\n",
      "   🏢 Buildings CRS: EPSG:32723\n",
      "   🛣 Roads CRS: EPSG:32723\n",
      "   🚦 Intersections CRS: EPSG:32723\n",
      "👾 Entering clip_features_to_rectangles.\n",
      "Starting cell calculations\n",
      "Starting cell calculations\n",
      "   - Cell 0: Type=<class 'dask.delayed.Delayed'>\n",
      "   - Cell 1: Type=<class 'dask.delayed.Delayed'>\n",
      "   - Cell 2: Type=<class 'dask.delayed.Delayed'>\n",
      "   - Cell 3: Type=<class 'dask.delayed.Delayed'>\n",
      "   - Cell 4: Type=<class 'dask.delayed.Delayed'>\n",
      "🚨 m8 assigned to 1 because building_to_block_share was zero.\n"
     ]
    },
    {
     "name": "stderr",
     "output_type": "stream",
     "text": [
      "/opt/coiled/env/lib/python3.12/site-packages/geopandas/array.py:1638: UserWarning: CRS not set for some of the concatenation inputs. Setting output's CRS as WGS 84 / UTM zone 18N (the single non-null crs provided).\n",
      "  return GeometryArray(data, crs=_get_common_crs(to_concat))\n"
     ]
    },
    {
     "name": "stdout",
     "output_type": "stream",
     "text": [
      "🔄 Converting final_geo_df to Dask GeoDataFrame\n",
      "🚨 m8 assigned to 1 because building_to_block_share was zero.\n",
      "🚨 m8 assigned to 1 because building_to_block_share was zero.\n",
      "🚨 m8 assigned to 1 because building_to_block_share was zero.\n"
     ]
    },
    {
     "name": "stderr",
     "output_type": "stream",
     "text": [
      "/opt/coiled/env/lib/python3.12/site-packages/geopandas/array.py:1638: UserWarning: CRS not set for some of the concatenation inputs. Setting output's CRS as WGS 84 / UTM zone 18N (the single non-null crs provided).\n",
      "  return GeometryArray(data, crs=_get_common_crs(to_concat))\n"
     ]
    },
    {
     "name": "stdout",
     "output_type": "stream",
     "text": [
      "🚨 m8 assigned to 1 because building_to_block_share was zero.\n",
      "🚨 m8 assigned to 1 because building_to_block_share was zero.\n"
     ]
    },
    {
     "name": "stderr",
     "output_type": "stream",
     "text": [
      "/opt/coiled/env/lib/python3.12/site-packages/geopandas/array.py:1638: UserWarning: CRS not set for some of the concatenation inputs. Setting output's CRS as WGS 84 / UTM zone 18N (the single non-null crs provided).\n",
      "  return GeometryArray(data, crs=_get_common_crs(to_concat))\n"
     ]
    },
    {
     "name": "stdout",
     "output_type": "stream",
     "text": [
      "🚨 m8 assigned to 1 because building_to_block_share was zero.\n",
      "🚨 m8 assigned to 1 because building_to_block_share was zero.\n"
     ]
    },
    {
     "name": "stderr",
     "output_type": "stream",
     "text": [
      "/opt/coiled/env/lib/python3.12/site-packages/geopandas/array.py:1638: UserWarning: CRS not set for some of the concatenation inputs. Setting output's CRS as WGS 84 / UTM zone 18N (the single non-null crs provided).\n",
      "  return GeometryArray(data, crs=_get_common_crs(to_concat))\n"
     ]
    },
    {
     "name": "stdout",
     "output_type": "stream",
     "text": [
      "🚨 m8 assigned to 1 because building_to_block_share was zero.\n",
      "🚨 m8 assigned to 1 because building_to_block_share was zero.\n",
      "🚨 m8 assigned to 1 because building_to_block_share was zero.\n",
      "🚨 m8 assigned to 1 because building_to_block_share was zero.\n"
     ]
    },
    {
     "name": "stderr",
     "output_type": "stream",
     "text": [
      "/opt/coiled/env/lib/python3.12/site-packages/geopandas/array.py:1638: UserWarning: CRS not set for some of the concatenation inputs. Setting output's CRS as WGS 84 / UTM zone 18N (the single non-null crs provided).\n",
      "  return GeometryArray(data, crs=_get_common_crs(to_concat))\n"
     ]
    },
    {
     "name": "stdout",
     "output_type": "stream",
     "text": [
      "🚨 m8 assigned to 1 because building_to_block_share was zero.\n",
      "🚨 m8 assigned to 1 because building_to_block_share was zero.\n"
     ]
    },
    {
     "name": "stderr",
     "output_type": "stream",
     "text": [
      "/opt/coiled/env/lib/python3.12/site-packages/geopandas/array.py:1638: UserWarning: CRS not set for some of the concatenation inputs. Setting output's CRS as WGS 84 / UTM zone 18N (the single non-null crs provided).\n",
      "  return GeometryArray(data, crs=_get_common_crs(to_concat))\n"
     ]
    },
    {
     "name": "stdout",
     "output_type": "stream",
     "text": [
      "🚨 m8 assigned to 1 because building_to_block_share was zero.\n"
     ]
    },
    {
     "name": "stderr",
     "output_type": "stream",
     "text": [
      "/opt/coiled/env/lib/python3.12/site-packages/geopandas/array.py:1638: UserWarning: CRS not set for some of the concatenation inputs. Setting output's CRS as WGS 84 / UTM zone 18N (the single non-null crs provided).\n",
      "  return GeometryArray(data, crs=_get_common_crs(to_concat))\n"
     ]
    },
    {
     "name": "stdout",
     "output_type": "stream",
     "text": [
      "🚨 m8 assigned to 1 because building_to_block_share was zero.\n",
      "🚨 m8 assigned to 1 because building_to_block_share was zero.\n"
     ]
    },
    {
     "name": "stderr",
     "output_type": "stream",
     "text": [
      "/opt/coiled/env/lib/python3.12/site-packages/geopandas/array.py:1638: UserWarning: CRS not set for some of the concatenation inputs. Setting output's CRS as WGS 84 / UTM zone 18N (the single non-null crs provided).\n",
      "  return GeometryArray(data, crs=_get_common_crs(to_concat))\n",
      "/opt/coiled/env/lib/python3.12/site-packages/geopandas/array.py:1638: UserWarning: CRS not set for some of the concatenation inputs. Setting output's CRS as WGS 84 / UTM zone 18N (the single non-null crs provided).\n",
      "  return GeometryArray(data, crs=_get_common_crs(to_concat))\n"
     ]
    },
    {
     "name": "stdout",
     "output_type": "stream",
     "text": [
      "🚨 m8 assigned to 1 because building_to_block_share was zero.\n",
      "🚨 m8 assigned to 1 because building_to_block_share was zero.\n"
     ]
    },
    {
     "name": "stderr",
     "output_type": "stream",
     "text": [
      "/opt/coiled/env/lib/python3.12/site-packages/geopandas/array.py:1638: UserWarning: CRS not set for some of the concatenation inputs. Setting output's CRS as WGS 84 / UTM zone 18N (the single non-null crs provided).\n",
      "  return GeometryArray(data, crs=_get_common_crs(to_concat))\n",
      "/opt/coiled/env/lib/python3.12/site-packages/geopandas/array.py:1638: UserWarning: CRS not set for some of the concatenation inputs. Setting output's CRS as WGS 84 / UTM zone 18N (the single non-null crs provided).\n",
      "  return GeometryArray(data, crs=_get_common_crs(to_concat))\n"
     ]
    },
    {
     "name": "stdout",
     "output_type": "stream",
     "text": [
      "🚨 m8 assigned to 1 because building_to_block_share was zero.\n",
      "🚨 m8 assigned to 1 because building_to_block_share was zero.\n",
      "🚨 m8 assigned to 1 because building_to_block_share was zero.\n",
      "🚨 m8 assigned to 1 because building_to_block_share was zero.\n"
     ]
    },
    {
     "name": "stderr",
     "output_type": "stream",
     "text": [
      "/opt/coiled/env/lib/python3.12/site-packages/geopandas/array.py:1638: UserWarning: CRS not set for some of the concatenation inputs. Setting output's CRS as WGS 84 / UTM zone 18N (the single non-null crs provided).\n",
      "  return GeometryArray(data, crs=_get_common_crs(to_concat))\n",
      "/opt/coiled/env/lib/python3.12/site-packages/geopandas/array.py:1638: UserWarning: CRS not set for some of the concatenation inputs. Setting output's CRS as WGS 84 / UTM zone 18N (the single non-null crs provided).\n",
      "  return GeometryArray(data, crs=_get_common_crs(to_concat))\n"
     ]
    },
    {
     "name": "stdout",
     "output_type": "stream",
     "text": [
      "🚨 m8 assigned to 1 because building_to_block_share was zero.\n",
      "🚨 m8 assigned to 1 because building_to_block_share was zero.\n",
      "🚨 m8 assigned to 1 because building_to_block_share was zero.\n",
      "🚨 m8 assigned to 1 because building_to_block_share was zero.\n"
     ]
    },
    {
     "name": "stderr",
     "output_type": "stream",
     "text": [
      "/opt/coiled/env/lib/python3.12/site-packages/geopandas/array.py:1638: UserWarning: CRS not set for some of the concatenation inputs. Setting output's CRS as WGS 84 / UTM zone 18N (the single non-null crs provided).\n",
      "  return GeometryArray(data, crs=_get_common_crs(to_concat))\n"
     ]
    },
    {
     "name": "stdout",
     "output_type": "stream",
     "text": [
      "🚨 m8 assigned to 1 because building_to_block_share was zero.\n",
      "🚨 m8 assigned to 1 because building_to_block_share was zero.\n",
      "🚨 m8 assigned to 1 because building_to_block_share was zero.\n",
      "🚨 m8 assigned to 1 because building_to_block_share was zero.\n",
      "🚨 m8 assigned to 1 because building_to_block_share was zero.\n",
      "🚨 m8 assigned to 1 because building_to_block_share was zero.\n",
      "🚨 m8 assigned to 1 because building_to_block_share was zero.\n",
      "🚨 m8 assigned to 1 because building_to_block_share was zero.\n",
      "🚨 m8 assigned to 1 because building_to_block_share was zero.\n",
      "🚨 m8 assigned to 1 because building_to_block_share was zero.\n",
      "🚨 m8 assigned to 1 because building_to_block_share was zero.\n",
      "🚨 m8 assigned to 1 because building_to_block_share was zero.\n"
     ]
    },
    {
     "name": "stderr",
     "output_type": "stream",
     "text": [
      "/opt/coiled/env/lib/python3.12/site-packages/geopandas/array.py:1638: UserWarning: CRS not set for some of the concatenation inputs. Setting output's CRS as WGS 84 / UTM zone 18N (the single non-null crs provided).\n",
      "  return GeometryArray(data, crs=_get_common_crs(to_concat))\n"
     ]
    },
    {
     "name": "stdout",
     "output_type": "stream",
     "text": [
      "🚨 m8 assigned to 1 because building_to_block_share was zero.\n",
      "🚨 m8 assigned to 1 because building_to_block_share was zero.\n"
     ]
    },
    {
     "name": "stderr",
     "output_type": "stream",
     "text": [
      "/opt/coiled/env/lib/python3.12/site-packages/geopandas/array.py:1638: UserWarning: CRS not set for some of the concatenation inputs. Setting output's CRS as WGS 84 / UTM zone 18N (the single non-null crs provided).\n",
      "  return GeometryArray(data, crs=_get_common_crs(to_concat))\n",
      "/opt/coiled/env/lib/python3.12/site-packages/geopandas/array.py:1638: UserWarning: CRS not set for some of the concatenation inputs. Setting output's CRS as WGS 84 / UTM zone 18N (the single non-null crs provided).\n",
      "  return GeometryArray(data, crs=_get_common_crs(to_concat))\n",
      "/opt/coiled/env/lib/python3.12/site-packages/geopandas/array.py:1638: UserWarning: CRS not set for some of the concatenation inputs. Setting output's CRS as WGS 84 / UTM zone 18N (the single non-null crs provided).\n",
      "  return GeometryArray(data, crs=_get_common_crs(to_concat))\n"
     ]
    },
    {
     "name": "stdout",
     "output_type": "stream",
     "text": [
      "🚨 m8 assigned to 1 because building_to_block_share was zero.\n",
      "🚨 m8 assigned to 1 because building_to_block_share was zero.\n"
     ]
    },
    {
     "name": "stderr",
     "output_type": "stream",
     "text": [
      "/opt/coiled/env/lib/python3.12/site-packages/geopandas/array.py:1638: UserWarning: CRS not set for some of the concatenation inputs. Setting output's CRS as WGS 84 / UTM zone 18N (the single non-null crs provided).\n",
      "  return GeometryArray(data, crs=_get_common_crs(to_concat))\n",
      "/opt/coiled/env/lib/python3.12/site-packages/geopandas/array.py:1638: UserWarning: CRS not set for some of the concatenation inputs. Setting output's CRS as WGS 84 / UTM zone 18N (the single non-null crs provided).\n",
      "  return GeometryArray(data, crs=_get_common_crs(to_concat))\n"
     ]
    },
    {
     "name": "stdout",
     "output_type": "stream",
     "text": [
      "🚨 m8 assigned to 1 because building_to_block_share was zero.\n"
     ]
    },
    {
     "name": "stderr",
     "output_type": "stream",
     "text": [
      "/opt/coiled/env/lib/python3.12/site-packages/geopandas/array.py:1638: UserWarning: CRS not set for some of the concatenation inputs. Setting output's CRS as WGS 84 / UTM zone 18N (the single non-null crs provided).\n",
      "  return GeometryArray(data, crs=_get_common_crs(to_concat))\n"
     ]
    },
    {
     "name": "stdout",
     "output_type": "stream",
     "text": [
      "🚨 m8 assigned to 1 because building_to_block_share was zero.\n",
      "🚨 m8 assigned to 1 because building_to_block_share was zero.\n",
      "🚨 m8 assigned to 1 because building_to_block_share was zero.\n",
      "🚨 m8 assigned to 1 because building_to_block_share was zero.\n",
      "🚨 m8 assigned to 1 because building_to_block_share was zero.\n",
      "🚨 m8 assigned to 1 because building_to_block_share was zero.\n",
      "🚨 m8 assigned to 1 because building_to_block_share was zero.\n",
      "🚨 m8 assigned to 1 because building_to_block_share was zero.\n",
      "🚨 m8 assigned to 1 because building_to_block_share was zero.\n"
     ]
    },
    {
     "name": "stderr",
     "output_type": "stream",
     "text": [
      "/opt/coiled/env/lib/python3.12/site-packages/geopandas/array.py:1638: UserWarning: CRS not set for some of the concatenation inputs. Setting output's CRS as WGS 84 / UTM zone 18N (the single non-null crs provided).\n",
      "  return GeometryArray(data, crs=_get_common_crs(to_concat))\n"
     ]
    },
    {
     "name": "stdout",
     "output_type": "stream",
     "text": [
      "🚨 m8 assigned to 1 because building_to_block_share was zero.\n",
      "🚨 m8 assigned to 1 because building_to_block_share was zero.\n",
      "🚨 m8 assigned to 1 because building_to_block_share was zero.\n",
      "🚨 m8 assigned to 1 because building_to_block_share was zero.\n",
      "🚨 m8 assigned to 1 because building_to_block_share was zero.\n",
      "🚨 m8 assigned to 1 because building_to_block_share was zero.\n",
      "🚨 m8 assigned to 1 because building_to_block_share was zero.\n",
      "🚨 m8 assigned to 1 because building_to_block_share was zero.\n"
     ]
    },
    {
     "name": "stderr",
     "output_type": "stream",
     "text": [
      "/opt/coiled/env/lib/python3.12/site-packages/geopandas/array.py:1638: UserWarning: CRS not set for some of the concatenation inputs. Setting output's CRS as WGS 84 / UTM zone 18N (the single non-null crs provided).\n",
      "  return GeometryArray(data, crs=_get_common_crs(to_concat))\n"
     ]
    },
    {
     "name": "stdout",
     "output_type": "stream",
     "text": [
      "🚨 m8 assigned to 1 because building_to_block_share was zero.\n",
      "🚨 m8 assigned to 1 because building_to_block_share was zero.\n"
     ]
    },
    {
     "name": "stderr",
     "output_type": "stream",
     "text": [
      "/opt/coiled/env/lib/python3.12/site-packages/geopandas/array.py:1638: UserWarning: CRS not set for some of the concatenation inputs. Setting output's CRS as WGS 84 / UTM zone 18N (the single non-null crs provided).\n",
      "  return GeometryArray(data, crs=_get_common_crs(to_concat))\n"
     ]
    },
    {
     "name": "stdout",
     "output_type": "stream",
     "text": [
      "🚨 m8 assigned to 1 because building_to_block_share was zero.\n",
      "🚨 m8 assigned to 1 because building_to_block_share was zero.\n",
      "🚨 m8 assigned to 1 because building_to_block_share was zero.\n"
     ]
    },
    {
     "name": "stderr",
     "output_type": "stream",
     "text": [
      "/opt/coiled/env/lib/python3.12/site-packages/geopandas/array.py:1638: UserWarning: CRS not set for some of the concatenation inputs. Setting output's CRS as WGS 84 / UTM zone 18N (the single non-null crs provided).\n",
      "  return GeometryArray(data, crs=_get_common_crs(to_concat))\n"
     ]
    },
    {
     "name": "stdout",
     "output_type": "stream",
     "text": [
      "🚨 m8 assigned to 1 because building_to_block_share was zero.\n",
      "✅ Temporary save for computation for city Bogota in folder ./Bogota_200m_results/\n",
      "   - Cell 0: Type=<class 'dask.delayed.Delayed'>\n",
      "   - Cell 1: Type=<class 'dask.delayed.Delayed'>\n",
      "   - Cell 2: Type=<class 'dask.delayed.Delayed'>\n",
      "   - Cell 3: Type=<class 'dask.delayed.Delayed'>\n",
      "   - Cell 4: Type=<class 'dask.delayed.Delayed'>\n"
     ]
    },
    {
     "name": "stderr",
     "output_type": "stream",
     "text": [
      "/opt/coiled/env/lib/python3.12/site-packages/distributed/client.py:3370: UserWarning: Sending large graph of size 9.95 MiB.\n",
      "This may cause some slowdown.\n",
      "Consider loading the data with Dask directly\n",
      " or using futures or delayed objects to embed the data into the graph without repetition.\n",
      "See also https://docs.dask.org/en/stable/best-practices.html#load-data-with-dask for more information.\n",
      "  warnings.warn(\n"
     ]
    },
    {
     "name": "stdout",
     "output_type": "stream",
     "text": [
      "🔄 Converting final_geo_df to Dask GeoDataFrame\n",
      "🚨 m8 assigned to 1 because building_to_block_share was zero.\n",
      "🚨 m8 assigned to 1 because building_to_block_share was zero.\n",
      "🚨 m8 assigned to 1 because building_to_block_share was zero.\n",
      "🚨 m8 assigned to 1 because building_to_block_share was zero.\n",
      "🚨 m8 assigned to 1 because building_to_block_share was zero.\n"
     ]
    },
    {
     "name": "stderr",
     "output_type": "stream",
     "text": [
      "/opt/coiled/env/lib/python3.12/site-packages/geopandas/array.py:1638: UserWarning: CRS not set for some of the concatenation inputs. Setting output's CRS as WGS 84 / UTM zone 23S (the single non-null crs provided).\n",
      "  return GeometryArray(data, crs=_get_common_crs(to_concat))\n"
     ]
    },
    {
     "name": "stdout",
     "output_type": "stream",
     "text": [
      "🚨 m8 assigned to 1 because building_to_block_share was zero.\n",
      "🚨 m8 assigned to 1 because building_to_block_share was zero.\n",
      "🚨 m8 assigned to 1 because building_to_block_share was zero.\n",
      "🚨 m8 assigned to 1 because building_to_block_share was zero.\n",
      "🚨 m8 assigned to 1 because building_to_block_share was zero.\n",
      "🚨 m8 assigned to 1 because building_to_block_share was zero.\n",
      "🚨 m8 assigned to 1 because building_to_block_share was zero.\n",
      "🚨 m8 assigned to 1 because building_to_block_share was zero.\n",
      "🚨 m8 assigned to 1 because building_to_block_share was zero.\n",
      "🚨 m8 assigned to 1 because building_to_block_share was zero.\n",
      "🚨 m8 assigned to 1 because building_to_block_share was zero.\n",
      "🚨 m8 assigned to 1 because building_to_block_share was zero.\n",
      "🚨 m8 assigned to 1 because building_to_block_share was zero.\n",
      "🚨 m8 assigned to 1 because building_to_block_share was zero.\n",
      "🚨 m8 assigned to 1 because building_to_block_share was zero.\n",
      "🚨 m8 assigned to 1 because building_to_block_share was zero.\n",
      "🚨 m8 assigned to 1 because building_to_block_share was zero.\n",
      "🚨 m8 assigned to 1 because building_to_block_share was zero.\n",
      "🚨 m8 assigned to 1 because building_to_block_share was zero.\n",
      "🚨 m8 assigned to 1 because building_to_block_share was zero.\n",
      "🚨 m8 assigned to 1 because building_to_block_share was zero.\n"
     ]
    },
    {
     "name": "stderr",
     "output_type": "stream",
     "text": [
      "/opt/coiled/env/lib/python3.12/site-packages/geopandas/array.py:1638: UserWarning: CRS not set for some of the concatenation inputs. Setting output's CRS as WGS 84 / UTM zone 23S (the single non-null crs provided).\n",
      "  return GeometryArray(data, crs=_get_common_crs(to_concat))\n"
     ]
    },
    {
     "name": "stdout",
     "output_type": "stream",
     "text": [
      "🚨 m8 assigned to 1 because building_to_block_share was zero.\n",
      "🚨 m8 assigned to 1 because building_to_block_share was zero.\n",
      "🚨 m8 assigned to 1 because building_to_block_share was zero.\n",
      "🚨 m8 assigned to 1 because building_to_block_share was zero.\n",
      "🚨 m8 assigned to 1 because building_to_block_share was zero.\n",
      "🚨 m8 assigned to 1 because building_to_block_share was zero.\n",
      "🚨 m8 assigned to 1 because building_to_block_share was zero.\n"
     ]
    },
    {
     "name": "stderr",
     "output_type": "stream",
     "text": [
      "/opt/coiled/env/lib/python3.12/site-packages/geopandas/array.py:1638: UserWarning: CRS not set for some of the concatenation inputs. Setting output's CRS as WGS 84 / UTM zone 23S (the single non-null crs provided).\n",
      "  return GeometryArray(data, crs=_get_common_crs(to_concat))\n"
     ]
    },
    {
     "name": "stdout",
     "output_type": "stream",
     "text": [
      "🚨 m8 assigned to 1 because building_to_block_share was zero.\n",
      "🚨 m8 assigned to 1 because building_to_block_share was zero.\n",
      "🚨 m8 assigned to 1 because building_to_block_share was zero.\n",
      "✅ Successfully processed and saved Bogota to s3://wri-cities-sandbox/identifyingLandSubdivisions/data/output/raw_results/Bogota/raw_results_200\n",
      "✅ (And temporary file was deleted) Bogota to s3://wri-cities-sandbox/identifyingLandSubdivisions/data/output/raw_results/Bogota/raw_results_200\n",
      "🚨 m8 assigned to 1 because building_to_block_share was zero.\n",
      "🚨 m8 assigned to 1 because building_to_block_share was zero.\n",
      "🚨 m8 assigned to 1 because building_to_block_share was zero.\n",
      "🚨 m8 assigned to 1 because building_to_block_share was zero.\n"
     ]
    },
    {
     "name": "stderr",
     "output_type": "stream",
     "text": [
      "/opt/coiled/env/lib/python3.12/site-packages/geopandas/array.py:1638: UserWarning: CRS not set for some of the concatenation inputs. Setting output's CRS as WGS 84 / UTM zone 23S (the single non-null crs provided).\n",
      "  return GeometryArray(data, crs=_get_common_crs(to_concat))\n"
     ]
    },
    {
     "name": "stdout",
     "output_type": "stream",
     "text": [
      "🚨 m8 assigned to 1 because building_to_block_share was zero.\n",
      "🚨 m8 assigned to 1 because building_to_block_share was zero.\n"
     ]
    },
    {
     "name": "stderr",
     "output_type": "stream",
     "text": [
      "/opt/coiled/env/lib/python3.12/site-packages/geopandas/array.py:1638: UserWarning: CRS not set for some of the concatenation inputs. Setting output's CRS as WGS 84 / UTM zone 23S (the single non-null crs provided).\n",
      "  return GeometryArray(data, crs=_get_common_crs(to_concat))\n"
     ]
    },
    {
     "name": "stdout",
     "output_type": "stream",
     "text": [
      "🚨 m8 assigned to 1 because building_to_block_share was zero.\n",
      "🚨 m8 assigned to 1 because building_to_block_share was zero.\n",
      "🚨 m8 assigned to 1 because building_to_block_share was zero.\n",
      "🚨 m8 assigned to 1 because building_to_block_share was zero.\n",
      "🚨 m8 assigned to 1 because building_to_block_share was zero.\n"
     ]
    },
    {
     "name": "stderr",
     "output_type": "stream",
     "text": [
      "/opt/coiled/env/lib/python3.12/site-packages/geopandas/array.py:1638: UserWarning: CRS not set for some of the concatenation inputs. Setting output's CRS as WGS 84 / UTM zone 23S (the single non-null crs provided).\n",
      "  return GeometryArray(data, crs=_get_common_crs(to_concat))\n"
     ]
    },
    {
     "name": "stdout",
     "output_type": "stream",
     "text": [
      "🚨 m8 assigned to 1 because building_to_block_share was zero.\n",
      "🚨 m8 assigned to 1 because building_to_block_share was zero.\n",
      "🚨 m8 assigned to 1 because building_to_block_share was zero.\n",
      "🚨 m8 assigned to 1 because building_to_block_share was zero.\n",
      "🚨 m8 assigned to 1 because building_to_block_share was zero.\n"
     ]
    },
    {
     "name": "stderr",
     "output_type": "stream",
     "text": [
      "/opt/coiled/env/lib/python3.12/site-packages/geopandas/array.py:1638: UserWarning: CRS not set for some of the concatenation inputs. Setting output's CRS as WGS 84 / UTM zone 23S (the single non-null crs provided).\n",
      "  return GeometryArray(data, crs=_get_common_crs(to_concat))\n"
     ]
    },
    {
     "name": "stdout",
     "output_type": "stream",
     "text": [
      "🚨 m8 assigned to 1 because building_to_block_share was zero.\n",
      "🚨 m8 assigned to 1 because building_to_block_share was zero.\n",
      "🚨 m8 assigned to 1 because building_to_block_share was zero.\n",
      "🚨 m8 assigned to 1 because building_to_block_share was zero.\n"
     ]
    },
    {
     "name": "stderr",
     "output_type": "stream",
     "text": [
      "/opt/coiled/env/lib/python3.12/site-packages/geopandas/array.py:1638: UserWarning: CRS not set for some of the concatenation inputs. Setting output's CRS as WGS 84 / UTM zone 23S (the single non-null crs provided).\n",
      "  return GeometryArray(data, crs=_get_common_crs(to_concat))\n"
     ]
    },
    {
     "name": "stdout",
     "output_type": "stream",
     "text": [
      "🚨 m8 assigned to 1 because building_to_block_share was zero.\n",
      "🚨 m8 assigned to 1 because building_to_block_share was zero.\n"
     ]
    },
    {
     "name": "stderr",
     "output_type": "stream",
     "text": [
      "/opt/coiled/env/lib/python3.12/site-packages/geopandas/array.py:1638: UserWarning: CRS not set for some of the concatenation inputs. Setting output's CRS as WGS 84 / UTM zone 23S (the single non-null crs provided).\n",
      "  return GeometryArray(data, crs=_get_common_crs(to_concat))\n"
     ]
    },
    {
     "name": "stdout",
     "output_type": "stream",
     "text": [
      "🚨 m8 assigned to 1 because building_to_block_share was zero.\n",
      "🚨 m8 assigned to 1 because building_to_block_share was zero.\n",
      "🚨 m8 assigned to 1 because building_to_block_share was zero.\n",
      "🚨 m8 assigned to 1 because building_to_block_share was zero.\n",
      "🚨 m8 assigned to 1 because building_to_block_share was zero.\n",
      "🚨 m8 assigned to 1 because building_to_block_share was zero.\n",
      "✅ Temporary save for computation for city Belo_Horizonte in folder ./Belo_Horizonte_200m_results/\n",
      "✅ Successfully processed and saved Belo_Horizonte to s3://wri-cities-sandbox/identifyingLandSubdivisions/data/output/raw_results/Belo_Horizonte/raw_results_200\n",
      "✅ (And temporary file was deleted) Belo_Horizonte to s3://wri-cities-sandbox/identifyingLandSubdivisions/data/output/raw_results/Belo_Horizonte/raw_results_200\n",
      "Tasks completed in 379.31 seconds.\n"
     ]
    }
   ],
   "source": [
    "import time\n",
    "start_time = time.time()  # Start the timer\n",
    "\n",
    "#%autoreload\n",
    "from citywide_calculation import run_all_citywide_calculation\n",
    "run_all_citywide_calculation(cities,sample_prop=0.01) \n",
    "\n",
    "end_time = time.time()  # End the timer\n",
    "elapsed_time = end_time - start_time\n",
    "\n",
    "print(f\"Tasks completed in {elapsed_time:.2f} seconds.\")"
   ]
  },
  {
   "cell_type": "code",
   "execution_count": null,
   "id": "4608ae11-7126-453e-bad9-6bde7e1827a5",
   "metadata": {},
   "outputs": [],
   "source": []
  },
  {
   "cell_type": "markdown",
   "id": "e1528e04",
   "metadata": {},
   "source": [
    "## Run 1\n",
    "cities = 12\n",
    "seconds = 505.27\n",
    "instance_type = 'm6i.xlarge'\n",
    "\n",
    "sec/city = seconds / cities\n",
    "\n"
   ]
  },
  {
   "cell_type": "code",
   "execution_count": null,
   "id": "4c50e70d-a724-4b76-afbb-b310d2f9e114",
   "metadata": {},
   "outputs": [],
   "source": []
  }
 ],
 "metadata": {
  "kernelspec": {
   "display_name": "Python 3 (ipykernel)",
   "language": "python",
   "name": "python3"
  },
  "language_info": {
   "codemirror_mode": {
    "name": "ipython",
    "version": 3
   },
   "file_extension": ".py",
   "mimetype": "text/x-python",
   "name": "python",
   "nbconvert_exporter": "python",
   "pygments_lexer": "ipython3",
   "version": "3.12.9"
  }
 },
 "nbformat": 4,
 "nbformat_minor": 5
}
